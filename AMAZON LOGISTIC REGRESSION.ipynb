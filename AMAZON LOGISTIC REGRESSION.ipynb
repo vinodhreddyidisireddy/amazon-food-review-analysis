{
 "cells": [
  {
   "cell_type": "markdown",
   "metadata": {},
   "source": [
    "# Amazon Fine Food Reviews Analysis\n",
    "\n",
    "\n",
    "Data Source: https://www.kaggle.com/snap/amazon-fine-food-reviews <br>\n",
    "\n",
    "EDA: https://nycdatascience.com/blog/student-works/amazon-fine-foods-visualization/\n",
    "\n",
    "\n",
    "The Amazon Fine Food Reviews dataset consists of reviews of fine foods from Amazon.<br>\n",
    "\n",
    "Number of reviews: 568,454<br>\n",
    "Number of users: 256,059<br>\n",
    "Number of products: 74,258<br>\n",
    "Timespan: Oct 1999 - Oct 2012<br>\n",
    "Number of Attributes/Columns in data: 10 \n",
    "\n",
    "Attribute Information:\n",
    "\n",
    "1. Id\n",
    "2. ProductId - unique identifier for the product\n",
    "3. UserId - unqiue identifier for the user\n",
    "4. ProfileName\n",
    "5. HelpfulnessNumerator - number of users who found the review helpful\n",
    "6. HelpfulnessDenominator - number of users who indicated whether they found the review helpful or not\n",
    "7. Score - rating between 1 and 5\n",
    "8. Time - timestamp for the review\n",
    "9. Summary - brief summary of the review\n",
    "10. Text - text of the review\n",
    "\n",
    "\n",
    "#### Objective:\n",
    "Given a review, determine whether the review is positive (rating of 4 or 5) or negative (rating of 1 or 2).\n",
    "\n",
    "<br>\n",
    "[Q] How to determine if a review is positive or negative?<br>\n",
    "<br> \n",
    "[Ans] We could use Score/Rating. A rating of 4 or 5 can be cosnidered as a positive review. A rating of 1 or 2 can be considered as negative one. A review of rating 3 is considered nuetral and such reviews are ignored from our analysis. This is an approximate and proxy way of determining the polarity (positivity/negativity) of a review.\n",
    "\n",
    "\n"
   ]
  },
  {
   "cell_type": "markdown",
   "metadata": {},
   "source": [
    "# [1]. Reading Data"
   ]
  },
  {
   "cell_type": "markdown",
   "metadata": {},
   "source": [
    "# [1.1] Loading the data\n",
    "\n",
    "The dataset is available in two forms\n",
    "1. .csv file\n",
    "2. SQLite Database\n",
    "\n",
    "In order to load the data, We have used the SQLITE dataset as it is easier to query the data and visualise the data efficiently.\n",
    "<br> \n",
    "\n",
    "Here as we only want to get the global sentiment of the recommendations (positive or negative), we will purposefully ignore all Scores equal to 3. If the score is above 3, then the recommendation wil be set to \"positive\". Otherwise, it will be set to \"negative\"."
   ]
  },
  {
   "cell_type": "code",
   "execution_count": 1,
   "metadata": {},
   "outputs": [],
   "source": [
    "import sqlite3\n",
    "import pandas as pd\n",
    "import numpy as np\n",
    "import nltk\n",
    "import string\n",
    "import matplotlib.pyplot as plt\n",
    "import seaborn as sns\n",
    "from sklearn.feature_extraction.text import TfidfTransformer\n",
    "from sklearn.feature_extraction.text import TfidfVectorizer\n",
    "\n",
    "from sklearn.feature_extraction.text import CountVectorizer\n",
    "from sklearn.metrics import confusion_matrix\n",
    "from sklearn import metrics\n",
    "from sklearn.metrics import roc_curve, auc\n",
    "\n",
    "# Tutorial about Python regular expressions: https://pymotw.com/2/re/\n",
    "import re\n",
    "import string\n",
    "from nltk.corpus import stopwords            #importing stopwords \n",
    "from nltk.stem import SnowballStemmer\n",
    "from nltk.stem.wordnet import WordNetLemmatizer\n",
    "\n",
    "from sklearn.model_selection import train_test_split\n",
    "from collections import Counter\n",
    "from sklearn.metrics import accuracy_score\n",
    "from sklearn.linear_model import LogisticRegression\n",
    "from sklearn.preprocessing import StandardScaler\n",
    "from sklearn.model_selection import GridSearchCV\n",
    "\n",
    "from sklearn.metrics import confusion_matrix\n",
    "from sklearn.metrics import f1_score\n",
    "from sklearn.metrics import precision_score\n",
    "from sklearn.metrics import recall_score\n",
    "import math\n",
    "import pickle\n",
    "\n"
   ]
  },
  {
   "cell_type": "code",
   "execution_count": 2,
   "metadata": {},
   "outputs": [
    {
     "name": "stdout",
     "output_type": "stream",
     "text": [
      "   Id   ProductId          UserId ProfileName  HelpfulnessNumerator  \\\n",
      "0   1  B001E4KFG0  A3SGXH7AUHU8GW  delmartian                     1   \n",
      "1   2  B00813GRG4  A1D87F6ZCVE5NK      dll pa                     0   \n",
      "\n",
      "   HelpfulnessDenominator  Score        Time                Summary  \\\n",
      "0                       1      5  1303862400  Good Quality Dog Food   \n",
      "1                       0      1  1346976000      Not as Advertised   \n",
      "\n",
      "                                                Text  \n",
      "0  I have bought several of the Vitality canned d...  \n",
      "1  Product arrived labeled as Jumbo Salted Peanut...  \n",
      "(568454, 10)\n"
     ]
    }
   ],
   "source": [
    "data = pd.read_csv('Reviews.csv')\n",
    "print (data.head(2))\n",
    "print(data.shape)"
   ]
  },
  {
   "cell_type": "markdown",
   "metadata": {},
   "source": [
    "## [2] Data Cleaning: Deduplication and Nan features\n",
    "\n",
    "It is observed (as shown in the table below) that the reviews data had many duplicate entries. Hence it was necessary to remove duplicates in order to get unbiased results for the analysis of the data.  Following is an example:"
   ]
  },
  {
   "cell_type": "code",
   "execution_count": 3,
   "metadata": {},
   "outputs": [
    {
     "data": {
      "text/plain": [
       "Id                        False\n",
       "ProductId                 False\n",
       "UserId                    False\n",
       "ProfileName                True\n",
       "HelpfulnessNumerator      False\n",
       "HelpfulnessDenominator    False\n",
       "Score                     False\n",
       "Time                      False\n",
       "Summary                    True\n",
       "Text                      False\n",
       "dtype: bool"
      ]
     },
     "execution_count": 3,
     "metadata": {},
     "output_type": "execute_result"
    }
   ],
   "source": [
    "#checking for Nan values in data. True indicates Nan values are present along the columns\n",
    "data.isnull().any()"
   ]
  },
  {
   "cell_type": "code",
   "execution_count": 4,
   "metadata": {},
   "outputs": [],
   "source": [
    "# checking for Nan values along 'profilename' column\n",
    "#data[data['ProfileName'].isnull()].head()"
   ]
  },
  {
   "cell_type": "code",
   "execution_count": 5,
   "metadata": {},
   "outputs": [],
   "source": [
    "# checking for Nan values along 'summary' column\n",
    "#data[data['Summary'].isnull()]"
   ]
  },
  {
   "cell_type": "code",
   "execution_count": 6,
   "metadata": {},
   "outputs": [],
   "source": [
    "#Dropping Nan values\n",
    "data = data.dropna()"
   ]
  },
  {
   "cell_type": "code",
   "execution_count": 7,
   "metadata": {},
   "outputs": [
    {
     "name": "stdout",
     "output_type": "stream",
     "text": [
      "(568411, 10)\n"
     ]
    }
   ],
   "source": [
    "#printing shape of data after dropping Nan values\n",
    "print (data.shape)"
   ]
  },
  {
   "cell_type": "code",
   "execution_count": 8,
   "metadata": {},
   "outputs": [
    {
     "data": {
      "text/plain": [
       "True"
      ]
     },
     "execution_count": 8,
     "metadata": {},
     "output_type": "execute_result"
    }
   ],
   "source": [
    "#Review score should lie between 1 to 5\n",
    "#Returns True if all the scores lie between 1 to 5(inclusive)\n",
    "list1 = data['Score'].map(lambda x: True if x in [1,2,3,4,5] else False)\n",
    "list1.all()"
   ]
  },
  {
   "cell_type": "code",
   "execution_count": 9,
   "metadata": {},
   "outputs": [
    {
     "name": "stdout",
     "output_type": "stream",
     "text": [
      "(525773, 10)\n"
     ]
    }
   ],
   "source": [
    "filtered_data = data.loc[data['Score']!=3].copy()\n",
    "#print (filtered_data.head())\n",
    "print (filtered_data.shape)"
   ]
  },
  {
   "cell_type": "code",
   "execution_count": 10,
   "metadata": {},
   "outputs": [
    {
     "name": "stdout",
     "output_type": "stream",
     "text": [
      "shape of filtered_data\n",
      "(525773, 10)\n",
      "   Id   ProductId          UserId ProfileName  HelpfulnessNumerator  \\\n",
      "0   1  B001E4KFG0  A3SGXH7AUHU8GW  delmartian                     1   \n",
      "1   2  B00813GRG4  A1D87F6ZCVE5NK      dll pa                     0   \n",
      "\n",
      "   HelpfulnessDenominator  Score        Time                Summary  \\\n",
      "0                       1      1  1303862400  Good Quality Dog Food   \n",
      "1                       0      0  1346976000      Not as Advertised   \n",
      "\n",
      "                                                Text  \n",
      "0  I have bought several of the Vitality canned d...  \n",
      "1  Product arrived labeled as Jumbo Salted Peanut...  \n"
     ]
    }
   ],
   "source": [
    "#mapping positive(>3) and negative(<3) reviews based on scores of the data.\n",
    "pos_negative = filtered_data['Score'].map(lambda x: 1 if int (x)>3  else 0)\n",
    "filtered_data['Score'] = pos_negative\n",
    "print ('shape of filtered_data')\n",
    "print (filtered_data.shape)\n",
    "print (filtered_data.head(2))\n"
   ]
  },
  {
   "cell_type": "code",
   "execution_count": 11,
   "metadata": {},
   "outputs": [],
   "source": [
    "#arranging data with increasing productid\n",
    "sorted_data = filtered_data.sort_values('ProductId',axis=0,ascending=True,inplace=False,kind='quicksort')"
   ]
  },
  {
   "cell_type": "code",
   "execution_count": 12,
   "metadata": {},
   "outputs": [],
   "source": [
    "#finding the duplicates in our data\n",
    "#If the same person gives for the same product at the same time we call it as suplicates\n",
    "#sorted_data.loc[sorted_data.duplicated([\"UserId\",\"ProfileName\",\"Time\",\"Text\"],keep = False),:]"
   ]
  },
  {
   "cell_type": "code",
   "execution_count": 13,
   "metadata": {},
   "outputs": [
    {
     "data": {
      "text/plain": [
       "161612"
      ]
     },
     "execution_count": 13,
     "metadata": {},
     "output_type": "execute_result"
    }
   ],
   "source": [
    "#counting number of duplicates present in our data\n",
    "sorted_data.duplicated([\"UserId\",\"ProfileName\",\"Time\",\"Text\"]).sum()"
   ]
  },
  {
   "cell_type": "code",
   "execution_count": 14,
   "metadata": {},
   "outputs": [
    {
     "data": {
      "text/plain": [
       "(364161, 10)"
      ]
     },
     "execution_count": 14,
     "metadata": {},
     "output_type": "execute_result"
    }
   ],
   "source": [
    "#dropping all duplicates keeping the first one\n",
    "final = sorted_data.drop_duplicates(subset={\"UserId\",\"ProfileName\",\"Time\",\"Text\"},keep='first',inplace = False)\n",
    "final.shape"
   ]
  },
  {
   "cell_type": "code",
   "execution_count": 15,
   "metadata": {},
   "outputs": [],
   "source": [
    "#helpfulness numerator denotes number of people who found the review helpful\n",
    "#helpfulness denominator denotes number of people who indicated whether or not the review helpful\n",
    "#so, helpfulness numerator should be less than denominator\n",
    "final = final[final.HelpfulnessNumerator<=final.HelpfulnessDenominator]"
   ]
  },
  {
   "cell_type": "code",
   "execution_count": 16,
   "metadata": {},
   "outputs": [
    {
     "data": {
      "text/plain": [
       "(364159, 10)"
      ]
     },
     "execution_count": 16,
     "metadata": {},
     "output_type": "execute_result"
    }
   ],
   "source": [
    "#final shape of data after preprocessing\n",
    "final.shape"
   ]
  },
  {
   "cell_type": "code",
   "execution_count": 17,
   "metadata": {},
   "outputs": [],
   "source": [
    "#arranging data with increasing productid\n",
    "final = final.sort_values('Time',axis=0,ascending=True,inplace=False,kind='quicksort')"
   ]
  },
  {
   "cell_type": "code",
   "execution_count": 18,
   "metadata": {},
   "outputs": [
    {
     "data": {
      "text/plain": [
       "1    307054\n",
       "0     57105\n",
       "Name: Score, dtype: int64"
      ]
     },
     "execution_count": 18,
     "metadata": {},
     "output_type": "execute_result"
    }
   ],
   "source": [
    "final['Score'].value_counts()"
   ]
  },
  {
   "cell_type": "code",
   "execution_count": 19,
   "metadata": {},
   "outputs": [],
   "source": [
    "final_data = final.iloc[0:100000,:].copy()"
   ]
  },
  {
   "cell_type": "code",
   "execution_count": 20,
   "metadata": {},
   "outputs": [
    {
     "data": {
      "text/plain": [
       "(100000, 10)"
      ]
     },
     "execution_count": 20,
     "metadata": {},
     "output_type": "execute_result"
    }
   ],
   "source": [
    "final_data.shape"
   ]
  },
  {
   "cell_type": "code",
   "execution_count": 21,
   "metadata": {},
   "outputs": [
    {
     "data": {
      "text/plain": [
       "1    87730\n",
       "0    12270\n",
       "Name: Score, dtype: int64"
      ]
     },
     "execution_count": 21,
     "metadata": {},
     "output_type": "execute_result"
    }
   ],
   "source": [
    "final_data['Score'].value_counts()"
   ]
  },
  {
   "cell_type": "markdown",
   "metadata": {},
   "source": [
    "#  [3] Preprocessing"
   ]
  },
  {
   "cell_type": "markdown",
   "metadata": {},
   "source": [
    "# [3.1].  Preprocessing Review Text\n",
    "\n",
    "Now that we have finished deduplication our data requires some preprocessing before we go on further with analysis and making the prediction model.\n",
    "\n",
    "Hence in the Preprocessing phase we do the following in the order below:-\n",
    "\n",
    "1. Begin by removing the html tags\n",
    "2. Remove any punctuations or limited set of special characters like , or . or # etc.\n",
    "3. Check if the word is made up of english letters and is not alpha-numeric\n",
    "4. Check to see if the length of the word is greater than 2 (as it was researched that there is no adjective in 2-letters)\n",
    "5. Convert the word to lowercase\n",
    "6. Remove Stopwords\n",
    "7. Finally Snowball Stemming the word (it was obsereved to be better than Porter Stemming)<br>\n",
    "\n",
    "After which we collect the words used to describe positive and negative reviews"
   ]
  },
  {
   "cell_type": "code",
   "execution_count": 98,
   "metadata": {},
   "outputs": [
    {
     "name": "stdout",
     "output_type": "stream",
     "text": [
      "[\"weren't\", \"didn't\", \"won't\", \"aren't\", \"hadn't\", \"wouldn't\", \"mustn't\", \"couldn't\", \"mightn't\", 'not', \"hasn't\", \"doesn't\", \"isn't\", \"don't\", \"shouldn't\", \"wasn't\", \"haven't\", \"shan't\", \"needn't\", \"n't\", 'no']\n",
      "************************************\n",
      "{'how', 'before', 'yourselves', 'if', 'is', 'have', 'during', 'same', 'our', 'some', 'hers', 'won', 'up', 'by', 'into', 'in', 'again', 'been', 'herself', 'doing', 'mustn', 'ain', 'she', 'them', 'm', 'their', 's', 'her', 'which', 'didn', \"you've\", 'having', 'being', \"that'll\", 'don', 'are', 'once', 'itself', 'for', 'from', 'those', 'that', 'more', 've', 're', 'at', 'while', 'd', 'until', 'when', 'where', \"you'll\", 'because', 'him', 'ourselves', 'his', 'here', 'all', 'about', 'weren', 'why', 'own', 'now', 'aren', \"she's\", 'but', 'very', 'these', 'shouldn', 'few', 'am', 'yourself', 't', 'myself', \"you'd\", 'any', 'so', 'and', 'this', 'doesn', 'there', 'through', 'out', 'under', 'were', 'mightn', 'we', 'theirs', 'ma', 'most', 'ours', 'does', 'y', 'the', 'against', 'did', 'be', 'off', 'o', 'themselves', 'as', 'of', 'haven', 'had', 'what', \"should've\", 'down', 'couldn', 'a', 'over', 'can', 'hadn', 'below', 'then', 'nor', 'hasn', 'should', 'needn', \"you're\", 'with', 'has', 'between', 'll', 'shan', 'each', 'he', 'both', 'or', 'i', 'your', 'wasn', 'wouldn', \"it's\", 'do', 'my', 'who', 'himself', 'was', 'to', 'on', 'an', 'too', 'after', 'such', 'further', 'its', 'will', 'me', 'it', 'above', 'they', 'than', 'just', 'you', 'other', 'whom', 'isn', 'only', 'yours'}\n"
     ]
    }
   ],
   "source": [
    "stop = set(stopwords.words('english')) #set of stopwords\n",
    "sno = nltk.stem.SnowballStemmer('english') #initialising the snowball stemmer\n",
    "not_words = re.findall(r'\\w*n[\\'|o]t',str (stop)) #finding NOT words in stop words\n",
    "not_words.append('n\\'t')\n",
    "not_words.append('no')\n",
    "print (not_words)\n",
    "stop_words = stop - set (not_words)  #removing  NOT words from stop words\n",
    "# https://stackoverflow.com/a/47091490/4084039\n",
    "import re\n",
    "\n",
    "def decontracted(phrase):\n",
    "    # specific\n",
    "    phrase = re.sub(r'\\w*n[\\'|o]t', \"not\", phrase)\n",
    "    # general\n",
    "    phrase = re.sub(r\"\\'re\", \" are\", phrase)\n",
    "    phrase = re.sub(r\"\\'s\", \" is\", phrase)\n",
    "    phrase = re.sub(r\"\\'d\", \" would\", phrase)\n",
    "    phrase = re.sub(r\"\\'ll\", \" will\", phrase)\n",
    "    phrase = re.sub(r\"\\'t\", \" not\", phrase)\n",
    "    phrase = re.sub(r\"\\'ve\", \" have\", phrase)\n",
    "    phrase = re.sub(r\"\\'m\", \" am\", phrase)\n",
    "    return phrase\n",
    "def cleanhtmlpunc(sentence): #function to clean the word of any html-tags\n",
    "    clean = re.compile('<.*?>')\n",
    "    clean = re.sub(clean, ' ', sentence)\n",
    "    clean = re.sub(r\"(http|www)\\S+\", \"\", clean)\n",
    "    clean = re.sub(r\"\\S+com\", \"\",clean)\n",
    "    #clean = re.sub(r\"\\(\\w+\\)\",\"\",clean)\n",
    "    clean = re.sub(r\"\\.\",\" \",clean)\n",
    "    cleaned = re.sub(r'[?+|!+|\\'+|\"+|#+|:+]',r' ',clean)\n",
    "    cleantext = re.sub(r'[\\.+|,+|)+|(+|\\+|/+]',r' ',cleaned)\n",
    "    return cleantext\n",
    "#def cleanpunc(sentence): #function to clean the word of any punctuation or special characters\n",
    "   # return  cleaned\n",
    "print('************************************')                 \n",
    "print(stop_words)"
   ]
  },
  {
   "cell_type": "code",
   "execution_count": 23,
   "metadata": {},
   "outputs": [],
   "source": [
    "def cleanedtext(reviews):\n",
    "    str1=' '\n",
    "    final_string=[]\n",
    "    s=''\n",
    "    for sent in reviews:\n",
    "        filtered_sentence=[]    \n",
    "        sent=cleanhtmlpunc(decontracted(sent)) # remove HTMl tags\n",
    "        for w in sent.split():\n",
    "            for cleaned_words in w.split():\n",
    "                if((cleaned_words.isalpha()) & (len(cleaned_words)>2)):    \n",
    "                    if((cleaned_words.lower() not in stop_words)):\n",
    "                        s=(sno.stem(cleaned_words.lower())).encode('utf8')\n",
    "                        filtered_sentence.append(s)\n",
    "                    else:\n",
    "                        continue\n",
    "                else:\n",
    "                    continue \n",
    "        str1 = b\" \".join(filtered_sentence) #final string of cleaned words for reviews\n",
    "        final_string.append(str1)\n",
    "    return final_string"
   ]
  },
  {
   "cell_type": "code",
   "execution_count": 24,
   "metadata": {},
   "outputs": [],
   "source": [
    "final_string = cleanedtext(final_data['Text'].values)"
   ]
  },
  {
   "cell_type": "markdown",
   "metadata": {},
   "source": [
    "# Applying Logistic Regression"
   ]
  },
  {
   "cell_type": "markdown",
   "metadata": {},
   "source": [
    "# [4.1] Logistic Regression on BOW,<font color='red'> SET 1</font>"
   ]
  },
  {
   "cell_type": "markdown",
   "metadata": {},
   "source": [
    "## [4.1.1] Applying Logistic Regression with L2 regularization on BOW,<font color='red'> SET 1</font>"
   ]
  },
  {
   "cell_type": "code",
   "execution_count": 2,
   "metadata": {},
   "outputs": [],
   "source": [
    "import pickle \n",
    "with open(\"final_data.pkl\", \"rb\") as f:\n",
    "    final_data = pickle.load(f)"
   ]
  },
  {
   "cell_type": "code",
   "execution_count": 3,
   "metadata": {},
   "outputs": [],
   "source": [
    "final_data = final_data.iloc[0:100000,:]"
   ]
  },
  {
   "cell_type": "code",
   "execution_count": 4,
   "metadata": {},
   "outputs": [
    {
     "data": {
      "text/plain": [
       "(100000, 13)"
      ]
     },
     "execution_count": 4,
     "metadata": {},
     "output_type": "execute_result"
    }
   ],
   "source": [
    "final_data.shape"
   ]
  },
  {
   "cell_type": "code",
   "execution_count": 5,
   "metadata": {},
   "outputs": [],
   "source": [
    "#https://stackoverflow.com/questions/38640109/logistic-regression-python-solvers-defintions"
   ]
  },
  {
   "cell_type": "code",
   "execution_count": 5,
   "metadata": {},
   "outputs": [],
   "source": [
    "# split the data set into train and test\n",
    "X_train, X_test, y_train, y_test = train_test_split(final_data['CleanedText'].values, final_data['Score'].values, \n",
    "                                                             test_size=0.3, random_state=42,shuffle=False)\n"
   ]
  },
  {
   "cell_type": "code",
   "execution_count": 6,
   "metadata": {},
   "outputs": [],
   "source": [
    "model = CountVectorizer(dtype=float)\n",
    "final_counts= model.fit_transform(X_train)"
   ]
  },
  {
   "cell_type": "code",
   "execution_count": 7,
   "metadata": {},
   "outputs": [
    {
     "data": {
      "text/plain": [
       "(70000, 31094)"
      ]
     },
     "execution_count": 7,
     "metadata": {},
     "output_type": "execute_result"
    }
   ],
   "source": [
    "#standardizing the bag of words\n",
    "standardizing  = StandardScaler(with_mean = False)\n",
    "final_std_data = standardizing.fit_transform(final_counts)\n",
    "final_std_data.shape"
   ]
  },
  {
   "cell_type": "code",
   "execution_count": 10,
   "metadata": {},
   "outputs": [
    {
     "name": "stdout",
     "output_type": "stream",
     "text": [
      "train scores\n",
      "[0.8872166258768911, 0.9032958584075139, 0.9055026416848345, 0.9060861740180313, 0.906182462039576, 0.9076561973239293, 0.9076352511159531, 0.9075823481330635, 0.907588009805383, 0.9075770724838569, 0.9076136278828254, 0.9075545227952586, 0.9075756986374968]\n",
      "**************************************************\n",
      "CV scores\n",
      "[0.7675376832793198, 0.786533751980348, 0.7891311431371723, 0.791253547700876, 0.7912544583195009, 0.7913648510317012, 0.7913332664226604, 0.7916902685156977, 0.7913894377345709, 0.7913989398419602, 0.7914336225339309, 0.7916936635394836, 0.7913844689242486]\n"
     ]
    },
    {
     "data": {
      "image/png": "[encoded data removed]",
      "text/plain": [
       "<Figure size 432x288 with 1 Axes>"
      ]
     },
     "metadata": {},
     "output_type": "display_data"
    }
   ],
   "source": [
    "from sklearn.metrics import make_scorer\n",
    "from sklearn.model_selection import cross_val_score\n",
    "from sklearn.metrics import roc_auc_score\n",
    "# creating list for hyperparameter alpha\n",
    "alpha_values = [0.0001,0.0005,0.001,0.005,0.01,0.05,0.1,100,500,1000,2500,5000,10000]\n",
    "# empty list that will hold cv scores\n",
    "\n",
    "cv_scores = []\n",
    "train_auc_values = []\n",
    "\n",
    "# perform 10-fold cross validation\n",
    "for alpha in alpha_values:\n",
    "    log_reg = LogisticRegression(C=alpha,solver='saga',max_iter=10000)\n",
    "    auc = make_scorer(roc_auc_score,greater_is_better=True,\n",
    "                             needs_threshold=True)\n",
    "    auc_scores = cross_val_score(log_reg, final_std_data, y_train, cv=10, scoring=auc)\n",
    "    log_reg.fit(final_std_data,y_train)\n",
    "    y_pred_proba = log_reg.predict_proba(final_std_data)[::,1]\n",
    "    train_auc = roc_auc_score(y_train, y_pred_proba)\n",
    "    train_auc_values.append(train_auc)\n",
    "    cv_scores.append(auc_scores.mean())\n",
    "\n",
    "print ('train scores')\n",
    "print (train_auc_values)\n",
    "print ('*'*50)\n",
    "print ('CV scores')\n",
    "print (cv_scores) \n",
    "\n",
    "# changing to misclassification error\n",
    "\n",
    "log = [math.log10(x) for x in alpha_values]\n",
    "# plot misclassification error vs alpha \n",
    "plt.plot(log, cv_scores,label='CV')\n",
    "#plt.label('cv_f1')\n",
    "plt.plot(log,train_auc_values,label='train')\n",
    "#plt.label('train_f1')\n",
    "plt.legend()\n",
    "plt.xlabel('hyperparameter C')\n",
    "plt.ylabel('AUC')\n",
    "plt.show()"
   ]
  },
  {
   "cell_type": "code",
   "execution_count": 11,
   "metadata": {},
   "outputs": [
    {
     "data": {
      "text/plain": [
       "LogisticRegression(C=100, class_weight=None, dual=False, fit_intercept=True,\n",
       "          intercept_scaling=1, max_iter=10000, multi_class='ovr',\n",
       "          n_jobs=-1, penalty='l2', random_state=None, solver='saga',\n",
       "          tol=0.001, verbose=0, warm_start=False)"
      ]
     },
     "execution_count": 11,
     "metadata": {},
     "output_type": "execute_result"
    }
   ],
   "source": [
    "log_reg = LogisticRegression(C=100,solver='saga',max_iter=10000,tol=0.001,n_jobs=-1)\n",
    "log_reg.fit(final_counts,y_train)"
   ]
  },
  {
   "cell_type": "code",
   "execution_count": 12,
   "metadata": {},
   "outputs": [
    {
     "name": "stdout",
     "output_type": "stream",
     "text": [
      "accuracy = 92.5\n"
     ]
    }
   ],
   "source": [
    "print('accuracy = {0}'.format(log_reg.score(standardizing.transform(model.transform(X_test), y_test)*100))"
   ]
  },
  {
   "cell_type": "code",
   "execution_count": 13,
   "metadata": {},
   "outputs": [],
   "source": [
    "predictions = log_reg.predict(standardizing.transform(model.transform(X_test)))"
   ]
  },
  {
   "cell_type": "code",
   "execution_count": 14,
   "metadata": {},
   "outputs": [
    {
     "name": "stdout",
     "output_type": "stream",
     "text": [
      "precision = 0.9666765843498959\n",
      "Recall=0.8781081081081081\n",
      "f1_score=0.9202662512392012\n"
     ]
    }
   ],
   "source": [
    "precision = precision_score(y_test, predictions,pos_label=1)\n",
    "Recall = recall_score(y_test, predictions,pos_label=1)\n",
    "f1 = f1_score(y_test, predictions,pos_label=1)\n",
    "print ('precision = {0}'.format(precision))\n",
    "print ('Recall={0}'.format(Recall))\n",
    "print ('f1_score={0}'.format(f1))"
   ]
  },
  {
   "cell_type": "code",
   "execution_count": 15,
   "metadata": {},
   "outputs": [
    {
     "data": {
      "text/plain": [
       "<matplotlib.axes._subplots.AxesSubplot at 0x4496e6f6d8>"
      ]
     },
     "execution_count": 15,
     "metadata": {},
     "output_type": "execute_result"
    },
    {
     "data": {
      "image/png": "[encoded data removed]",
      "text/plain": [
       "<Figure size 432x288 with 2 Axes>"
      ]
     },
     "metadata": {},
     "output_type": "display_data"
    }
   ],
   "source": [
    "from sklearn.metrics import confusion_matrix\n",
    "import seaborn as sns\n",
    "result = confusion_matrix(y_test,predictions)\n",
    "#print(result)\n",
    "sns.set(font_scale=1.4)#for label size\n",
    "sns.heatmap(result, annot=True,annot_kws={\"size\": 16}, fmt='g')"
   ]
  },
  {
   "cell_type": "code",
   "execution_count": 16,
   "metadata": {},
   "outputs": [
    {
     "data": {
      "image/png": "[encoded data removed]",
      "text/plain": [
       "<Figure size 432x288 with 1 Axes>"
      ]
     },
     "metadata": {},
     "output_type": "display_data"
    }
   ],
   "source": [
    "y_pred_proba = log_reg.predict_proba(model.transform(X_test))[::,1]\n",
    "fpr, tpr, _ = roc_curve(y_test, y_pred_proba,pos_label=1 )\n",
    "#auc = roc_auc_score(y_test, y_pred_proba)\n",
    "auc = np.trapz(tpr,fpr)\n",
    "plt.plot(fpr,tpr,label=\"data 1, auc=\"+str(auc))\n",
    "plt.legend(loc=4)\n",
    "plt.show()"
   ]
  },
  {
   "cell_type": "markdown",
   "metadata": {},
   "source": [
    "### [4.1.1.1] Pertubation Test"
   ]
  },
  {
   "cell_type": "code",
   "execution_count": 17,
   "metadata": {},
   "outputs": [
    {
     "name": "stdout",
     "output_type": "stream",
     "text": [
      "weights_before=[[ 1.67703901e-02  5.14711165e-03 -5.38907139e-02 ...  6.79927908e-03\n",
      "   6.29820289e-05  6.85599065e-04]]\n"
     ]
    }
   ],
   "source": [
    "#clf = LogisticRegression(C=model.best_params_['C'], penalty='l2')\n",
    "#clf.fit(final_std_data, y_train)\n",
    "weights_before = log_reg.coef_\n",
    "print ('weights_before={0}'.format(weights_before))"
   ]
  },
  {
   "cell_type": "code",
   "execution_count": 18,
   "metadata": {},
   "outputs": [
    {
     "name": "stdout",
     "output_type": "stream",
     "text": [
      "noise adding to weight vector is = 0.006139962498737992\n",
      "weights_after adding noise = [[ 1.66861339e-02  5.18499791e-03 -5.34311971e-02 ...  6.90404251e-03\n",
      "   4.97940225e-05  7.01490370e-04]]\n"
     ]
    }
   ],
   "source": [
    "from scipy.sparse import find\n",
    "eps = np.random.normal(scale=0.01)\n",
    "print ('noise adding to weight vector is = {0}'.format(eps))\n",
    "X_train1 = final_counts\n",
    "a,b,c = find(X_train1)\n",
    "X_train1[a,b] = X_train1[a,b]+eps\n",
    "log_reg.fit(X_train1,y_train)\n",
    "weights_after = log_reg.coef_\n",
    "print ('weights_after adding noise = {0}'.format(weights_after))"
   ]
  },
  {
   "cell_type": "code",
   "execution_count": 19,
   "metadata": {},
   "outputs": [],
   "source": [
    "per_weights_diff = abs((weights_before - weights_after)/weights_before)*100\n",
    "per_weights_diff = per_weights_diff[0]"
   ]
  },
  {
   "cell_type": "code",
   "execution_count": 20,
   "metadata": {},
   "outputs": [
    {
     "name": "stdout",
     "output_type": "stream",
     "text": [
      "0  percentile value is 0.00016873855680106447\n",
      "10  percentile value is 0.17566958318672576\n",
      "20  percentile value is 0.3708582422088057\n",
      "30  percentile value is 0.588400474177819\n",
      "40  percentile value is 0.8893549312443004\n",
      "50  percentile value is 1.3493502065878444\n",
      "60  percentile value is 2.144811872848045\n",
      "70  percentile value is 3.7624360694869883\n",
      "80  percentile value is 7.594158041619698\n",
      "90  percentile value is 21.302181988035613\n",
      "100  percentile value is 1359298.8626627645\n"
     ]
    }
   ],
   "source": [
    "for i in range(0,110,10):\n",
    "    print ('{0}  percentile value is {1}'.format(i,np.percentile(per_weights_diff,i)))"
   ]
  },
  {
   "cell_type": "code",
   "execution_count": 21,
   "metadata": {},
   "outputs": [
    {
     "name": "stdout",
     "output_type": "stream",
     "text": [
      "60  percentile value is 2.144811872848045\n",
      "61  percentile value is 2.254222670672485\n",
      "62  percentile value is 2.370316193944895\n",
      "63  percentile value is 2.494914457111536\n",
      "64  percentile value is 2.6422856736299014\n",
      "65  percentile value is 2.786969047610154\n",
      "66  percentile value is 2.959162340942017\n",
      "67  percentile value is 3.1436518761189367\n",
      "68  percentile value is 3.3479251476185516\n",
      "69  percentile value is 3.5527140753665396\n",
      "70  percentile value is 3.7624360694869883\n"
     ]
    }
   ],
   "source": [
    "for i in range(0,11,1):\n",
    "    print ('{0}  percentile value is {1}'.format(60+i,np.percentile(per_weights_diff,60+i)))"
   ]
  },
  {
   "cell_type": "code",
   "execution_count": 22,
   "metadata": {},
   "outputs": [
    {
     "name": "stdout",
     "output_type": "stream",
     "text": [
      "63.0  percentile value is 2.494914457111536\n",
      "63.1  percentile value is 2.513683703079929\n",
      "63.2  percentile value is 2.53208235928024\n",
      "63.3  percentile value is 2.5436407867107893\n",
      "63.4  percentile value is 2.5554346956896175\n",
      "63.5  percentile value is 2.573439426220451\n",
      "63.6  percentile value is 2.5871164719424375\n",
      "63.7  percentile value is 2.6020419986022927\n",
      "63.8  percentile value is 2.6134030229436798\n",
      "63.9  percentile value is 2.629241177161071\n",
      "64.0  percentile value is 2.6422856736299014\n"
     ]
    }
   ],
   "source": [
    "for i in range(0,11,1):\n",
    "    print ('{0}  percentile value is {1}'.format(63+i*0.1,np.percentile(per_weights_diff,63+i*0.1)))"
   ]
  },
  {
   "cell_type": "code",
   "execution_count": 23,
   "metadata": {},
   "outputs": [],
   "source": [
    "feat_names = model.get_feature_names()"
   ]
  },
  {
   "cell_type": "code",
   "execution_count": 24,
   "metadata": {},
   "outputs": [
    {
     "data": {
      "text/plain": [
       "11492"
      ]
     },
     "execution_count": 24,
     "metadata": {},
     "output_type": "execute_result"
    }
   ],
   "source": [
    "per_weights_diff[per_weights_diff>2.5].size"
   ]
  },
  {
   "cell_type": "code",
   "execution_count": 25,
   "metadata": {},
   "outputs": [
    {
     "data": {
      "text/plain": [
       "36.958898822924034"
      ]
     },
     "execution_count": 25,
     "metadata": {},
     "output_type": "execute_result"
    }
   ],
   "source": [
    "(per_weights_diff[per_weights_diff>2.5].size)*100/weights_before.size"
   ]
  },
  {
   "cell_type": "code",
   "execution_count": 26,
   "metadata": {},
   "outputs": [],
   "source": [
    "index = per_weights_diff>2.5"
   ]
  },
  {
   "cell_type": "code",
   "execution_count": 27,
   "metadata": {},
   "outputs": [],
   "source": [
    "colli_features = [feature for feature,bol in zip(feat_names,index) if bol==True]"
   ]
  },
  {
   "cell_type": "code",
   "execution_count": 28,
   "metadata": {},
   "outputs": [
    {
     "data": {
      "text/plain": [
       "['aaaah',\n",
       " 'aaah',\n",
       " 'aad',\n",
       " 'aadp',\n",
       " 'aahh',\n",
       " 'ab',\n",
       " 'abandon',\n",
       " 'abaolut',\n",
       " 'abba',\n",
       " 'abbi']"
      ]
     },
     "execution_count": 28,
     "metadata": {},
     "output_type": "execute_result"
    }
   ],
   "source": [
    "colli_features[0:10]"
   ]
  },
  {
   "cell_type": "markdown",
   "metadata": {},
   "source": [
    "### [4.1.1.2] Feature Importance"
   ]
  },
  {
   "cell_type": "code",
   "execution_count": 29,
   "metadata": {},
   "outputs": [],
   "source": [
    "indices = list (np.argsort(weights_before[0]))"
   ]
  },
  {
   "cell_type": "code",
   "execution_count": 30,
   "metadata": {},
   "outputs": [],
   "source": [
    "pos_indices = indices[-10:]\n",
    "neg_indices = indices[0:10]"
   ]
  },
  {
   "cell_type": "code",
   "execution_count": 31,
   "metadata": {},
   "outputs": [
    {
     "name": "stdout",
     "output_type": "stream",
     "text": [
      "top 10 positive features\t\t\ttop 10 negative features\n",
      "----------------------------------------------------------------------------------------------------\n",
      "\tawesom\t\t\t\t\t\tworst\n",
      "\tfantast\t\t\t\t\t\tterribl\n",
      "\tyummi\t\t\t\t\t\taw\n",
      "\taddict\t\t\t\t\t\tbland\n",
      "\tgreat\t\t\t\t\t\thorribl\n",
      "\tamaz\t\t\t\t\t\tdisappoint\n",
      "\tbest\t\t\t\t\t\tthrew\n",
      "\tperfect\t\t\t\t\t\tunfortun\n",
      "\texcel\t\t\t\t\t\tstale\n",
      "\tdelici\t\t\t\t\t\ttasteless\n"
     ]
    }
   ],
   "source": [
    "print ('top 10 positive features\\t\\t\\ttop 10 negative features')\n",
    "print ('-'*100)\n",
    "for id1,id2 in zip(pos_indices,neg_indices):\n",
    "    print ('\\t{0}\\t\\t\\t\\t\\t\\t{1}'.format(feat_names[id1],feat_names[id2]))\n",
    "   "
   ]
  },
  {
   "cell_type": "markdown",
   "metadata": {},
   "source": [
    "## [4.1.2] Applying Logistic Regression with L1 regularization on BOW,<font color='red'> SET 1</font>"
   ]
  },
  {
   "cell_type": "code",
   "execution_count": 32,
   "metadata": {},
   "outputs": [
    {
     "name": "stdout",
     "output_type": "stream",
     "text": [
      "train scores\n",
      "[0.5, 0.7940562566329163, 0.8592942388920859, 0.9422173038918453, 0.9645540175998825, 0.9885241178332582, 0.9928626256579467, 0.9974313517282255, 0.9974143330579701, 0.9974815980802576, 0.9974500075323999, 0.9974115972428843, 0.9974195790130913]\n",
      "**************************************************\n",
      "CV scores\n",
      "[0.5, 0.719741226931902, 0.8386816934576604, 0.9158721469675113, 0.9254130744246624, 0.9205910172223717, 0.909485379721038, 0.8308710205718646, 0.8283735599110841, 0.8260575598073526, 0.8254888685781344, 0.8232855773252796, 0.8247266609931166]\n"
     ]
    },
    {
     "data": {
      "image/png": "[encoded data removed]",
      "text/plain": [
       "<Figure size 432x288 with 1 Axes>"
      ]
     },
     "metadata": {},
     "output_type": "display_data"
    }
   ],
   "source": [
    "from sklearn.metrics import make_scorer\n",
    "from sklearn.model_selection import cross_val_score\n",
    "from sklearn.metrics import roc_auc_score\n",
    "# creating list for hyperparameter alpha\n",
    "alpha_values = [0.0001,0.0005,0.001,0.005,0.01,0.05,0.1,100,500,1000,2500,5000,10000]\n",
    "# empty list that will hold cv scores\n",
    "\n",
    "cv_scores = []\n",
    "train_auc_values = []\n",
    "\n",
    "# perform 10-fold cross validation\n",
    "for alpha in alpha_values:\n",
    "    log_reg = LogisticRegression(C=alpha,penalty='l1',max_iter=10000)\n",
    "    auc = make_scorer(roc_auc_score,greater_is_better=True,\n",
    "                             needs_threshold=True)\n",
    "    auc_scores = cross_val_score(log_reg, final_std_data, y_train, cv=10, scoring=auc)\n",
    "    log_reg.fit(final_std_data,y_train)\n",
    "    y_pred_proba = log_reg.predict_proba(final_std_data)[::,1]\n",
    "    train_auc = roc_auc_score(y_train, y_pred_proba)\n",
    "    train_auc_values.append(train_auc)\n",
    "    cv_scores.append(auc_scores.mean())\n",
    "\n",
    "print ('train scores')\n",
    "print (train_auc_values)\n",
    "print ('*'*50)\n",
    "print ('CV scores')\n",
    "print (cv_scores) \n",
    "\n",
    "# changing to misclassification error\n",
    "\n",
    "log = [math.log10(x) for x in alpha_values]\n",
    "# plot misclassification error vs alpha \n",
    "plt.plot(log, cv_scores,label='CV')\n",
    "#plt.label('cv_f1')\n",
    "plt.plot(log,train_auc_values,label='train')\n",
    "#plt.label('train_f1')\n",
    "plt.legend()\n",
    "plt.xlabel('hyperparameter C')\n",
    "plt.ylabel('AUC')\n",
    "plt.show()"
   ]
  },
  {
   "cell_type": "code",
   "execution_count": null,
   "metadata": {},
   "outputs": [],
   "source": [
    "#http://rnowling.github.io/data/science/2016/09/04/comparing-lr-regularization-and-optimizers.html"
   ]
  },
  {
   "cell_type": "code",
   "execution_count": 33,
   "metadata": {},
   "outputs": [
    {
     "data": {
      "text/plain": [
       "LogisticRegression(C=0.005, class_weight=None, dual=False, fit_intercept=True,\n",
       "          intercept_scaling=1, max_iter=5000, multi_class='ovr', n_jobs=1,\n",
       "          penalty='l1', random_state=None, solver='liblinear', tol=0.001,\n",
       "          verbose=0, warm_start=False)"
      ]
     },
     "execution_count": 33,
     "metadata": {},
     "output_type": "execute_result"
    }
   ],
   "source": [
    "log_reg = LogisticRegression(C=0.005,penalty='l1',max_iter=5000,tol=0.001)\n",
    "log_reg.fit(final_counts,y_train)"
   ]
  },
  {
   "cell_type": "code",
   "execution_count": 34,
   "metadata": {},
   "outputs": [],
   "source": [
    "predictions = log_reg.predict(standardizing.transform(model.transform(X_test)))"
   ]
  },
  {
   "cell_type": "code",
   "execution_count": 36,
   "metadata": {},
   "outputs": [
    {
     "name": "stdout",
     "output_type": "stream",
     "text": [
      "accuracy = 87.34666666666666\n"
     ]
    }
   ],
   "source": [
    "print('accuracy = {0}'.format(log_reg.score(standardizing.transform(model.transform(X_test)), y_test)*100))"
   ]
  },
  {
   "cell_type": "code",
   "execution_count": 37,
   "metadata": {},
   "outputs": [
    {
     "name": "stdout",
     "output_type": "stream",
     "text": [
      "precision = 0.8935617121287658\n",
      "Recall=0.9688416988416988\n",
      "f1_score=0.9296802637916342\n"
     ]
    }
   ],
   "source": [
    "precision = precision_score(y_test, predictions,pos_label=1)\n",
    "Recall = recall_score(y_test, predictions,pos_label=1)\n",
    "f1 = f1_score(y_test, predictions,pos_label=1)\n",
    "print ('precision = {0}'.format(precision))\n",
    "print ('Recall={0}'.format(Recall))\n",
    "print ('f1_score={0}'.format(f1))"
   ]
  },
  {
   "cell_type": "code",
   "execution_count": 38,
   "metadata": {},
   "outputs": [
    {
     "data": {
      "text/plain": [
       "<matplotlib.axes._subplots.AxesSubplot at 0x44818f5940>"
      ]
     },
     "execution_count": 38,
     "metadata": {},
     "output_type": "execute_result"
    },
    {
     "data": {
      "image/png": "[encoded data removed]",
      "text/plain": [
       "<Figure size 432x288 with 2 Axes>"
      ]
     },
     "metadata": {},
     "output_type": "display_data"
    }
   ],
   "source": [
    "from sklearn.metrics import confusion_matrix\n",
    "import seaborn as sns\n",
    "result = confusion_matrix(y_test,predictions)\n",
    "#print(result)\n",
    "sns.set(font_scale=1.4)#for label size\n",
    "sns.heatmap(result, annot=True,annot_kws={\"size\": 16}, fmt='g')"
   ]
  },
  {
   "cell_type": "code",
   "execution_count": 39,
   "metadata": {},
   "outputs": [
    {
     "data": {
      "image/png": "[encoded data removed]",
      "text/plain": [
       "<Figure size 432x288 with 1 Axes>"
      ]
     },
     "metadata": {},
     "output_type": "display_data"
    }
   ],
   "source": [
    "y_pred_proba = log_reg.predict_proba(model.transform(X_test))[::,1]\n",
    "fpr, tpr, _ = roc_curve(y_test, y_pred_proba,pos_label=1 )\n",
    "#auc = roc_auc_score(y_test, y_pred_proba)\n",
    "auc = np.trapz(tpr,fpr)\n",
    "plt.plot(fpr,tpr,label=\"data 1, auc=\"+str(auc))\n",
    "plt.legend(loc=4)\n",
    "plt.show()"
   ]
  },
  {
   "cell_type": "markdown",
   "metadata": {},
   "source": [
    "### [4.1.2.1] Pertubation Test"
   ]
  },
  {
   "cell_type": "code",
   "execution_count": 40,
   "metadata": {},
   "outputs": [
    {
     "name": "stdout",
     "output_type": "stream",
     "text": [
      "weights_before=[[0. 0. 0. ... 0. 0. 0.]]\n",
      "noise adding to weight vector is = -0.013766085204073575\n",
      "weights_after adding noise = [[0. 0. 0. ... 0. 0. 0.]]\n"
     ]
    }
   ],
   "source": [
    "from scipy.sparse import find\n",
    "weights_before = log_reg.coef_\n",
    "print ('weights_before={0}'.format(weights_before))\n",
    "eps = np.random.normal(scale=0.01)\n",
    "print ('noise adding to weight vector is = {0}'.format(eps))\n",
    "X_train1 = final_counts\n",
    "a,b,c = find(X_train1)\n",
    "X_train1[a,b] = X_train1[a,b]+eps\n",
    "log_reg.fit(X_train1,y_train)\n",
    "weights_after = log_reg.coef_\n",
    "print ('weights_after adding noise = {0}'.format(weights_after))"
   ]
  },
  {
   "cell_type": "code",
   "execution_count": 41,
   "metadata": {},
   "outputs": [],
   "source": [
    "weights_before = weights_before[0]+0.000001"
   ]
  },
  {
   "cell_type": "code",
   "execution_count": 42,
   "metadata": {},
   "outputs": [],
   "source": [
    "weights_after = weights_after[0]+0.000001"
   ]
  },
  {
   "cell_type": "code",
   "execution_count": 43,
   "metadata": {},
   "outputs": [],
   "source": [
    "per_weights_diff = abs((weights_before - weights_after)/weights_before)*100\n",
    "per_weights_diff = per_weights_diff[0]"
   ]
  },
  {
   "cell_type": "code",
   "execution_count": 44,
   "metadata": {},
   "outputs": [
    {
     "name": "stdout",
     "output_type": "stream",
     "text": [
      "0  percentile value is 0.0\n",
      "10  percentile value is 0.0\n",
      "20  percentile value is 0.0\n",
      "30  percentile value is 0.0\n",
      "40  percentile value is 0.0\n",
      "50  percentile value is 0.0\n",
      "60  percentile value is 0.0\n",
      "70  percentile value is 0.0\n",
      "80  percentile value is 0.0\n",
      "90  percentile value is 0.0\n",
      "100  percentile value is 0.0\n"
     ]
    }
   ],
   "source": [
    "for i in range(0,110,10):\n",
    "    print ('{0}  percentile value is {1}'.format(i,np.percentile(per_weights_diff,i)))"
   ]
  },
  {
   "cell_type": "code",
   "execution_count": 45,
   "metadata": {},
   "outputs": [
    {
     "data": {
      "text/plain": [
       "0.0"
      ]
     },
     "execution_count": 45,
     "metadata": {},
     "output_type": "execute_result"
    }
   ],
   "source": [
    "(per_weights_diff[per_weights_diff>2.5].size)*100/weights_before.size"
   ]
  },
  {
   "cell_type": "markdown",
   "metadata": {},
   "source": [
    "### [4.1.2.2] Calculating sparsity on L1 regulrization "
   ]
  },
  {
   "cell_type": "code",
   "execution_count": 46,
   "metadata": {},
   "outputs": [
    {
     "name": "stdout",
     "output_type": "stream",
     "text": [
      "Hyper Parameters(C) \t Num of non Zero elments\n",
      "\t0.0001\t\t\t0\n",
      "\t0.0005\t\t\t2\n",
      "\t0.001\t\t\t7\n",
      "\t0.005\t\t\t51\n",
      "\t0.01\t\t\t118\n",
      "\t0.05\t\t\t451\n",
      "\t0.1\t\t\t744\n",
      "\t100\t\t\t13555\n",
      "\t500\t\t\t15953\n",
      "\t1000\t\t\t16784\n",
      "\t2500\t\t\t19333\n",
      "\t5000\t\t\t20597\n",
      "\t10000\t\t\t23894\n"
     ]
    }
   ],
   "source": [
    "print ('Hyper Parameters(C) \\t Num of non Zero elments')\n",
    "alpha_values = [0.0001,0.0005,0.001,0.005,0.01,0.05,0.1,100,500,1000,2500,5000,10000]\n",
    "for c in alpha_values:\n",
    "    clf = LogisticRegression(C=c, penalty='l1',tol=0.01)\n",
    "    clf.fit(final_counts, y_train)\n",
    "    w = clf.coef_\n",
    "    print ('\\t{0}\\t\\t\\t{1}'.format(c,np.count_nonzero(w)))"
   ]
  },
  {
   "cell_type": "markdown",
   "metadata": {},
   "source": [
    "### [4.1.2.3]Feature Importance"
   ]
  },
  {
   "cell_type": "code",
   "execution_count": 48,
   "metadata": {},
   "outputs": [
    {
     "name": "stdout",
     "output_type": "stream",
     "text": [
      "top 10 positive features\t\t\ttop 10 negative features\n",
      "----------------------------------------------------------------------------------------------------\n",
      "\tfind\t\t\t\t\tdisappoint\n",
      "\tfavorit\t\t\t\t\tmoney\n",
      "\texcel\t\t\t\t\tbad\n",
      "\tgood\t\t\t\t\tnot\n",
      "\tnice\t\t\t\t\tproduct\n",
      "\tperfect\t\t\t\t\tthought\n",
      "\tlove\t\t\t\t\twould\n",
      "\tdelici\t\t\t\t\ttast\n",
      "\tbest\t\t\t\t\treceiv\n",
      "\tgreat\t\t\t\t\tbought\n"
     ]
    }
   ],
   "source": [
    "feat_names = model.get_feature_names()\n",
    "weights_before = log_reg.coef_\n",
    "indices = list (np.argsort(weights_before[0]))\n",
    "pos_indices = indices[-10:]\n",
    "neg_indices = indices[0:10]\n",
    "print ('top 10 positive features\\t\\t\\ttop 10 negative features')\n",
    "print ('-'*100)\n",
    "for id1,id2 in zip(pos_indices,neg_indices):\n",
    "    print ('\\t{0}\\t\\t\\t\\t\\t{1}'.format(feat_names[id1],feat_names[id2]))\n",
    "   "
   ]
  },
  {
   "cell_type": "markdown",
   "metadata": {},
   "source": [
    "# [4.2] Logistic Regression on TFIDF,<font color='red'> SET 2</font>"
   ]
  },
  {
   "cell_type": "markdown",
   "metadata": {},
   "source": [
    " ### [4.2.1] Applying Logistic Regression with L2 regularization on TFIDF,<font color='red'> SET 2</font>"
   ]
  },
  {
   "cell_type": "code",
   "execution_count": 49,
   "metadata": {},
   "outputs": [],
   "source": [
    "# split the data set into train and test\n",
    "tfidf_train, tfidf_test, y_train, y_test = train_test_split(final_data['CleanedText'].values, final_data['Score'].values, \n",
    "                                                             test_size=0.3, random_state=0,shuffle=False)\n"
   ]
  },
  {
   "cell_type": "code",
   "execution_count": 50,
   "metadata": {},
   "outputs": [],
   "source": [
    "vector = TfidfVectorizer(ngram_range = (1,1))\n",
    "tf_idf_vector = vector.fit_transform(tfidf_train)"
   ]
  },
  {
   "cell_type": "code",
   "execution_count": 51,
   "metadata": {},
   "outputs": [
    {
     "data": {
      "text/plain": [
       "(70000, 31094)"
      ]
     },
     "execution_count": 51,
     "metadata": {},
     "output_type": "execute_result"
    }
   ],
   "source": [
    "standardizing  = StandardScaler(with_mean = False)\n",
    "final_std_data = standardizing.fit_transform(tf_idf_vector)\n",
    "final_std_data.shape"
   ]
  },
  {
   "cell_type": "code",
   "execution_count": 61,
   "metadata": {},
   "outputs": [
    {
     "name": "stdout",
     "output_type": "stream",
     "text": [
      "train scores\n",
      "[0.9801327058379166, 0.989632704947094, 0.9918192724909438, 0.9947721691588912, 0.9954147610487238, 0.9964227208453073, 0.9965977417449947, 0.997237863086906, 0.997050441937076, 0.9970504557943157, 0.9970714000226862, 0.9970705527514442, 0.9970716059016796]\n",
      "**************************************************\n",
      "CV scores\n",
      "[0.9092294068052114, 0.9140867851223128, 0.910187268720191, 0.893801488307162, 0.8852491462455492, 0.8653360746913151, 0.8536385449818876, 0.8236376996902512, 0.8223429583742371, 0.8238000768482936, 0.8229355731384134, 0.8231812224104826, 0.8230192312755531]\n"
     ]
    },
    {
     "data": {
      "image/png": "[encoded data removed]",
      "text/plain": [
       "<Figure size 432x288 with 1 Axes>"
      ]
     },
     "metadata": {},
     "output_type": "display_data"
    }
   ],
   "source": [
    "from sklearn.metrics import make_scorer\n",
    "from sklearn.model_selection import cross_val_score\n",
    "from sklearn.metrics import roc_auc_score\n",
    "# creating list for hyperparameter alpha\n",
    "alpha_values = [0.0001,0.0005,0.001,0.005,0.01,0.05,0.1,100,500,1000,2500,5000,10000]\n",
    "# empty list that will hold cv scores\n",
    "\n",
    "cv_scores = []\n",
    "train_auc_values = []\n",
    "\n",
    "# perform 10-fold cross validation\n",
    "for alpha in alpha_values:\n",
    "    log_reg = LogisticRegression(C=alpha,penalty='l2',max_iter=10000)\n",
    "    auc = make_scorer(roc_auc_score,greater_is_better=True,\n",
    "                             needs_threshold=True)\n",
    "    auc_scores = cross_val_score(log_reg, final_std_data, y_train, cv=10, scoring=auc)\n",
    "    log_reg.fit(final_std_data,y_train)\n",
    "    y_pred_proba = log_reg.predict_proba(final_std_data)[::,1]\n",
    "    train_auc = roc_auc_score(y_train, y_pred_proba)\n",
    "    train_auc_values.append(train_auc)\n",
    "    cv_scores.append(auc_scores.mean())\n",
    "\n",
    "print ('train scores')\n",
    "print (train_auc_values)\n",
    "print ('*'*50)\n",
    "print ('CV scores')\n",
    "print (cv_scores) \n",
    "\n",
    "# changing to misclassification error\n",
    "\n",
    "log = [math.log10(x) for x in alpha_values]\n",
    "# plot misclassification error vs alpha \n",
    "plt.plot(log, cv_scores,label='CV')\n",
    "#plt.label('cv_f1')\n",
    "plt.plot(log,train_auc_values,label='train')\n",
    "#plt.label('train_f1')\n",
    "plt.legend()\n",
    "plt.xlabel('hyperparameter C')\n",
    "plt.ylabel('AUC')\n",
    "plt.show()"
   ]
  },
  {
   "cell_type": "code",
   "execution_count": 62,
   "metadata": {},
   "outputs": [
    {
     "data": {
      "text/plain": [
       "LogisticRegression(C=0.0005, class_weight=None, dual=False,\n",
       "          fit_intercept=True, intercept_scaling=1, max_iter=10000,\n",
       "          multi_class='ovr', n_jobs=1, penalty='l2', random_state=None,\n",
       "          solver='liblinear', tol=0.001, verbose=0, warm_start=False)"
      ]
     },
     "execution_count": 62,
     "metadata": {},
     "output_type": "execute_result"
    }
   ],
   "source": [
    "log_reg = LogisticRegression(C=0.0005,max_iter=10000,tol=0.001)\n",
    "log_reg.fit(final_std_data,y_train)"
   ]
  },
  {
   "cell_type": "code",
   "execution_count": 63,
   "metadata": {},
   "outputs": [
    {
     "name": "stdout",
     "output_type": "stream",
     "text": [
      "accuracy = 90.47\n"
     ]
    }
   ],
   "source": [
    "print('accuracy = {0}'.format(log_reg.score(standardizing.transform(vector.transform(tfidf_test)), y_test)*100))"
   ]
  },
  {
   "cell_type": "code",
   "execution_count": 64,
   "metadata": {},
   "outputs": [],
   "source": [
    "predictions = log_reg.predict(standardizing.transform(vector.transform(tfidf_test)))"
   ]
  },
  {
   "cell_type": "code",
   "execution_count": 65,
   "metadata": {},
   "outputs": [
    {
     "name": "stdout",
     "output_type": "stream",
     "text": [
      "precision = 92.23831347387717\n",
      "Recall=97.13513513513513\n",
      "f1_score=94.62341325811\n"
     ]
    }
   ],
   "source": [
    "precision = precision_score(y_test, predictions,pos_label=1)\n",
    "Recall = recall_score(y_test, predictions,pos_label=1)\n",
    "f1 = f1_score(y_test, predictions,pos_label=1)\n",
    "print ('precision = {0}'.format(precision*100))\n",
    "print ('Recall={0}'.format(Recall*100))\n",
    "print ('f1_score={0}'.format(f1*100))"
   ]
  },
  {
   "cell_type": "code",
   "execution_count": 66,
   "metadata": {},
   "outputs": [
    {
     "data": {
      "text/plain": [
       "<matplotlib.axes._subplots.AxesSubplot at 0x4485e46da0>"
      ]
     },
     "execution_count": 66,
     "metadata": {},
     "output_type": "execute_result"
    },
    {
     "data": {
      "image/png": "[encoded data removed]",
      "text/plain": [
       "<Figure size 432x288 with 2 Axes>"
      ]
     },
     "metadata": {},
     "output_type": "display_data"
    }
   ],
   "source": [
    "from sklearn.metrics import confusion_matrix\n",
    "import seaborn as sns\n",
    "result = confusion_matrix(y_test,predictions)\n",
    "#print(result)\n",
    "sns.set(font_scale=1.4)#for label size\n",
    "sns.heatmap(result, annot=True,annot_kws={\"size\": 16}, fmt='g')"
   ]
  },
  {
   "cell_type": "code",
   "execution_count": 67,
   "metadata": {},
   "outputs": [
    {
     "data": {
      "image/png": "[encoded data removed]",
      "text/plain": [
       "<Figure size 432x288 with 1 Axes>"
      ]
     },
     "metadata": {},
     "output_type": "display_data"
    }
   ],
   "source": [
    "y_pred_proba = log_reg.predict_proba(standardizing.transform(vector.transform(tfidf_test)))[::,1]\n",
    "fpr, tpr, _ = roc_curve(y_test, y_pred_proba,pos_label=1 )\n",
    "#auc = roc_auc_score(y_test, y_pred_proba)\n",
    "auc = np.trapz(tpr,fpr)\n",
    "plt.plot(fpr,tpr,label=\"data 1, auc=\"+str(auc))\n",
    "plt.legend(loc=4)\n",
    "plt.show()"
   ]
  },
  {
   "cell_type": "markdown",
   "metadata": {},
   "source": [
    "### [4.2.1.1] Feature  Importance of TFIDF with l2 Regularizer"
   ]
  },
  {
   "cell_type": "code",
   "execution_count": 68,
   "metadata": {},
   "outputs": [
    {
     "name": "stdout",
     "output_type": "stream",
     "text": [
      "top 10 positive features\t\t\ttop 10 negative features\n",
      "----------------------------------------------------------------------------------------------------\n",
      "\tfind\t\t\t\t\tnot\n",
      "\tnice\t\t\t\t\tdisappoint\n",
      "\tfavorit\t\t\t\t\tworst\n",
      "\texcel\t\t\t\t\taw\n",
      "\tperfect\t\t\t\t\tterribl\n",
      "\tdelici\t\t\t\t\thorribl\n",
      "\tgood\t\t\t\t\tunfortun\n",
      "\tbest\t\t\t\t\tstale\n",
      "\tlove\t\t\t\t\tbland\n",
      "\tgreat\t\t\t\t\treturn\n"
     ]
    }
   ],
   "source": [
    "pos_indices = []\n",
    "neg_indices = []\n",
    "feat_names = vector.get_feature_names()\n",
    "weights_before = log_reg.coef_\n",
    "indices = list (np.argsort(weights_before[0]))\n",
    "pos_indices = indices[-10:]\n",
    "neg_indices = indices[0:10]\n",
    "print ('top 10 positive features\\t\\t\\ttop 10 negative features')\n",
    "print ('-'*100)\n",
    "for id1,id2 in zip(pos_indices,neg_indices):\n",
    "    print ('\\t{0}\\t\\t\\t\\t\\t{1}'.format(feat_names[id1],feat_names[id2]))\n",
    "   "
   ]
  },
  {
   "cell_type": "markdown",
   "metadata": {},
   "source": [
    "### [4.2.2] Applying Logistic Regression with L1 regularization on TFIDF,<font color='red'> SET 2</font>"
   ]
  },
  {
   "cell_type": "code",
   "execution_count": 69,
   "metadata": {},
   "outputs": [
    {
     "name": "stdout",
     "output_type": "stream",
     "text": [
      "train scores\n",
      "[0.5, 0.7909062733902787, 0.8726965565352625, 0.9483963491319725, 0.9687353694765786, 0.9898758876304536, 0.9930923945330418, 0.996916444406436, 0.9968450717023085, 0.9968524793868607, 0.9968864553595943, 0.9968278808063568, 0.9968336018668474]\n",
      "**************************************************\n",
      "CV scores\n",
      "[0.5, 0.737474643725412, 0.8531336020054198, 0.9265739647008588, 0.9360879546733643, 0.9275145496070383, 0.9142671568962235, 0.8284336904344066, 0.8258115839003419, 0.8222634079189376, 0.8214420497154217, 0.8237924850604106, 0.8224520346486427]\n"
     ]
    },
    {
     "data": {
      "image/png": "[encoded data removed]",
      "text/plain": [
       "<Figure size 432x288 with 1 Axes>"
      ]
     },
     "metadata": {},
     "output_type": "display_data"
    }
   ],
   "source": [
    "from sklearn.metrics import make_scorer\n",
    "from sklearn.model_selection import cross_val_score\n",
    "from sklearn.metrics import roc_auc_score\n",
    "# creating list for hyperparameter alpha\n",
    "alpha_values = [0.0001,0.0005,0.001,0.005,0.01,0.05,0.1,100,500,1000,2500,5000,10000]\n",
    "# empty list that will hold cv scores\n",
    "\n",
    "cv_scores = []\n",
    "train_auc_values = []\n",
    "\n",
    "# perform 10-fold cross validation\n",
    "for alpha in alpha_values:\n",
    "    log_reg = LogisticRegression(C=alpha,penalty='l1',max_iter=10000)\n",
    "    auc = make_scorer(roc_auc_score,greater_is_better=True,\n",
    "                             needs_threshold=True)\n",
    "    auc_scores = cross_val_score(log_reg, final_std_data, y_train, cv=10, scoring=auc)\n",
    "    log_reg.fit(final_std_data,y_train)\n",
    "    y_pred_proba = log_reg.predict_proba(final_std_data)[::,1]\n",
    "    train_auc = roc_auc_score(y_train, y_pred_proba)\n",
    "    train_auc_values.append(train_auc)\n",
    "    cv_scores.append(auc_scores.mean())\n",
    "\n",
    "print ('train scores')\n",
    "print (train_auc_values)\n",
    "print ('*'*50)\n",
    "print ('CV scores')\n",
    "print (cv_scores) \n",
    "\n",
    "# changing to misclassification error\n",
    "\n",
    "log = [math.log10(x) for x in alpha_values]\n",
    "# plot misclassification error vs alpha \n",
    "plt.plot(log, cv_scores,label='CV')\n",
    "#plt.label('cv_f1')\n",
    "plt.plot(log,train_auc_values,label='train')\n",
    "#plt.label('train_f1')\n",
    "plt.legend()\n",
    "plt.xlabel('hyperparameter C')\n",
    "plt.ylabel('AUC')\n",
    "plt.show()"
   ]
  },
  {
   "cell_type": "code",
   "execution_count": 70,
   "metadata": {},
   "outputs": [
    {
     "data": {
      "text/plain": [
       "LogisticRegression(C=0.005, class_weight=None, dual=False, fit_intercept=True,\n",
       "          intercept_scaling=1, max_iter=10000, multi_class='ovr', n_jobs=1,\n",
       "          penalty='l1', random_state=None, solver='liblinear', tol=0.001,\n",
       "          verbose=0, warm_start=False)"
      ]
     },
     "execution_count": 70,
     "metadata": {},
     "output_type": "execute_result"
    }
   ],
   "source": [
    "log_reg = LogisticRegression(C=0.005,penalty='l1',max_iter=10000,tol=0.001)\n",
    "log_reg.fit(final_std_data,y_train)"
   ]
  },
  {
   "cell_type": "code",
   "execution_count": 71,
   "metadata": {},
   "outputs": [
    {
     "name": "stdout",
     "output_type": "stream",
     "text": [
      "accuracy = 91.13333333333333\n"
     ]
    }
   ],
   "source": [
    "print('accuracy = {0}'.format(log_reg.score(standardizing.transform(vector.transform(tfidf_test)), y_test)*100))"
   ]
  },
  {
   "cell_type": "code",
   "execution_count": 72,
   "metadata": {},
   "outputs": [],
   "source": [
    "predictions = log_reg.predict(standardizing.transform(vector.transform(tfidf_test)))"
   ]
  },
  {
   "cell_type": "code",
   "execution_count": 73,
   "metadata": {},
   "outputs": [
    {
     "name": "stdout",
     "output_type": "stream",
     "text": [
      "precision = 0.916547175222254\n",
      "Recall=0.9871814671814672\n",
      "f1_score=0.9505539445311919\n"
     ]
    }
   ],
   "source": [
    "precision = precision_score(y_test, predictions,pos_label=1)\n",
    "Recall = recall_score(y_test, predictions,pos_label=1)\n",
    "f1 = f1_score(y_test, predictions,pos_label=1)\n",
    "print ('precision = {0}'.format(precision))\n",
    "print ('Recall={0}'.format(Recall))\n",
    "print ('f1_score={0}'.format(f1))"
   ]
  },
  {
   "cell_type": "code",
   "execution_count": 74,
   "metadata": {},
   "outputs": [
    {
     "data": {
      "text/plain": [
       "<matplotlib.axes._subplots.AxesSubplot at 0x448149f780>"
      ]
     },
     "execution_count": 74,
     "metadata": {},
     "output_type": "execute_result"
    },
    {
     "data": {
      "image/png": "[encoded data removed]",
      "text/plain": [
       "<Figure size 432x288 with 2 Axes>"
      ]
     },
     "metadata": {},
     "output_type": "display_data"
    }
   ],
   "source": [
    "from sklearn.metrics import confusion_matrix\n",
    "import seaborn as sns\n",
    "result = confusion_matrix(y_test,predictions)\n",
    "#print(result)\n",
    "sns.set(font_scale=1.4)#for label size\n",
    "sns.heatmap(result, annot=True,annot_kws={\"size\": 16}, fmt='g')"
   ]
  },
  {
   "cell_type": "code",
   "execution_count": 75,
   "metadata": {},
   "outputs": [
    {
     "data": {
      "image/png": "[encoded data removed]",
      "text/plain": [
       "<Figure size 432x288 with 1 Axes>"
      ]
     },
     "metadata": {},
     "output_type": "display_data"
    }
   ],
   "source": [
    "y_pred_proba = log_reg.predict_proba(standardizing.transform(vector.transform(tfidf_test)))[::,1]\n",
    "fpr, tpr, _ = roc_curve(y_test, y_pred_proba,pos_label=1 )\n",
    "#auc = roc_auc_score(y_test, y_pred_proba)\n",
    "auc = np.trapz(tpr,fpr)\n",
    "plt.plot(fpr,tpr,label=\"data 1, auc=\"+str(auc))\n",
    "plt.legend(loc=4)\n",
    "plt.show()"
   ]
  },
  {
   "cell_type": "markdown",
   "metadata": {},
   "source": [
    "### [4.2.2.1]Feature Importance of TFIDF with l1 regularization "
   ]
  },
  {
   "cell_type": "code",
   "execution_count": 76,
   "metadata": {},
   "outputs": [
    {
     "name": "stdout",
     "output_type": "stream",
     "text": [
      "top 10 positive features \t\t top 10 negative features\n",
      "----------------------------------------------------------------------------------------------------\n",
      "\tfind\t\t\t\t\tnot\n",
      "\tnice\t\t\t\t\tdisappoint\n",
      "\tfavorit\t\t\t\t\tworst\n",
      "\texcel\t\t\t\t\tterribl\n",
      "\tgood\t\t\t\t\taw\n",
      "\tperfect\t\t\t\t\thorribl\n",
      "\tdelici\t\t\t\t\treturn\n",
      "\tlove\t\t\t\t\tmoney\n",
      "\tbest\t\t\t\t\tthrew\n",
      "\tgreat\t\t\t\t\tunfortun\n"
     ]
    }
   ],
   "source": [
    "pos_indices = []\n",
    "neg_indices = []\n",
    "feat_names = vector.get_feature_names()\n",
    "weights_before = log_reg.coef_\n",
    "indices = list (np.argsort(weights_before[0]))\n",
    "pos_indices = indices[-10:]\n",
    "neg_indices = indices[0:10]\n",
    "print ('top 10 positive features \\t\\t top 10 negative features')\n",
    "print ('-'*100)\n",
    "for id1,id2 in zip(pos_indices,neg_indices):\n",
    "    print ('\\t{0}\\t\\t\\t\\t\\t{1}'.format(feat_names[id1],feat_names[id2]))\n",
    "   "
   ]
  },
  {
   "cell_type": "markdown",
   "metadata": {},
   "source": [
    "# [4.3] Logistic Regression on AVG W2V,<font color='red'> SET 3</font>"
   ]
  },
  {
   "cell_type": "markdown",
   "metadata": {},
   "source": [
    "## [4.3.1] Applying Logistic Regression with L2 regularization on AVG W2V<font color='red'> SET 3</font>"
   ]
  },
  {
   "cell_type": "code",
   "execution_count": 77,
   "metadata": {},
   "outputs": [],
   "source": [
    "import pickle \n",
    "with open(\"avg_w2v_train_data.pkl\", \"rb\") as f:\n",
    "    avg_w2v_train_data = pickle.load(f)"
   ]
  },
  {
   "cell_type": "code",
   "execution_count": 78,
   "metadata": {},
   "outputs": [],
   "source": [
    "import pickle \n",
    "with open(\"avg_w2v_test_data.pkl\", \"rb\") as f:\n",
    "    avg_w2v_test_data = pickle.load(f)"
   ]
  },
  {
   "cell_type": "code",
   "execution_count": 79,
   "metadata": {},
   "outputs": [
    {
     "data": {
      "text/plain": [
       "(70000, 300)"
      ]
     },
     "execution_count": 79,
     "metadata": {},
     "output_type": "execute_result"
    }
   ],
   "source": [
    "standardizing  = StandardScaler(with_mean = False)\n",
    "avg_w2v_std_train_data = standardizing.fit_transform(avg_w2v_train_data)\n",
    "avg_w2v_std_train_data.shape"
   ]
  },
  {
   "cell_type": "code",
   "execution_count": 80,
   "metadata": {},
   "outputs": [
    {
     "name": "stdout",
     "output_type": "stream",
     "text": [
      "train scores\n",
      "[0.9039903001300007, 0.9109722605770828, 0.912938977070425, 0.9162205654902067, 0.9168933998164115, 0.9182625861846088, 0.9187685496478182, 0.9186127071682118, 0.9190800821773921, 0.9186336771314563, 0.9186528120002114, 0.9186360368214579, 0.918610872073722]\n",
      "**************************************************\n",
      "CV scores\n",
      "[0.9017952549247147, 0.9087825405111462, 0.910729067005892, 0.9134717315274579, 0.9142392642518248, 0.9153035101774499, 0.9153699457449465, 0.9158371425896131, 0.9156984118217302, 0.9156940071990342, 0.9157228896462861, 0.9157465360364453, 0.9158369842211569]\n"
     ]
    },
    {
     "data": {
      "image/png": "[encoded data removed]",
      "text/plain": [
       "<Figure size 432x288 with 1 Axes>"
      ]
     },
     "metadata": {},
     "output_type": "display_data"
    }
   ],
   "source": [
    "from sklearn.metrics import make_scorer\n",
    "from sklearn.model_selection import cross_val_score\n",
    "from sklearn.metrics import roc_auc_score\n",
    "# creating list for hyperparameter alpha\n",
    "alpha_values = [0.0001,0.0005,0.001,0.005,0.01,0.05,0.1,100,500,1000,2500,5000,10000]\n",
    "# empty list that will hold cv scores\n",
    "\n",
    "cv_scores = []\n",
    "train_auc_values = []\n",
    "\n",
    "# perform 10-fold cross validation\n",
    "for alpha in alpha_values:\n",
    "    log_reg = LogisticRegression(C=alpha,penalty='l2',max_iter=10000)\n",
    "    auc = make_scorer(roc_auc_score,greater_is_better=True,\n",
    "                             needs_threshold=True)\n",
    "    auc_scores = cross_val_score(log_reg, avg_w2v_std_train_data, y_train, cv=10, scoring=auc)\n",
    "    log_reg.fit(avg_w2v_std_train_data,y_train)\n",
    "    y_pred_proba = log_reg.predict_proba(avg_w2v_std_train_data)[::,1]\n",
    "    train_auc = roc_auc_score(y_train, y_pred_proba)\n",
    "    train_auc_values.append(train_auc)\n",
    "    cv_scores.append(auc_scores.mean())\n",
    "\n",
    "print ('train scores')\n",
    "print (train_auc_values)\n",
    "print ('*'*50)\n",
    "print ('CV scores')\n",
    "print (cv_scores) \n",
    "\n",
    "# changing to misclassification error\n",
    "\n",
    "log = [math.log10(x) for x in alpha_values]\n",
    "# plot misclassification error vs alpha \n",
    "plt.plot(log, cv_scores,label='CV')\n",
    "#plt.label('cv_f1')\n",
    "plt.plot(log,train_auc_values,label='train')\n",
    "#plt.label('train_f1')\n",
    "plt.legend()\n",
    "plt.xlabel('hyperparameter C')\n",
    "plt.ylabel('AUC')\n",
    "plt.show()"
   ]
  },
  {
   "cell_type": "code",
   "execution_count": 81,
   "metadata": {},
   "outputs": [
    {
     "data": {
      "text/plain": [
       "LogisticRegression(C=0.05, class_weight=None, dual=False, fit_intercept=True,\n",
       "          intercept_scaling=1, max_iter=10000, multi_class='ovr', n_jobs=1,\n",
       "          penalty='l2', random_state=None, solver='liblinear', tol=0.001,\n",
       "          verbose=0, warm_start=False)"
      ]
     },
     "execution_count": 81,
     "metadata": {},
     "output_type": "execute_result"
    }
   ],
   "source": [
    "log_reg = LogisticRegression(C=0.05,penalty='l2',max_iter=10000,tol=0.001)\n",
    "log_reg.fit(avg_w2v_std_train_data,y_train)"
   ]
  },
  {
   "cell_type": "code",
   "execution_count": 82,
   "metadata": {},
   "outputs": [
    {
     "name": "stdout",
     "output_type": "stream",
     "text": [
      "accuracy = 81.02333333333334\n",
      "precision = 0.9090651443378275\n",
      "Recall=0.8669111969111969\n",
      "f1_score=0.8874878950176881\n"
     ]
    }
   ],
   "source": [
    "predictions = log_reg.predict(standardizing.transform(avg_w2v_test_data))\n",
    "print('accuracy = {0}'.format(log_reg.score(standardizing.transform(avg_w2v_test_data), y_test)*100))\n",
    "precision = precision_score(y_test, predictions,pos_label=1)\n",
    "Recall = recall_score(y_test, predictions,pos_label=1)\n",
    "f1 = f1_score(y_test, predictions,pos_label=1)\n",
    "print ('precision = {0}'.format(precision))\n",
    "print ('Recall={0}'.format(Recall))\n",
    "print ('f1_score={0}'.format(f1))"
   ]
  },
  {
   "cell_type": "code",
   "execution_count": 83,
   "metadata": {},
   "outputs": [
    {
     "data": {
      "text/plain": [
       "<matplotlib.axes._subplots.AxesSubplot at 0x44800a20b8>"
      ]
     },
     "execution_count": 83,
     "metadata": {},
     "output_type": "execute_result"
    },
    {
     "data": {
      "image/png": "[encoded data removed]",
      "text/plain": [
       "<Figure size 432x288 with 2 Axes>"
      ]
     },
     "metadata": {},
     "output_type": "display_data"
    }
   ],
   "source": [
    "from sklearn.metrics import confusion_matrix\n",
    "import seaborn as sns\n",
    "result = confusion_matrix(y_test,predictions)\n",
    "#print(result)\n",
    "sns.set(font_scale=1.4)#for label size\n",
    "sns.heatmap(result, annot=True,annot_kws={\"size\": 16}, fmt='g')"
   ]
  },
  {
   "cell_type": "code",
   "execution_count": 84,
   "metadata": {},
   "outputs": [
    {
     "data": {
      "image/png": "[encoded data removed]",
      "text/plain": [
       "<Figure size 432x288 with 1 Axes>"
      ]
     },
     "metadata": {},
     "output_type": "display_data"
    }
   ],
   "source": [
    "y_pred_proba = log_reg.predict_proba(standardizing.transform(avg_w2v_test_data))[::,1]\n",
    "fpr, tpr, _ = roc_curve(y_test, y_pred_proba,pos_label=1 )\n",
    "#auc = roc_auc_score(y_test, y_pred_proba)\n",
    "auc = np.trapz(tpr,fpr)\n",
    "plt.plot(fpr,tpr,label=\"data 1, auc=\"+str(auc))\n",
    "plt.legend(loc=4)\n",
    "plt.show()"
   ]
  },
  {
   "cell_type": "markdown",
   "metadata": {},
   "source": [
    "## [4.3.2] Applying Logistic Regression with L1 regularization on AVG W2V,<font color='red'> SET 3</font>"
   ]
  },
  {
   "cell_type": "code",
   "execution_count": 85,
   "metadata": {},
   "outputs": [
    {
     "name": "stdout",
     "output_type": "stream",
     "text": [
      "train scores\n",
      "[0.596049529536806, 0.8629598876454986, 0.891350149489925, 0.9090660408341188, 0.9120050109759238, 0.9147767954974264, 0.9152018049648908, 0.9161072350431385, 0.9157835912858548, 0.9159524259177105, 0.915878291663623, 0.9158564091021479, 0.9157999190737187]\n",
      "**************************************************\n",
      "CV scores\n",
      "[0.5127810767906871, 0.8380087759880162, 0.8837906321494697, 0.905839213257182, 0.9097132125417524, 0.9126881639968716, 0.9132312886183958, 0.9137318418192102, 0.913718182539838, 0.9133167778908133, 0.913548441248569, 0.9135966248514553, 0.9134416415207252]\n"
     ]
    },
    {
     "data": {
      "image/png": "[encoded data removed]",
      "text/plain": [
       "<Figure size 432x288 with 1 Axes>"
      ]
     },
     "metadata": {},
     "output_type": "display_data"
    }
   ],
   "source": [
    "from sklearn.metrics import make_scorer\n",
    "from sklearn.model_selection import cross_val_score\n",
    "from sklearn.metrics import roc_auc_score\n",
    "# creating list for hyperparameter alpha\n",
    "alpha_values = [0.0001,0.0005,0.001,0.005,0.01,0.05,0.1,100,500,1000,2500,5000,10000]\n",
    "# empty list that will hold cv scores\n",
    "\n",
    "cv_scores = []\n",
    "train_auc_values = []\n",
    "\n",
    "# perform 10-fold cross validation\n",
    "for alpha in alpha_values:\n",
    "    log_reg = LogisticRegression(C=alpha,penalty='l1',max_iter=10000,)\n",
    "    auc = make_scorer(roc_auc_score,greater_is_better=True,\n",
    "                             needs_threshold=True)\n",
    "    auc_scores = cross_val_score(log_reg, avg_w2v_std_train_data, y_train, cv=10, scoring=auc)\n",
    "    log_reg.fit(avg_w2v_std_train_data,y_train)\n",
    "    y_pred_proba = log_reg.predict_proba(avg_w2v_std_train_data)[::,1]\n",
    "    train_auc = roc_auc_score(y_train, y_pred_proba)\n",
    "    train_auc_values.append(train_auc)\n",
    "    cv_scores.append(auc_scores.mean())\n",
    "\n",
    "print ('train scores')\n",
    "print (train_auc_values)\n",
    "print ('*'*50)\n",
    "print ('CV scores')\n",
    "print (cv_scores) \n",
    "\n",
    "# changing to misclassification error\n",
    "\n",
    "log = [math.log10(x) for x in alpha_values]\n",
    "# plot misclassification error vs alpha \n",
    "plt.plot(log, cv_scores,label='CV')\n",
    "#plt.label('cv_f1')\n",
    "plt.plot(log,train_auc_values,label='train')\n",
    "#plt.label('train_f1')\n",
    "plt.legend()\n",
    "plt.xlabel('hyperparameter C')\n",
    "plt.ylabel('AUC')\n",
    "plt.show()"
   ]
  },
  {
   "cell_type": "code",
   "execution_count": 89,
   "metadata": {},
   "outputs": [
    {
     "data": {
      "text/plain": [
       "LogisticRegression(C=0.05, class_weight=None, dual=False, fit_intercept=True,\n",
       "          intercept_scaling=1, max_iter=10000, multi_class='ovr', n_jobs=1,\n",
       "          penalty='l1', random_state=None, solver='liblinear', tol=0.001,\n",
       "          verbose=0, warm_start=False)"
      ]
     },
     "execution_count": 89,
     "metadata": {},
     "output_type": "execute_result"
    }
   ],
   "source": [
    "log_reg = LogisticRegression(C=0.05,penalty='l1',max_iter=10000,tol=0.001)\n",
    "log_reg.fit(avg_w2v_std_train_data,y_train)"
   ]
  },
  {
   "cell_type": "code",
   "execution_count": 90,
   "metadata": {},
   "outputs": [
    {
     "name": "stdout",
     "output_type": "stream",
     "text": [
      "accuracy = 86.45666666666668\n",
      "precision = 0.8645941162720807\n",
      "Recall=0.9996911196911197\n",
      "f1_score=0.9272476587820296\n"
     ]
    }
   ],
   "source": [
    "predictions = log_reg.predict(standardizing.transform(avg_w2v_test_data))\n",
    "print('accuracy = {0}'.format(log_reg.score(standardizing.transform(avg_w2v_test_data), y_test)*100))\n",
    "precision = precision_score(y_test, predictions,pos_label=1)\n",
    "Recall = recall_score(y_test, predictions,pos_label=1)\n",
    "f1 = f1_score(y_test, predictions,pos_label=1)\n",
    "print ('precision = {0}'.format(precision))\n",
    "print ('Recall={0}'.format(Recall))\n",
    "print ('f1_score={0}'.format(f1))"
   ]
  },
  {
   "cell_type": "code",
   "execution_count": 92,
   "metadata": {},
   "outputs": [
    {
     "data": {
      "text/plain": [
       "<matplotlib.axes._subplots.AxesSubplot at 0x4485e20358>"
      ]
     },
     "execution_count": 92,
     "metadata": {},
     "output_type": "execute_result"
    },
    {
     "data": {
      "image/png": "[encoded data removed]",
      "text/plain": [
       "<Figure size 432x288 with 2 Axes>"
      ]
     },
     "metadata": {},
     "output_type": "display_data"
    }
   ],
   "source": [
    "from sklearn.metrics import confusion_matrix\n",
    "import seaborn as sns\n",
    "result = confusion_matrix(y_test,predictions)\n",
    "#print(result)\n",
    "sns.set(font_scale=1.4)#for label size\n",
    "sns.heatmap(result, annot=True,annot_kws={\"size\": 16}, fmt='g')"
   ]
  },
  {
   "cell_type": "code",
   "execution_count": 93,
   "metadata": {},
   "outputs": [
    {
     "data": {
      "image/png": "[encoded data removed]",
      "text/plain": [
       "<Figure size 432x288 with 1 Axes>"
      ]
     },
     "metadata": {},
     "output_type": "display_data"
    }
   ],
   "source": [
    "y_pred_proba = log_reg.predict_proba(standardizing.transform(avg_w2v_test_data))[::,1]\n",
    "fpr, tpr, _ = roc_curve(y_test, y_pred_proba,pos_label=1 )\n",
    "#auc = roc_auc_score(y_test, y_pred_proba)\n",
    "auc = np.trapz(tpr,fpr)\n",
    "plt.plot(fpr,tpr,label=\"data 1, auc=\"+str(auc))\n",
    "plt.legend(loc=4)\n",
    "plt.show()"
   ]
  },
  {
   "cell_type": "markdown",
   "metadata": {},
   "source": [
    "# [4.4] Logistic Regression on TFIDF W2V,<font color='red'> SET 4</font>"
   ]
  },
  {
   "cell_type": "markdown",
   "metadata": {},
   "source": [
    "## [4.4.1] Applying Logistic Regression with L2 regularization on TFIDF W2V,<font color='red'> SET 4</font>"
   ]
  },
  {
   "cell_type": "code",
   "execution_count": 95,
   "metadata": {},
   "outputs": [],
   "source": [
    "import pickle \n",
    "with open(\"tfidf_w2v_train_data.pkl\", \"rb\") as f:\n",
    "    tfidf_w2v_train_data = pickle.load(f)"
   ]
  },
  {
   "cell_type": "code",
   "execution_count": 96,
   "metadata": {},
   "outputs": [],
   "source": [
    "import pickle \n",
    "with open(\"tfidf_w2v_test_data.pkl\", \"rb\") as f:\n",
    "    tfidf_w2v_test_data = pickle.load(f)"
   ]
  },
  {
   "cell_type": "code",
   "execution_count": 97,
   "metadata": {},
   "outputs": [
    {
     "data": {
      "text/plain": [
       "(70000, 300)"
      ]
     },
     "execution_count": 97,
     "metadata": {},
     "output_type": "execute_result"
    }
   ],
   "source": [
    "standardizing  = StandardScaler(with_mean = False)\n",
    "tfidf_w2v_std_train_data = standardizing.fit_transform(tfidf_w2v_train_data)\n",
    "tfidf_w2v_std_train_data.shape"
   ]
  },
  {
   "cell_type": "code",
   "execution_count": 98,
   "metadata": {},
   "outputs": [
    {
     "data": {
      "text/plain": [
       "0.0071627058222749704"
      ]
     },
     "execution_count": 98,
     "metadata": {},
     "output_type": "execute_result"
    }
   ],
   "source": [
    "tfidf_w2v_std_train_data.mean()"
   ]
  },
  {
   "cell_type": "code",
   "execution_count": 99,
   "metadata": {},
   "outputs": [
    {
     "name": "stdout",
     "output_type": "stream",
     "text": [
      "train scores\n",
      "[0.8316270587156991, 0.843892458117977, 0.8469494345355281, 0.8522581075246595, 0.8540400931523262, 0.8568322715718129, 0.8574984999537762, 0.857940708235615, 0.8586533207588779, 0.8590636910421456, 0.8579022821092541, 0.8578925226531231, 0.8579026384382811]\n",
      "**************************************************\n",
      "CV scores\n",
      "[0.8265845605404006, 0.8399606573161972, 0.8429660551070757, 0.8476368060962354, 0.8492059009670573, 0.8512725994261915, 0.8519668372492903, 0.8522394289550196, 0.8526927091715726, 0.8521712909266158, 0.8522005989890946, 0.8521940069020932, 0.8523305996958138]\n"
     ]
    },
    {
     "data": {
      "image/png": "[encoded data removed]",
      "text/plain": [
       "<Figure size 432x288 with 1 Axes>"
      ]
     },
     "metadata": {},
     "output_type": "display_data"
    }
   ],
   "source": [
    "from sklearn.metrics import make_scorer\n",
    "from sklearn.model_selection import cross_val_score\n",
    "from sklearn.metrics import roc_auc_score\n",
    "# creating list for hyperparameter alpha\n",
    "alpha_values = [0.0001,0.0005,0.001,0.005,0.01,0.05,0.1,100,500,1000,2500,5000,10000]\n",
    "# empty list that will hold cv scores\n",
    "\n",
    "cv_scores = []\n",
    "train_auc_values = []\n",
    "\n",
    "# perform 10-fold cross validation\n",
    "for alpha in alpha_values:\n",
    "    log_reg = LogisticRegression(C=alpha,penalty='l2',max_iter=10000)\n",
    "    auc = make_scorer(roc_auc_score,greater_is_better=True,\n",
    "                             needs_threshold=True)\n",
    "    auc_scores = cross_val_score(log_reg, tfidf_w2v_std_train_data, y_train, cv=5, scoring=auc)\n",
    "    log_reg.fit(tfidf_w2v_std_train_data,y_train)\n",
    "    y_pred_proba = log_reg.predict_proba(tfidf_w2v_std_train_data)[::,1]\n",
    "    train_auc = roc_auc_score(y_train, y_pred_proba)\n",
    "    train_auc_values.append(train_auc)\n",
    "    cv_scores.append(auc_scores.mean())\n",
    "\n",
    "print ('train scores')\n",
    "print (train_auc_values)\n",
    "print ('*'*50)\n",
    "print ('CV scores')\n",
    "print (cv_scores) \n",
    "\n",
    "# changing to misclassification error\n",
    "\n",
    "log = [math.log10(x) for x in alpha_values]\n",
    "# plot misclassification error vs alpha \n",
    "plt.plot(log, cv_scores,label='CV')\n",
    "#plt.label('cv_f1')\n",
    "plt.plot(log,train_auc_values,label='train')\n",
    "#plt.label('train_f1')\n",
    "plt.legend()\n",
    "plt.xlabel('hyperparameter C')\n",
    "plt.ylabel('AUC')\n",
    "plt.show()"
   ]
  },
  {
   "cell_type": "code",
   "execution_count": 110,
   "metadata": {},
   "outputs": [
    {
     "data": {
      "text/plain": [
       "LogisticRegression(C=0.01, class_weight=None, dual=False, fit_intercept=True,\n",
       "          intercept_scaling=1, max_iter=10000, multi_class='ovr', n_jobs=1,\n",
       "          penalty='l2', random_state=None, solver='liblinear', tol=0.001,\n",
       "          verbose=0, warm_start=False)"
      ]
     },
     "execution_count": 110,
     "metadata": {},
     "output_type": "execute_result"
    }
   ],
   "source": [
    "log_reg = LogisticRegression(C=0.01,penalty='l2',max_iter=10000,tol=0.001)\n",
    "log_reg.fit(tfidf_w2v_std_train_data,y_train)"
   ]
  },
  {
   "cell_type": "code",
   "execution_count": 111,
   "metadata": {},
   "outputs": [
    {
     "name": "stdout",
     "output_type": "stream",
     "text": [
      "accuracy = 76.42\n",
      "precision = 0.8806308127780025\n",
      "Recall=0.8408494208494208\n",
      "f1_score=0.8602804661268022\n"
     ]
    }
   ],
   "source": [
    "predictions = log_reg.predict(standardizing.transform(tfidf_w2v_test_data))\n",
    "print('accuracy = {0}'.format(log_reg.score(standardizing.transform(tfidf_w2v_test_data), y_test)*100))\n",
    "precision = precision_score(y_test, predictions,pos_label=1)\n",
    "Recall = recall_score(y_test, predictions,pos_label=1)\n",
    "f1 = f1_score(y_test, predictions,pos_label=1)\n",
    "print ('precision = {0}'.format(precision))\n",
    "print ('Recall={0}'.format(Recall))\n",
    "print ('f1_score={0}'.format(f1))"
   ]
  },
  {
   "cell_type": "code",
   "execution_count": 112,
   "metadata": {},
   "outputs": [
    {
     "data": {
      "text/plain": [
       "<matplotlib.axes._subplots.AxesSubplot at 0x449631beb8>"
      ]
     },
     "execution_count": 112,
     "metadata": {},
     "output_type": "execute_result"
    },
    {
     "data": {
      "image/png": "[encoded data removed]",
      "text/plain": [
       "<Figure size 432x288 with 2 Axes>"
      ]
     },
     "metadata": {},
     "output_type": "display_data"
    }
   ],
   "source": [
    "from sklearn.metrics import confusion_matrix\n",
    "import seaborn as sns\n",
    "result = confusion_matrix(y_test,predictions)\n",
    "#print(result)\n",
    "sns.set(font_scale=1.4)#for label size\n",
    "sns.heatmap(result, annot=True,annot_kws={\"size\": 16}, fmt='g')"
   ]
  },
  {
   "cell_type": "code",
   "execution_count": 113,
   "metadata": {},
   "outputs": [
    {
     "data": {
      "image/png": "[encoded data removed]",
      "text/plain": [
       "<Figure size 432x288 with 1 Axes>"
      ]
     },
     "metadata": {},
     "output_type": "display_data"
    }
   ],
   "source": [
    "y_pred_proba = log_reg.predict_proba(standardizing.transform(tfidf_w2v_test_data))[::,1]\n",
    "fpr, tpr, _ = roc_curve(y_test, y_pred_proba,pos_label=1 )\n",
    "#auc = roc_auc_score(y_test, y_pred_proba)\n",
    "auc = np.trapz(tpr,fpr)\n",
    "plt.plot(fpr,tpr,label=\"data 1, auc=\"+str(auc))\n",
    "plt.legend(loc=4)\n",
    "plt.show()"
   ]
  },
  {
   "cell_type": "markdown",
   "metadata": {},
   "source": [
    "## [4.4.2] Applying Logistic Regression with L1 regularization on TFIDF W2V,<font color='red'> SET 4</font>"
   ]
  },
  {
   "cell_type": "code",
   "execution_count": 114,
   "metadata": {},
   "outputs": [
    {
     "name": "stdout",
     "output_type": "stream",
     "text": [
      "train scores\n",
      "[0.5633358424835658, 0.7540617737940192, 0.8097770102846455, 0.8395026884035292, 0.845292490702287, 0.8508584985759706, 0.8509498474812783, 0.8534691293357572, 0.853501387010738, 0.8534165985187403, 0.8530253334101421, 0.8531025142774112, 0.8532963889418433]\n",
      "**************************************************\n",
      "CV scores\n",
      "[0.5582377926129428, 0.7205708054481125, 0.7946056041449776, 0.8355777409967038, 0.8409341878103402, 0.8468424497145508, 0.8472910184695234, 0.8490297259572432, 0.8490785034418413, 0.8489612118037556, 0.849059330960578, 0.8489434448425431, 0.8485939751492177]\n"
     ]
    },
    {
     "data": {
      "image/png": "[encoded data removed]",
      "text/plain": [
       "<Figure size 432x288 with 1 Axes>"
      ]
     },
     "metadata": {},
     "output_type": "display_data"
    }
   ],
   "source": [
    "from sklearn.metrics import make_scorer\n",
    "from sklearn.model_selection import cross_val_score\n",
    "from sklearn.metrics import roc_auc_score\n",
    "# creating list for hyperparameter alpha\n",
    "alpha_values = [0.0001,0.0005,0.001,0.005,0.01,0.05,0.1,100,500,1000,2500,5000,10000]\n",
    "# empty list that will hold cv scores\n",
    "\n",
    "cv_scores = []\n",
    "train_auc_values = []\n",
    "\n",
    "# perform 10-fold cross validation\n",
    "for alpha in alpha_values:\n",
    "    log_reg = LogisticRegression(C=alpha,penalty='l1',max_iter=10000)\n",
    "    auc = make_scorer(roc_auc_score,greater_is_better=True,\n",
    "                             needs_threshold=True)\n",
    "    auc_scores = cross_val_score(log_reg, tfidf_w2v_std_train_data, y_train, cv=5, scoring=auc)\n",
    "    log_reg.fit(tfidf_w2v_std_train_data,y_train)\n",
    "    y_pred_proba = log_reg.predict_proba(tfidf_w2v_std_train_data)[::,1]\n",
    "    train_auc = roc_auc_score(y_train, y_pred_proba)\n",
    "    train_auc_values.append(train_auc)\n",
    "    cv_scores.append(auc_scores.mean())\n",
    "\n",
    "print ('train scores')\n",
    "print (train_auc_values)\n",
    "print ('*'*50)\n",
    "print ('CV scores')\n",
    "print (cv_scores) \n",
    "\n",
    "# changing to misclassification error\n",
    "\n",
    "log = [math.log10(x) for x in alpha_values]\n",
    "# plot misclassification error vs alpha \n",
    "plt.plot(log, cv_scores,label='CV')\n",
    "#plt.label('cv_f1')\n",
    "plt.plot(log,train_auc_values,label='train')\n",
    "#plt.label('train_f1')\n",
    "plt.legend()\n",
    "plt.xlabel('hyperparameter C')\n",
    "plt.ylabel('AUC')\n",
    "plt.show()"
   ]
  },
  {
   "cell_type": "code",
   "execution_count": 115,
   "metadata": {},
   "outputs": [
    {
     "data": {
      "text/plain": [
       "LogisticRegression(C=0.05, class_weight=None, dual=False, fit_intercept=True,\n",
       "          intercept_scaling=1, max_iter=10000, multi_class='ovr', n_jobs=1,\n",
       "          penalty='l1', random_state=None, solver='liblinear', tol=0.001,\n",
       "          verbose=0, warm_start=False)"
      ]
     },
     "execution_count": 115,
     "metadata": {},
     "output_type": "execute_result"
    }
   ],
   "source": [
    "log_reg = LogisticRegression(C=0.05,penalty='l1',max_iter=10000,tol=0.001)\n",
    "log_reg.fit(tfidf_w2v_std_train_data,y_train)"
   ]
  },
  {
   "cell_type": "code",
   "execution_count": 116,
   "metadata": {},
   "outputs": [
    {
     "name": "stdout",
     "output_type": "stream",
     "text": [
      "accuracy = 77.99333333333334\n",
      "precision = 0.8777699475373894\n",
      "Recall=0.8656370656370657\n",
      "f1_score=0.8716612884413515\n"
     ]
    }
   ],
   "source": [
    "predictions = log_reg.predict(standardizing.transform(tfidf_w2v_test_data))\n",
    "print('accuracy = {0}'.format(log_reg.score(standardizing.transform(tfidf_w2v_test_data), y_test)*100))\n",
    "precision = precision_score(y_test, predictions,pos_label=1)\n",
    "Recall = recall_score(y_test, predictions,pos_label=1)\n",
    "f1 = f1_score(y_test, predictions,pos_label=1)\n",
    "print ('precision = {0}'.format(precision))\n",
    "print ('Recall={0}'.format(Recall))\n",
    "print ('f1_score={0}'.format(f1))"
   ]
  },
  {
   "cell_type": "code",
   "execution_count": 117,
   "metadata": {},
   "outputs": [
    {
     "data": {
      "text/plain": [
       "<matplotlib.axes._subplots.AxesSubplot at 0x449d2f7a58>"
      ]
     },
     "execution_count": 117,
     "metadata": {},
     "output_type": "execute_result"
    },
    {
     "data": {
      "image/png": "[encoded data removed]",
      "text/plain": [
       "<Figure size 432x288 with 2 Axes>"
      ]
     },
     "metadata": {},
     "output_type": "display_data"
    }
   ],
   "source": [
    "from sklearn.metrics import confusion_matrix\n",
    "import seaborn as sns\n",
    "result = confusion_matrix(y_test,predictions)\n",
    "#print(result)\n",
    "sns.set(font_scale=1.4)#for label size\n",
    "sns.heatmap(result, annot=True,annot_kws={\"size\": 16}, fmt='g')"
   ]
  },
  {
   "cell_type": "code",
   "execution_count": 118,
   "metadata": {},
   "outputs": [
    {
     "data": {
      "image/png": "[encoded data removed]",
      "text/plain": [
       "<Figure size 432x288 with 1 Axes>"
      ]
     },
     "metadata": {},
     "output_type": "display_data"
    }
   ],
   "source": [
    "y_pred_proba = log_reg.predict_proba(standardizing.transform(tfidf_w2v_test_data))[::,1]\n",
    "fpr, tpr, _ = roc_curve(y_test, y_pred_proba,pos_label=1 )\n",
    "#auc = roc_auc_score(y_test, y_pred_proba)\n",
    "auc = np.trapz(tpr,fpr)\n",
    "plt.plot(fpr,tpr,label=\"data 1, auc=\"+str(auc))\n",
    "plt.legend(loc=4)\n",
    "plt.show()"
   ]
  },
  {
   "cell_type": "markdown",
   "metadata": {},
   "source": [
    "# 5) Tabular form of Results"
   ]
  },
  {
   "cell_type": "code",
   "execution_count": 119,
   "metadata": {},
   "outputs": [
    {
     "name": "stdout",
     "output_type": "stream",
     "text": [
      "+---------------+----------------+----------+--------+-----------+--------+----------+\n",
      "| Featurization | regularization | accuracy |  AUC   | precision | recall | f1_score |\n",
      "+---------------+----------------+----------+--------+-----------+--------+----------+\n",
      "|      BOW      |       l2       |  92.51   | 0.931  |   0.9667  | 0.8784 |  0.9202  |\n",
      "|      BOW      |       l1       |  87.346  | 0.8829 |   0.8935  | 0.9688 |  0.9291  |\n",
      "|     TFIDF     |       l2       |  90.47   | 0.9138 |   0.9223  | 0.9713 |  0.9462  |\n",
      "|     TF-IDF    |       l1       |  91.13   | 0.937  |   0.916   | 0.9878 |  0.9505  |\n",
      "|    Avg W2V    |       l2       |  81.023  | 0.7754 |   0.9091  |  0.86  |  0.8875  |\n",
      "|    Avg W2V    |       l1       |  86.45   | 0.8557 |  0.86459  | 0.9974 |  0.9272  |\n",
      "|   TFIDF W2V   |       l2       |  76.42   | 0.593  |   0.8808  | 0.8408 |  0.8602  |\n",
      "|   TFIDF W2V   |       l1       |  77.99   | 0.590  |   0.8777  | 0.8656 |  0.8716  |\n",
      "+---------------+----------------+----------+--------+-----------+--------+----------+\n"
     ]
    }
   ],
   "source": [
    "from prettytable import PrettyTable \n",
    "\n",
    "x = PrettyTable()\n",
    "\n",
    "x.field_names = ['Featurization','regularization','accuracy','AUC',\n",
    "                 'precision','recall','f1_score']\n",
    "x.add_row(['BOW','l2','92.51','0.931','0.9667','0.8784','0.9202'])\n",
    "x.add_row(['BOW','l1','87.346','0.8829','0.8935','0.9688','0.9291'])\n",
    "x.add_row(['TFIDF','l2','90.47','0.9138','0.9223','0.9713','0.9462'])\n",
    "x.add_row(['TF-IDF','l1','91.13','0.937','0.916','0.9878','0.9505'])\n",
    "x.add_row(['Avg W2V','l2','81.023','0.7754','0.9091','0.86','0.8875'])\n",
    "x.add_row(['Avg W2V','l1','86.45','0.8557','0.86459','0.9974','0.9272'])\n",
    "x.add_row(['TFIDF W2V','l2','76.42','0.593','0.8808','0.8408','0.8602'])\n",
    "x.add_row(['TFIDF W2V','l1','77.99','0.590','0.8777','0.8656','0.8716'])\n",
    "print (x)\n"
   ]
  },
  {
   "cell_type": "markdown",
   "metadata": {},
   "source": [
    "# 6) Conclusions"
   ]
  },
  {
   "cell_type": "markdown",
   "metadata": {},
   "source": [
    "1) TFIDF with l1 regularizer Values has high values of preacision, recall , f1 score  \n",
    "   and it also has highest AUC. \n",
    "\n",
    "2) BOW with l2 regularizer has auc close to TFIDF,but low recall and f1_score and \n",
    "   there is high multicollinearity in BOW with l2 regularizer\n",
    "\n",
    "3) so, TFIDF with l1 regularizer is a best vector."
   ]
  }
 ],
 "metadata": {
  "kernelspec": {
   "display_name": "Python 3",
   "language": "python",
   "name": "python3"
  },
  "language_info": {
   "codemirror_mode": {
    "name": "ipython",
    "version": 3
   },
   "file_extension": ".py",
   "mimetype": "text/x-python",
   "name": "python",
   "nbconvert_exporter": "python",
   "pygments_lexer": "ipython3",
   "version": "3.5.5"
  }
 },
 "nbformat": 4,
 "nbformat_minor": 2
}

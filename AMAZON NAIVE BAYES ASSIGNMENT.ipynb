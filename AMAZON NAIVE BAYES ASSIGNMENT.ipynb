{
 "cells": [
  {
   "cell_type": "markdown",
   "metadata": {},
   "source": [
    "# Amazon Fine Food Reviews Analysis\n",
    "\n",
    "\n",
    "Data Source: https://www.kaggle.com/snap/amazon-fine-food-reviews <br>\n",
    "\n",
    "EDA: https://nycdatascience.com/blog/student-works/amazon-fine-foods-visualization/\n",
    "\n",
    "\n",
    "The Amazon Fine Food Reviews dataset consists of reviews of fine foods from Amazon.<br>\n",
    "\n",
    "Number of reviews: 568,454<br>\n",
    "Number of users: 256,059<br>\n",
    "Number of products: 74,258<br>\n",
    "Timespan: Oct 1999 - Oct 2012<br>\n",
    "Number of Attributes/Columns in data: 10 \n",
    "\n",
    "Attribute Information:\n",
    "\n",
    "1. Id\n",
    "2. ProductId - unique identifier for the product\n",
    "3. UserId - unqiue identifier for the user\n",
    "4. ProfileName\n",
    "5. HelpfulnessNumerator - number of users who found the review helpful\n",
    "6. HelpfulnessDenominator - number of users who indicated whether they found the review helpful or not\n",
    "7. Score - rating between 1 and 5\n",
    "8. Time - timestamp for the review\n",
    "9. Summary - brief summary of the review\n",
    "10. Text - text of the review\n",
    "\n",
    "\n",
    "#### Objective:\n",
    "Given a review, determine whether the review is positive (rating of 4 or 5) or negative (rating of 1 or 2).\n",
    "\n",
    "<br>\n",
    "[Q] How to determine if a review is positive or negative?<br>\n",
    "<br> \n",
    "[Ans] We could use Score/Rating. A rating of 4 or 5 can be cosnidered as a positive review. A rating of 1 or 2 can be considered as negative one. A review of rating 3 is considered nuetral and such reviews are ignored from our analysis. This is an approximate and proxy way of determining the polarity (positivity/negativity) of a review.\n",
    "\n",
    "\n"
   ]
  },
  {
   "cell_type": "markdown",
   "metadata": {},
   "source": [
    "## [1]. Reading Data"
   ]
  },
  {
   "cell_type": "markdown",
   "metadata": {},
   "source": [
    "# [1.1] Loading the data\n",
    "\n",
    "The dataset is available in two forms\n",
    "1. .csv file\n",
    "2. SQLite Database\n",
    "\n",
    "In order to load the data, We have used the SQLITE dataset as it is easier to query the data and visualise the data efficiently.\n",
    "<br> \n",
    "\n",
    "Here as we only want to get the global sentiment of the recommendations (positive or negative), we will purposefully ignore all Scores equal to 3. If the score is above 3, then the recommendation wil be set to \"positive\". Otherwise, it will be set to \"negative\"."
   ]
  },
  {
   "cell_type": "code",
   "execution_count": 1,
   "metadata": {},
   "outputs": [],
   "source": [
    "import sqlite3\n",
    "import pandas as pd\n",
    "import numpy as np\n",
    "import nltk\n",
    "import string\n",
    "import matplotlib.pyplot as plt\n",
    "import seaborn as sns\n",
    "from sklearn.feature_extraction.text import TfidfTransformer\n",
    "from sklearn.feature_extraction.text import TfidfVectorizer\n",
    "\n",
    "\n",
    "from sklearn.model_selection import train_test_split\n",
    "from sklearn.naive_bayes import MultinomialNB\n",
    "from sklearn.metrics import accuracy_score\n",
    "from sklearn.model_selection import cross_val_score\n",
    "from collections import Counter\n",
    "from sklearn.preprocessing import StandardScaler\n",
    "\n",
    "from sklearn.feature_extraction.text import CountVectorizer\n",
    "from sklearn.metrics import confusion_matrix\n",
    "from sklearn import metrics\n",
    "from sklearn.metrics import roc_curve, auc\n",
    "\n",
    "import re\n",
    "# Tutorial about Python regular expressions: https://pymotw.com/2/re/\n",
    "import string\n",
    "from nltk.corpus import stopwords\n",
    "from nltk.stem import SnowballStemmer\n",
    "from nltk.stem.wordnet import WordNetLemmatizer\n",
    "\n",
    "import pickle\n"
   ]
  },
  {
   "cell_type": "code",
   "execution_count": 1,
   "metadata": {},
   "outputs": [
    {
     "name": "stdout",
     "output_type": "stream",
     "text": [
      "   Id   ProductId          UserId ProfileName  HelpfulnessNumerator  \\\n",
      "0   1  B001E4KFG0  A3SGXH7AUHU8GW  delmartian                     1   \n",
      "1   2  B00813GRG4  A1D87F6ZCVE5NK      dll pa                     0   \n",
      "\n",
      "   HelpfulnessDenominator  Score        Time                Summary  \\\n",
      "0                       1      5  1303862400  Good Quality Dog Food   \n",
      "1                       0      1  1346976000      Not as Advertised   \n",
      "\n",
      "                                                Text  \n",
      "0  I have bought several of the Vitality canned d...  \n",
      "1  Product arrived labeled as Jumbo Salted Peanut...  \n",
      "(568454, 10)\n"
     ]
    }
   ],
   "source": [
    "data = pd.read_csv('Reviews.csv')\n",
    "print (data.head(2))\n",
    "print(data.shape)"
   ]
  },
  {
   "cell_type": "markdown",
   "metadata": {},
   "source": [
    "## [2] Data Cleaning: Deduplication and Nan features\n",
    "\n",
    "It is observed (as shown in the table below) that the reviews data had many duplicate entries. Hence it was necessary to remove duplicates in order to get unbiased results for the analysis of the data.  Following is an example:"
   ]
  },
  {
   "cell_type": "code",
   "execution_count": 2,
   "metadata": {},
   "outputs": [
    {
     "data": {
      "text/plain": [
       "Id                        False\n",
       "ProductId                 False\n",
       "UserId                    False\n",
       "ProfileName                True\n",
       "HelpfulnessNumerator      False\n",
       "HelpfulnessDenominator    False\n",
       "Score                     False\n",
       "Time                      False\n",
       "Summary                    True\n",
       "Text                      False\n",
       "dtype: bool"
      ]
     },
     "execution_count": 2,
     "metadata": {},
     "output_type": "execute_result"
    }
   ],
   "source": [
    "#checking for Nan values in data. True indicates Nan values are present along the columns\n",
    "data.isnull().any()"
   ]
  },
  {
   "cell_type": "code",
   "execution_count": 3,
   "metadata": {},
   "outputs": [],
   "source": [
    "# checking for Nan values along 'profilename' column\n",
    "#data[data['ProfileName'].isnull()].head(2)"
   ]
  },
  {
   "cell_type": "code",
   "execution_count": 4,
   "metadata": {},
   "outputs": [],
   "source": [
    "# checking for Nan values along 'summary' column\n",
    "#data[data['Summary'].isnull()]"
   ]
  },
  {
   "cell_type": "code",
   "execution_count": 5,
   "metadata": {},
   "outputs": [],
   "source": [
    "#Dropping Nan values\n",
    "data = data.dropna()"
   ]
  },
  {
   "cell_type": "code",
   "execution_count": 6,
   "metadata": {},
   "outputs": [
    {
     "name": "stdout",
     "output_type": "stream",
     "text": [
      "(568411, 10)\n"
     ]
    }
   ],
   "source": [
    "#printing shape of data after dropping Nan values\n",
    "print (data.shape)"
   ]
  },
  {
   "cell_type": "code",
   "execution_count": 7,
   "metadata": {},
   "outputs": [
    {
     "data": {
      "text/plain": [
       "True"
      ]
     },
     "execution_count": 7,
     "metadata": {},
     "output_type": "execute_result"
    }
   ],
   "source": [
    "#Review score should lie between 1 to 5\n",
    "#Returns True if all the scores lie between 1 to 5(inclusive)\n",
    "list1 = data['Score'].map(lambda x: True if x in [1,2,3,4,5] else False)\n",
    "list1.all()"
   ]
  },
  {
   "cell_type": "code",
   "execution_count": 8,
   "metadata": {},
   "outputs": [
    {
     "name": "stdout",
     "output_type": "stream",
     "text": [
      "   Id   ProductId          UserId ProfileName  HelpfulnessNumerator  \\\n",
      "0   1  B001E4KFG0  A3SGXH7AUHU8GW  delmartian                     1   \n",
      "1   2  B00813GRG4  A1D87F6ZCVE5NK      dll pa                     0   \n",
      "\n",
      "   HelpfulnessDenominator  Score        Time                Summary  \\\n",
      "0                       1      5  1303862400  Good Quality Dog Food   \n",
      "1                       0      1  1346976000      Not as Advertised   \n",
      "\n",
      "                                                Text  \n",
      "0  I have bought several of the Vitality canned d...  \n",
      "1  Product arrived labeled as Jumbo Salted Peanut...  \n",
      "(525773, 10)\n"
     ]
    }
   ],
   "source": [
    "filtered_data = data.loc[data['Score']!=3].copy()\n",
    "print (filtered_data.head(2))\n",
    "print (filtered_data.shape)"
   ]
  },
  {
   "cell_type": "code",
   "execution_count": 9,
   "metadata": {},
   "outputs": [
    {
     "name": "stdout",
     "output_type": "stream",
     "text": [
      "shape of filtered_data\n",
      "(525773, 10)\n"
     ]
    }
   ],
   "source": [
    "#mapping positive(>3) and negative(<3) reviews based on scores of the data.\n",
    "import pandas as pd\n",
    "pos_negative = filtered_data['Score'].map(lambda x: 1 if int (x)>3  else 0)\n",
    "filtered_data['Score'] = pos_negative\n",
    "print ('shape of filtered_data')\n",
    "print (filtered_data.shape)\n",
    "#print (filtered_data.head())\n"
   ]
  },
  {
   "cell_type": "code",
   "execution_count": 10,
   "metadata": {},
   "outputs": [],
   "source": [
    "#arranging data with increasing productid\n",
    "sorted_data = filtered_data.sort_values('ProductId',axis=0,ascending=True,inplace=False,kind='quicksort')"
   ]
  },
  {
   "cell_type": "code",
   "execution_count": 11,
   "metadata": {},
   "outputs": [],
   "source": [
    "#finding the duplicates in our data\n",
    "#If the same person gives for the same product at the same time we call it as suplicates\n",
    "#sorted_data.loc[sorted_data.duplicated([\"UserId\",\"ProfileName\",\"Time\",\"Text\"],keep = False),:]"
   ]
  },
  {
   "cell_type": "code",
   "execution_count": 12,
   "metadata": {},
   "outputs": [
    {
     "data": {
      "text/plain": [
       "161612"
      ]
     },
     "execution_count": 12,
     "metadata": {},
     "output_type": "execute_result"
    }
   ],
   "source": [
    "#counting number of duplicates present in our data\n",
    "sorted_data.duplicated([\"UserId\",\"ProfileName\",\"Time\",\"Text\"]).sum()"
   ]
  },
  {
   "cell_type": "code",
   "execution_count": 13,
   "metadata": {},
   "outputs": [
    {
     "data": {
      "text/plain": [
       "(364161, 10)"
      ]
     },
     "execution_count": 13,
     "metadata": {},
     "output_type": "execute_result"
    }
   ],
   "source": [
    "#dropping all duplicates keeping the first one\n",
    "final = sorted_data.drop_duplicates(subset={\"UserId\",\"ProfileName\",\"Time\",\"Text\"},keep='first',inplace = False)\n",
    "final.shape"
   ]
  },
  {
   "cell_type": "code",
   "execution_count": 14,
   "metadata": {},
   "outputs": [
    {
     "data": {
      "text/plain": [
       "69.26201992114468"
      ]
     },
     "execution_count": 14,
     "metadata": {},
     "output_type": "execute_result"
    }
   ],
   "source": [
    "#Checking to see how much % of data still remains\n",
    "(final['Id'].size*1.0)/(sorted_data['Id'].size*1.0)*100"
   ]
  },
  {
   "cell_type": "code",
   "execution_count": 15,
   "metadata": {},
   "outputs": [],
   "source": [
    "#helpfulness numerator denotes number of people who found the review helpful\n",
    "#helpfulness denominator denotes number of people who indicated whether or not the review helpful\n",
    "#so, helpfulness numerator should be less than denominator\n",
    "final = final[final.HelpfulnessNumerator<=final.HelpfulnessDenominator]"
   ]
  },
  {
   "cell_type": "code",
   "execution_count": 16,
   "metadata": {},
   "outputs": [
    {
     "data": {
      "text/plain": [
       "(364159, 10)"
      ]
     },
     "execution_count": 16,
     "metadata": {},
     "output_type": "execute_result"
    }
   ],
   "source": [
    "#final shape of data after preprocessing\n",
    "final.shape"
   ]
  },
  {
   "cell_type": "code",
   "execution_count": 17,
   "metadata": {},
   "outputs": [
    {
     "data": {
      "text/plain": [
       "1    307054\n",
       "0     57105\n",
       "Name: Score, dtype: int64"
      ]
     },
     "execution_count": 17,
     "metadata": {},
     "output_type": "execute_result"
    }
   ],
   "source": [
    "final['Score'].value_counts()"
   ]
  },
  {
   "cell_type": "code",
   "execution_count": 18,
   "metadata": {},
   "outputs": [
    {
     "data": {
      "text/plain": [
       "(364159, 10)"
      ]
     },
     "execution_count": 18,
     "metadata": {},
     "output_type": "execute_result"
    }
   ],
   "source": [
    "final.shape"
   ]
  },
  {
   "cell_type": "code",
   "execution_count": 19,
   "metadata": {},
   "outputs": [],
   "source": [
    "#arranging data with increasing time\n",
    "final_data = final.sort_values('Time',axis=0,ascending=True,inplace=False,kind='quicksort')"
   ]
  },
  {
   "cell_type": "markdown",
   "metadata": {},
   "source": [
    "# [3] Preprocessing"
   ]
  },
  {
   "cell_type": "markdown",
   "metadata": {},
   "source": [
    "# [3.1].  Preprocessing Review Text\n",
    "\n",
    "Now that we have finished deduplication our data requires some preprocessing before we go on further with analysis and making the prediction model.\n",
    "\n",
    "Hence in the Preprocessing phase we do the following in the order below:-\n",
    "\n",
    "1. Begin by removing the html tags\n",
    "2. Remove any punctuations or limited set of special characters like , or . or # etc.\n",
    "3. Check if the word is made up of english letters and is not alpha-numeric\n",
    "4. Check to see if the length of the word is greater than 2 (as it was researched that there is no adjective in 2-letters)\n",
    "5. Convert the word to lowercase\n",
    "6. Remove Stopwords\n",
    "7. Finally Snowball Stemming the word (it was obsereved to be better than Porter Stemming)<br>\n",
    "\n",
    "After which we collect the words used to describe positive and negative reviews"
   ]
  },
  {
   "cell_type": "code",
   "execution_count": 120,
   "metadata": {},
   "outputs": [],
   "source": [
    "#final_data = final_data.iloc[0:10000,:].copy()"
   ]
  },
  {
   "cell_type": "code",
   "execution_count": 20,
   "metadata": {},
   "outputs": [
    {
     "name": "stdout",
     "output_type": "stream",
     "text": [
      "[\"couldn't\", \"haven't\", \"shan't\", \"wouldn't\", \"mightn't\", 'not', \"don't\", \"weren't\", \"hasn't\", \"won't\", \"aren't\", \"wasn't\", \"isn't\", \"hadn't\", \"mustn't\", \"shouldn't\", \"doesn't\", \"didn't\", \"needn't\", \"n't\", 'no']\n",
      "************************************\n",
      "{\"you're\", 'wouldn', 'does', 't', 'i', 'd', 'at', 'them', 'didn', 'a', 'when', 'we', \"should've\", 's', \"that'll\", 'but', 'if', 'did', 'up', 'are', 'haven', 'the', 'now', 'on', 'hers', 'our', 'most', 'his', 'by', 'below', 'doesn', 'as', 'with', 'aren', 'whom', 'her', 'have', 'until', 'that', 'during', 'will', 'other', 'some', 'of', 'doing', 'then', 'each', 'only', 'off', 'than', 'after', 'isn', 'and', 'can', 'where', 'what', 'should', 'against', 'couldn', 'from', 'm', 'an', 'about', 'me', 're', 'o', 'how', 'ain', 'such', 'few', 'itself', 'to', 'yourselves', 'mustn', 'own', 'themselves', 'myself', 'further', 'needn', 'their', \"you'd\", 'again', 'hasn', 'your', 'had', 'shouldn', 'shan', 'has', 'don', 'for', 'he', 'is', 'under', \"you'll\", 'just', 'nor', 'ma', 'all', 'my', \"she's\", 'him', 'above', 'll', 'or', 'so', 'who', 'more', 'out', 'before', 'down', \"it's\", 'through', 'were', 'ourselves', 'here', 'yours', 'being', 'wasn', 'they', 'in', 'theirs', 'was', 'be', 'it', \"you've\", 'too', 'yourself', 'she', 'between', 'these', 'won', 'why', 'y', 'himself', 'you', 'very', 'am', 'having', 'do', 'this', 'which', 'there', 'into', 'same', 'once', 'over', 'ours', 'because', 'mightn', 'its', 'while', 've', 'any', 'both', 'weren', 'those', 'hadn', 'been', 'herself'}\n"
     ]
    }
   ],
   "source": [
    "stop = set(stopwords.words('english')) #set of stopwords\n",
    "sno = nltk.stem.SnowballStemmer('english') #initialising the snowball stemmer\n",
    "not_words = re.findall(r'\\w*n[\\'|o]t',str (stop)) #finding NOT words in stop words\n",
    "not_words.append('n\\'t')\n",
    "not_words.append('no')\n",
    "print (not_words)\n",
    "stop_words = stop - set (not_words)  #removing  NOT words from stop words\n",
    "# https://stackoverflow.com/a/47091490/4084039\n",
    "import re\n",
    "\n",
    "def decontracted(phrase):\n",
    "    # specific\n",
    "    phrase = re.sub(r'\\w*n[\\'|o]t', \"not\", phrase)\n",
    "    # general\n",
    "    phrase = re.sub(r\"\\'re\", \" are\", phrase)\n",
    "    phrase = re.sub(r\"\\'s\", \" is\", phrase)\n",
    "    phrase = re.sub(r\"\\'d\", \" would\", phrase)\n",
    "    phrase = re.sub(r\"\\'ll\", \" will\", phrase)\n",
    "    phrase = re.sub(r\"\\'t\", \" not\", phrase)\n",
    "    phrase = re.sub(r\"\\'ve\", \" have\", phrase)\n",
    "    phrase = re.sub(r\"\\'m\", \" am\", phrase)\n",
    "    return phrase\n",
    "def cleanhtmlpunc(sentence): #function to clean the word of any html-tags\n",
    "    clean = re.compile('<.*?>')\n",
    "    clean = re.sub(clean, ' ', sentence)\n",
    "    clean = re.sub(r\"(http|www)\\S+\", \"\", clean)\n",
    "    clean = re.sub(r\"\\S+com\", \"\",clean)\n",
    "    #clean = re.sub(r\"\\(\\w+\\)\",\"\",clean)\n",
    "    clean = re.sub(r\"\\.\",\" \",clean)\n",
    "    cleaned = re.sub(r'[?+|!+|\\'+|\"+|#+|:+]',r' ',clean)\n",
    "    cleantext = re.sub(r'[\\.+|,+|)+|(+|\\+|/+]',r' ',cleaned)\n",
    "    return cleantext\n",
    "#def cleanpunc(sentence): #function to clean the word of any punctuation or special characters\n",
    "   # return  cleaned\n",
    "print('************************************')                 \n",
    "print(stop_words)"
   ]
  },
  {
   "cell_type": "code",
   "execution_count": 21,
   "metadata": {},
   "outputs": [],
   "source": [
    "def cleanedtext(reviews):\n",
    "    str1=' '\n",
    "    final_string=[]\n",
    "    s=''\n",
    "    for sent in reviews:\n",
    "        filtered_sentence=[]    \n",
    "        sent=cleanhtmlpunc(decontracted(sent)) # remove HTMl tags\n",
    "        for w in sent.split():\n",
    "            for cleaned_words in w.split():\n",
    "                if((cleaned_words.isalpha()) & (len(cleaned_words)>2)):    \n",
    "                    if((cleaned_words.lower() not in stop_words)):\n",
    "                        s=(sno.stem(cleaned_words.lower())).encode('utf8')\n",
    "                        filtered_sentence.append(s)\n",
    "                    else:\n",
    "                        continue\n",
    "                else:\n",
    "                    continue \n",
    "        str1 = b\" \".join(filtered_sentence) #final string of cleaned words for reviews\n",
    "        final_string.append(str1)\n",
    "    return final_string"
   ]
  },
  {
   "cell_type": "code",
   "execution_count": 22,
   "metadata": {},
   "outputs": [],
   "source": [
    "final_string = cleanedtext(final_data['Text'].values)"
   ]
  },
  {
   "cell_type": "code",
   "execution_count": 23,
   "metadata": {},
   "outputs": [
    {
     "name": "stdout",
     "output_type": "stream",
     "text": [
      "(364159, 11)\n"
     ]
    },
    {
     "data": {
      "text/html": [
       "<div>\n",
       "<style scoped>\n",
       "    .dataframe tbody tr th:only-of-type {\n",
       "        vertical-align: middle;\n",
       "    }\n",
       "\n",
       "    .dataframe tbody tr th {\n",
       "        vertical-align: top;\n",
       "    }\n",
       "\n",
       "    .dataframe thead th {\n",
       "        text-align: right;\n",
       "    }\n",
       "</style>\n",
       "<table border=\"1\" class=\"dataframe\">\n",
       "  <thead>\n",
       "    <tr style=\"text-align: right;\">\n",
       "      <th></th>\n",
       "      <th>Id</th>\n",
       "      <th>ProductId</th>\n",
       "      <th>UserId</th>\n",
       "      <th>ProfileName</th>\n",
       "      <th>HelpfulnessNumerator</th>\n",
       "      <th>HelpfulnessDenominator</th>\n",
       "      <th>Score</th>\n",
       "      <th>Time</th>\n",
       "      <th>Summary</th>\n",
       "      <th>Text</th>\n",
       "      <th>CleanedText</th>\n",
       "    </tr>\n",
       "  </thead>\n",
       "  <tbody>\n",
       "    <tr>\n",
       "      <th>150523</th>\n",
       "      <td>150524</td>\n",
       "      <td>0006641040</td>\n",
       "      <td>ACITT7DI6IDDL</td>\n",
       "      <td>shari zychinski</td>\n",
       "      <td>0</td>\n",
       "      <td>0</td>\n",
       "      <td>1</td>\n",
       "      <td>939340800</td>\n",
       "      <td>EVERY book is educational</td>\n",
       "      <td>this witty little book makes my son laugh at l...</td>\n",
       "      <td>b'witti littl book make son laugh loud recit c...</td>\n",
       "    </tr>\n",
       "    <tr>\n",
       "      <th>150500</th>\n",
       "      <td>150501</td>\n",
       "      <td>0006641040</td>\n",
       "      <td>AJ46FKXOVC7NR</td>\n",
       "      <td>Nicholas A Mesiano</td>\n",
       "      <td>2</td>\n",
       "      <td>2</td>\n",
       "      <td>1</td>\n",
       "      <td>940809600</td>\n",
       "      <td>This whole series is great way to spend time w...</td>\n",
       "      <td>I can remember seeing the show when it aired o...</td>\n",
       "      <td>b'rememb see show air televis year ago child s...</td>\n",
       "    </tr>\n",
       "  </tbody>\n",
       "</table>\n",
       "</div>"
      ],
      "text/plain": [
       "            Id   ProductId         UserId         ProfileName  \\\n",
       "150523  150524  0006641040  ACITT7DI6IDDL     shari zychinski   \n",
       "150500  150501  0006641040  AJ46FKXOVC7NR  Nicholas A Mesiano   \n",
       "\n",
       "        HelpfulnessNumerator  HelpfulnessDenominator  Score       Time  \\\n",
       "150523                     0                       0      1  939340800   \n",
       "150500                     2                       2      1  940809600   \n",
       "\n",
       "                                                  Summary  \\\n",
       "150523                          EVERY book is educational   \n",
       "150500  This whole series is great way to spend time w...   \n",
       "\n",
       "                                                     Text  \\\n",
       "150523  this witty little book makes my son laugh at l...   \n",
       "150500  I can remember seeing the show when it aired o...   \n",
       "\n",
       "                                              CleanedText  \n",
       "150523  b'witti littl book make son laugh loud recit c...  \n",
       "150500  b'rememb see show air televis year ago child s...  "
      ]
     },
     "execution_count": 23,
     "metadata": {},
     "output_type": "execute_result"
    }
   ],
   "source": [
    "final_data['CleanedText']=final_string #adding a column of CleanedText which displays the data after pre-processing of the review \n",
    "print (final_data.shape)\n",
    "final_data.head(2) #below the processed review can be seen in the CleanedText Column "
   ]
  },
  {
   "cell_type": "code",
   "execution_count": 2,
   "metadata": {},
   "outputs": [],
   "source": [
    "import pickle \n",
    "with open(\"final_data.pkl\", \"rb\") as f:\n",
    "    final_data = pickle.load(f)"
   ]
  },
  {
   "cell_type": "markdown",
   "metadata": {},
   "source": [
    "# 4) FEATURIZATION"
   ]
  },
  {
   "cell_type": "markdown",
   "metadata": {},
   "source": [
    "In featurization we use BOW and TF-IDF, as the values in naive bayes need to positive and word2vec may contain negative values."
   ]
  },
  {
   "cell_type": "markdown",
   "metadata": {},
   "source": [
    "# 4.1) BAG OF WORDS WITH UNI-GRAM"
   ]
  },
  {
   "cell_type": "code",
   "execution_count": 3,
   "metadata": {},
   "outputs": [],
   "source": [
    "\n",
    "# split the data set into train and test\n",
    "X_train, X_test, y_train, y_test = train_test_split(final_data['CleanedText'].values, final_data['Score'].values, \n",
    "                                                             test_size=0.30, random_state=42,shuffle=False)\n"
   ]
  },
  {
   "cell_type": "code",
   "execution_count": 4,
   "metadata": {},
   "outputs": [],
   "source": [
    "# intializing for bag of words\n",
    "model= CountVectorizer(dtype=float)\n",
    "final_counts= model.fit_transform(X_train)"
   ]
  },
  {
   "cell_type": "code",
   "execution_count": 7,
   "metadata": {},
   "outputs": [],
   "source": [
    "#model.vocabulary_"
   ]
  },
  {
   "cell_type": "code",
   "execution_count": 5,
   "metadata": {},
   "outputs": [
    {
     "data": {
      "text/plain": [
       "(254911, 58339)"
      ]
     },
     "execution_count": 5,
     "metadata": {},
     "output_type": "execute_result"
    }
   ],
   "source": [
    "#standardizing the bag of words\n",
    "standardizing  = StandardScaler(with_mean = False)\n",
    "final_std_data = standardizing.fit_transform(final_counts)\n",
    "final_std_data.shape"
   ]
  },
  {
   "cell_type": "code",
   "execution_count": 19,
   "metadata": {},
   "outputs": [
    {
     "name": "stdout",
     "output_type": "stream",
     "text": [
      "train data scores\n",
      "[0.907019147586722, 0.9070182104209432, 0.9070179750970933, 0.9070162119426658, 0.9070130667848886, 0.9070025758708626, 0.9069796360219107, 0.8936837574614267, 0.875222168798195, 0.7262551656174121, 0.6525764844663187, 0.5911935272517443, 0.5653914996780958, 0.5574361230912068, 0.554752264714112]\n",
      "**************************************************\n",
      "CV scores\n",
      "[0.7438125188968255, 0.7439476658507528, 0.7440096184118049, 0.744071045557755, 0.7441659840471838, 0.7445516124373234, 0.7448874570937802, 0.7329537278199337, 0.7120069321393139, 0.596042598377033, 0.5560008169535289, 0.5263529970764008, 0.5131129369764729, 0.5085558485276171, 0.5067417000602426]\n"
     ]
    },
    {
     "data": {
      "image/png": "[encoded data removed]",
      "text/plain": [
       "<Figure size 432x288 with 1 Axes>"
      ]
     },
     "metadata": {},
     "output_type": "display_data"
    }
   ],
   "source": [
    "from sklearn.metrics import f1_score\n",
    "from sklearn.metrics import make_scorer\n",
    "from sklearn.metrics import roc_curve\n",
    "from sklearn.metrics import roc_auc_score\n",
    "import math\n",
    "\n",
    "# creating list for hyperparameter alpha\n",
    "alpha_values = [0.0001,0.0005,0.001,0.005,0.01,0.05,0.1,50,100,500,1000,2500,5000,7500,10000]\n",
    "# empty list that will hold cv scores\n",
    "\n",
    "cv_scores = []\n",
    "train_auc_values = []\n",
    "\n",
    "# perform 10-fold cross validation\n",
    "for alpha in alpha_values:\n",
    "    naive_bayes_model = MultinomialNB(alpha=alpha)\n",
    "    auc = make_scorer(roc_auc_score)\n",
    "    auc_scores = cross_val_score(naive_bayes_model, final_std_data, y_train, cv=10, scoring=auc)\n",
    "    naive_bayes_model.fit(final_std_data,y_train)\n",
    "    y_pred_proba = naive_bayes_model.predict_proba(final_std_data)[::,1]\n",
    "    train_auc = roc_auc_score(y_train, y_pred_proba)\n",
    "    train_auc_values.append(train_auc)\n",
    "    cv_scores.append(auc_scores.mean())\n",
    "\n",
    "print ('train data scores')\n",
    "print (train_auc_values)\n",
    "print ('*'*50)\n",
    "print ('CV scores')\n",
    "print (cv_scores) \n",
    "\n",
    "# changing to misclassification error\n",
    "\n",
    "log = [math.log10(x) for x in alpha_values]\n",
    "# plot misclassification error vs alpha \n",
    "plt.plot(log, cv_scores,label='CV')\n",
    "#plt.label('cv_auc')\n",
    "plt.plot(log,train_auc_values,label='train')\n",
    "#plt.label('train_auc')\n",
    "plt.legend()\n",
    "plt.xlabel('hyperparameter alpha')\n",
    "plt.ylabel('AUC')\n",
    "plt.show()"
   ]
  },
  {
   "cell_type": "markdown",
   "metadata": {},
   "source": [
    "Optimal value of alpha is 0.1"
   ]
  },
  {
   "cell_type": "code",
   "execution_count": 20,
   "metadata": {},
   "outputs": [
    {
     "name": "stdout",
     "output_type": "stream",
     "text": [
      "accuracy_score = 81.05311033115652\n"
     ]
    }
   ],
   "source": [
    "naive_bayes_model = MultinomialNB(alpha=0.1)\n",
    "naive_bayes_model.fit(final_std_data,y_train)\n",
    "predictions = naive_bayes_model.predict(standardizing.transform(model.transform(X_test)))\n",
    "acc = accuracy_score(y_test, predictions) * 100\n",
    "print ('accuracy_score = {0}'.format(acc))"
   ]
  },
  {
   "cell_type": "code",
   "execution_count": 21,
   "metadata": {},
   "outputs": [
    {
     "data": {
      "text/plain": [
       "<matplotlib.axes._subplots.AxesSubplot at 0xc5c4a2e860>"
      ]
     },
     "execution_count": 21,
     "metadata": {},
     "output_type": "execute_result"
    },
    {
     "data": {
      "image/png": "[encoded data removed]",
      "text/plain": [
       "<Figure size 432x288 with 2 Axes>"
      ]
     },
     "metadata": {},
     "output_type": "display_data"
    }
   ],
   "source": [
    "from sklearn.metrics import confusion_matrix\n",
    "import seaborn as sns\n",
    "result = confusion_matrix(y_test,predictions)\n",
    "#print(result)\n",
    "sns.set(font_scale=1.4)#for label size\n",
    "sns.heatmap(result, annot=True,annot_kws={\"size\": 16}, fmt='g')"
   ]
  },
  {
   "cell_type": "code",
   "execution_count": 22,
   "metadata": {},
   "outputs": [
    {
     "data": {
      "image/png": "[encoded data removed]",
      "text/plain": [
       "<Figure size 432x288 with 1 Axes>"
      ]
     },
     "metadata": {},
     "output_type": "display_data"
    }
   ],
   "source": [
    "y_pred_proba = naive_bayes_model.predict_proba(standardizing.transform(model.transform(X_test)))[::,1]\n",
    "fpr, tpr, _ = roc_curve(y_test, y_pred_proba,pos_label=1 )\n",
    "#auc = roc_auc_score(y_test, y_pred_proba)\n",
    "auc = np.trapz(tpr,fpr)\n",
    "plt.plot(fpr,tpr,label=\"data 1, auc=\"+str(auc))\n",
    "plt.legend(loc=4)\n",
    "plt.show()"
   ]
  },
  {
   "cell_type": "markdown",
   "metadata": {},
   "source": [
    "# 4.2) TF-IDF WITH UNI-GRAM"
   ]
  },
  {
   "cell_type": "code",
   "execution_count": 23,
   "metadata": {},
   "outputs": [],
   "source": [
    "\n",
    "# split the data set into train and test\n",
    "tfidf_train, tfidf_test, y_train, y_test = train_test_split(final_data['CleanedText'].values, final_data['Score'].values, \n",
    "                                                             test_size=0.3, random_state=0,shuffle=False)\n"
   ]
  },
  {
   "cell_type": "code",
   "execution_count": 24,
   "metadata": {},
   "outputs": [
    {
     "data": {
      "text/plain": [
       "(254911, 58339)"
      ]
     },
     "execution_count": 24,
     "metadata": {},
     "output_type": "execute_result"
    }
   ],
   "source": [
    "vector = TfidfVectorizer(ngram_range = (1,1))\n",
    "tf_idf_vector = vector.fit_transform(tfidf_train)\n",
    "tf_idf_vector.shape"
   ]
  },
  {
   "cell_type": "code",
   "execution_count": 25,
   "metadata": {},
   "outputs": [
    {
     "name": "stdout",
     "output_type": "stream",
     "text": [
      "(254911, 58339)\n"
     ]
    },
    {
     "data": {
      "text/plain": [
       "0.007280159106573833"
      ]
     },
     "execution_count": 25,
     "metadata": {},
     "output_type": "execute_result"
    }
   ],
   "source": [
    "standardizing = StandardScaler(with_mean=False)\n",
    "tfidf_std_data = standardizing.fit_transform(tf_idf_vector)\n",
    "print (tfidf_std_data.shape)\n",
    "np.mean(tfidf_std_data)"
   ]
  },
  {
   "cell_type": "code",
   "execution_count": 26,
   "metadata": {},
   "outputs": [
    {
     "name": "stdout",
     "output_type": "stream",
     "text": [
      "train data scores\n",
      "[0.9091123666803527, 0.9091098834676146, 0.9091080005833618, 0.9090966633286915, 0.9090895772338405, 0.9090631290752811, 0.9090222877639451, 0.8909961387984822, 0.8676132644566594, 0.7158045079505564, 0.6476152137328901, 0.5966581459708211, 0.5685667169112248, 0.5551615439337101, 0.5481612225836853]\n",
      "**************************************************\n",
      "CV scores\n",
      "[0.7415988307181505, 0.7417004685958064, 0.7417109426434504, 0.7418387586156369, 0.7420005884775995, 0.7423414556097604, 0.742491140693544, 0.730875677903086, 0.7118675991412785, 0.6016343465625936, 0.5634688457555154, 0.5364184454363884, 0.5198488427805201, 0.5123542932115699, 0.5085870538667907]\n"
     ]
    },
    {
     "data": {
      "image/png": "[encoded data removed]",
      "text/plain": [
       "<Figure size 432x288 with 1 Axes>"
      ]
     },
     "metadata": {},
     "output_type": "display_data"
    }
   ],
   "source": [
    "from sklearn.metrics import f1_score\n",
    "from sklearn.metrics import make_scorer\n",
    "from sklearn.metrics import roc_curve\n",
    "from sklearn.metrics import roc_auc_score\n",
    "import math\n",
    "\n",
    "# creating list for hyperparameter alpha\n",
    "alpha_values = [0.0001,0.0005,0.001,0.005,0.01,0.05,0.1,50,100,500,1000,2500,5000,7500,10000]\n",
    "# empty list that will hold cv scores\n",
    "\n",
    "cv_scores = []\n",
    "train_auc_values = []\n",
    "\n",
    "# perform 10-fold cross validation\n",
    "for alpha in alpha_values:\n",
    "    naive_bayes_model = MultinomialNB(alpha=alpha)\n",
    "    auc = make_scorer(roc_auc_score)\n",
    "    auc_scores = cross_val_score(naive_bayes_model, tfidf_std_data, y_train, cv=10, scoring=auc)\n",
    "    naive_bayes_model.fit(tfidf_std_data,y_train)\n",
    "    y_pred_proba = naive_bayes_model.predict_proba(tfidf_std_data)[::,1]\n",
    "    train_auc = roc_auc_score(y_train, y_pred_proba)\n",
    "    train_auc_values.append(train_auc)\n",
    "    cv_scores.append(auc_scores.mean())\n",
    "\n",
    "print ('train data scores')\n",
    "print (train_auc_values)\n",
    "print ('*'*50)\n",
    "print ('CV scores')\n",
    "print (cv_scores) \n",
    "\n",
    "# changing to misclassification error\n",
    "\n",
    "log = [math.log10(x) for x in alpha_values]\n",
    "# plot misclassification error vs alpha \n",
    "plt.plot(log, cv_scores,label='CV')\n",
    "#plt.label('cv_auc')\n",
    "plt.plot(log,train_auc_values,label='train')\n",
    "#plt.label('train_auc')\n",
    "plt.legend()\n",
    "plt.xlabel('hyperparameter alpha')\n",
    "plt.ylabel('AUC')\n",
    "plt.show()"
   ]
  },
  {
   "cell_type": "code",
   "execution_count": 27,
   "metadata": {},
   "outputs": [
    {
     "name": "stdout",
     "output_type": "stream",
     "text": [
      "accuracy_score = 82.93424135910955\n"
     ]
    }
   ],
   "source": [
    "naive_bayes_model = MultinomialNB(alpha=0.1)\n",
    "naive_bayes_model.fit(tfidf_std_data,y_train)\n",
    "predictions = naive_bayes_model.predict(standardizing.transform(vector.transform(tfidf_test)))\n",
    "acc = accuracy_score(y_test, predictions) * 100\n",
    "print ('accuracy_score = {0}'.format(acc))"
   ]
  },
  {
   "cell_type": "code",
   "execution_count": 28,
   "metadata": {},
   "outputs": [
    {
     "data": {
      "text/plain": [
       "<matplotlib.axes._subplots.AxesSubplot at 0xc5912bdcf8>"
      ]
     },
     "execution_count": 28,
     "metadata": {},
     "output_type": "execute_result"
    },
    {
     "data": {
      "image/png": "[encoded data removed]",
      "text/plain": [
       "<Figure size 432x288 with 2 Axes>"
      ]
     },
     "metadata": {},
     "output_type": "display_data"
    }
   ],
   "source": [
    "result = confusion_matrix(y_test,predictions)\n",
    "#print(result)\n",
    "sns.set(font_scale=1.4)#for label size\n",
    "sns.heatmap(result, annot=True,annot_kws={\"size\": 16}, fmt='g')"
   ]
  },
  {
   "cell_type": "code",
   "execution_count": 30,
   "metadata": {},
   "outputs": [
    {
     "data": {
      "image/png": "[encoded data removed]",
      "text/plain": [
       "<Figure size 432x288 with 1 Axes>"
      ]
     },
     "metadata": {},
     "output_type": "display_data"
    }
   ],
   "source": [
    "y_pred_proba = naive_bayes_model.predict_proba(standardizing.transform(vector.transform(tfidf_test)))[::,1]\n",
    "fpr, tpr, _ = roc_curve(y_test, y_pred_proba,pos_label=1)\n",
    "auc = roc_auc_score(y_test, y_pred_proba)\n",
    "plt.plot(fpr,tpr,label=\"data 1, auc=\"+str(auc))\n",
    "plt.legend(loc=4)\n",
    "plt.show()"
   ]
  },
  {
   "cell_type": "markdown",
   "metadata": {},
   "source": [
    "# 5) FEATURE ENGINEERING "
   ]
  },
  {
   "cell_type": "markdown",
   "metadata": {},
   "source": [
    "The AUC value is close to 0.5 which is undesirable,and we can see from confusion matrix that the model is biased towards positive reviews, so we apply feature engineering and add some text from review SUMMARY as well. "
   ]
  },
  {
   "cell_type": "markdown",
   "metadata": {},
   "source": [
    "# 5.1) BAG OF WORDS WITH BI-GRAM"
   ]
  },
  {
   "cell_type": "code",
   "execution_count": 46,
   "metadata": {},
   "outputs": [],
   "source": [
    "#preprocessing text just like reviews \n",
    "cleaned_summary = cleanedtext(final_data['Summary'].values)"
   ]
  },
  {
   "cell_type": "code",
   "execution_count": 47,
   "metadata": {},
   "outputs": [
    {
     "name": "stdout",
     "output_type": "stream",
     "text": [
      "(364159, 12)\n"
     ]
    },
    {
     "data": {
      "text/html": [
       "<div>\n",
       "<style scoped>\n",
       "    .dataframe tbody tr th:only-of-type {\n",
       "        vertical-align: middle;\n",
       "    }\n",
       "\n",
       "    .dataframe tbody tr th {\n",
       "        vertical-align: top;\n",
       "    }\n",
       "\n",
       "    .dataframe thead th {\n",
       "        text-align: right;\n",
       "    }\n",
       "</style>\n",
       "<table border=\"1\" class=\"dataframe\">\n",
       "  <thead>\n",
       "    <tr style=\"text-align: right;\">\n",
       "      <th></th>\n",
       "      <th>Id</th>\n",
       "      <th>ProductId</th>\n",
       "      <th>UserId</th>\n",
       "      <th>ProfileName</th>\n",
       "      <th>HelpfulnessNumerator</th>\n",
       "      <th>HelpfulnessDenominator</th>\n",
       "      <th>Score</th>\n",
       "      <th>Time</th>\n",
       "      <th>Summary</th>\n",
       "      <th>Text</th>\n",
       "      <th>CleanedText</th>\n",
       "      <th>Cleanedsummary</th>\n",
       "    </tr>\n",
       "  </thead>\n",
       "  <tbody>\n",
       "    <tr>\n",
       "      <th>150523</th>\n",
       "      <td>150524</td>\n",
       "      <td>0006641040</td>\n",
       "      <td>ACITT7DI6IDDL</td>\n",
       "      <td>shari zychinski</td>\n",
       "      <td>0</td>\n",
       "      <td>0</td>\n",
       "      <td>1</td>\n",
       "      <td>939340800</td>\n",
       "      <td>EVERY book is educational</td>\n",
       "      <td>this witty little book makes my son laugh at l...</td>\n",
       "      <td>b'witti littl book make son laugh loud recit c...</td>\n",
       "      <td>b'everi book educ'</td>\n",
       "    </tr>\n",
       "    <tr>\n",
       "      <th>150500</th>\n",
       "      <td>150501</td>\n",
       "      <td>0006641040</td>\n",
       "      <td>AJ46FKXOVC7NR</td>\n",
       "      <td>Nicholas A Mesiano</td>\n",
       "      <td>2</td>\n",
       "      <td>2</td>\n",
       "      <td>1</td>\n",
       "      <td>940809600</td>\n",
       "      <td>This whole series is great way to spend time w...</td>\n",
       "      <td>I can remember seeing the show when it aired o...</td>\n",
       "      <td>b'rememb see show air televis year ago child s...</td>\n",
       "      <td>b'whole seri great way spend time child'</td>\n",
       "    </tr>\n",
       "  </tbody>\n",
       "</table>\n",
       "</div>"
      ],
      "text/plain": [
       "            Id   ProductId         UserId         ProfileName  \\\n",
       "150523  150524  0006641040  ACITT7DI6IDDL     shari zychinski   \n",
       "150500  150501  0006641040  AJ46FKXOVC7NR  Nicholas A Mesiano   \n",
       "\n",
       "        HelpfulnessNumerator  HelpfulnessDenominator  Score       Time  \\\n",
       "150523                     0                       0      1  939340800   \n",
       "150500                     2                       2      1  940809600   \n",
       "\n",
       "                                                  Summary  \\\n",
       "150523                          EVERY book is educational   \n",
       "150500  This whole series is great way to spend time w...   \n",
       "\n",
       "                                                     Text  \\\n",
       "150523  this witty little book makes my son laugh at l...   \n",
       "150500  I can remember seeing the show when it aired o...   \n",
       "\n",
       "                                              CleanedText  \\\n",
       "150523  b'witti littl book make son laugh loud recit c...   \n",
       "150500  b'rememb see show air televis year ago child s...   \n",
       "\n",
       "                                  Cleanedsummary  \n",
       "150523                        b'everi book educ'  \n",
       "150500  b'whole seri great way spend time child'  "
      ]
     },
     "execution_count": 47,
     "metadata": {},
     "output_type": "execute_result"
    }
   ],
   "source": [
    "final_data['Cleanedsummary']= cleaned_summary #adding a column of CleanedSummary which displays the data after pre-processing of the review \n",
    "print (final_data.shape)\n",
    "final_data.head(2) #below the processed review can be seen in the CleanedText Column "
   ]
  },
  {
   "cell_type": "code",
   "execution_count": 48,
   "metadata": {},
   "outputs": [
    {
     "name": "stdout",
     "output_type": "stream",
     "text": [
      "(364159, 13)\n"
     ]
    },
    {
     "data": {
      "text/html": [
       "<div>\n",
       "<style scoped>\n",
       "    .dataframe tbody tr th:only-of-type {\n",
       "        vertical-align: middle;\n",
       "    }\n",
       "\n",
       "    .dataframe tbody tr th {\n",
       "        vertical-align: top;\n",
       "    }\n",
       "\n",
       "    .dataframe thead th {\n",
       "        text-align: right;\n",
       "    }\n",
       "</style>\n",
       "<table border=\"1\" class=\"dataframe\">\n",
       "  <thead>\n",
       "    <tr style=\"text-align: right;\">\n",
       "      <th></th>\n",
       "      <th>Id</th>\n",
       "      <th>ProductId</th>\n",
       "      <th>UserId</th>\n",
       "      <th>ProfileName</th>\n",
       "      <th>HelpfulnessNumerator</th>\n",
       "      <th>HelpfulnessDenominator</th>\n",
       "      <th>Score</th>\n",
       "      <th>Time</th>\n",
       "      <th>Summary</th>\n",
       "      <th>Text</th>\n",
       "      <th>CleanedText</th>\n",
       "      <th>Cleanedsummary</th>\n",
       "      <th>Cleaned</th>\n",
       "    </tr>\n",
       "  </thead>\n",
       "  <tbody>\n",
       "    <tr>\n",
       "      <th>150523</th>\n",
       "      <td>150524</td>\n",
       "      <td>0006641040</td>\n",
       "      <td>ACITT7DI6IDDL</td>\n",
       "      <td>shari zychinski</td>\n",
       "      <td>0</td>\n",
       "      <td>0</td>\n",
       "      <td>1</td>\n",
       "      <td>939340800</td>\n",
       "      <td>EVERY book is educational</td>\n",
       "      <td>this witty little book makes my son laugh at l...</td>\n",
       "      <td>b'witti littl book make son laugh loud recit c...</td>\n",
       "      <td>b'everi book educ'</td>\n",
       "      <td>b'witti littl book make son laugh loud recit c...</td>\n",
       "    </tr>\n",
       "    <tr>\n",
       "      <th>150500</th>\n",
       "      <td>150501</td>\n",
       "      <td>0006641040</td>\n",
       "      <td>AJ46FKXOVC7NR</td>\n",
       "      <td>Nicholas A Mesiano</td>\n",
       "      <td>2</td>\n",
       "      <td>2</td>\n",
       "      <td>1</td>\n",
       "      <td>940809600</td>\n",
       "      <td>This whole series is great way to spend time w...</td>\n",
       "      <td>I can remember seeing the show when it aired o...</td>\n",
       "      <td>b'rememb see show air televis year ago child s...</td>\n",
       "      <td>b'whole seri great way spend time child'</td>\n",
       "      <td>b'rememb see show air televis year ago child s...</td>\n",
       "    </tr>\n",
       "  </tbody>\n",
       "</table>\n",
       "</div>"
      ],
      "text/plain": [
       "            Id   ProductId         UserId         ProfileName  \\\n",
       "150523  150524  0006641040  ACITT7DI6IDDL     shari zychinski   \n",
       "150500  150501  0006641040  AJ46FKXOVC7NR  Nicholas A Mesiano   \n",
       "\n",
       "        HelpfulnessNumerator  HelpfulnessDenominator  Score       Time  \\\n",
       "150523                     0                       0      1  939340800   \n",
       "150500                     2                       2      1  940809600   \n",
       "\n",
       "                                                  Summary  \\\n",
       "150523                          EVERY book is educational   \n",
       "150500  This whole series is great way to spend time w...   \n",
       "\n",
       "                                                     Text  \\\n",
       "150523  this witty little book makes my son laugh at l...   \n",
       "150500  I can remember seeing the show when it aired o...   \n",
       "\n",
       "                                              CleanedText  \\\n",
       "150523  b'witti littl book make son laugh loud recit c...   \n",
       "150500  b'rememb see show air televis year ago child s...   \n",
       "\n",
       "                                  Cleanedsummary  \\\n",
       "150523                        b'everi book educ'   \n",
       "150500  b'whole seri great way spend time child'   \n",
       "\n",
       "                                                  Cleaned  \n",
       "150523  b'witti littl book make son laugh loud recit c...  \n",
       "150500  b'rememb see show air televis year ago child s...  "
      ]
     },
     "execution_count": 48,
     "metadata": {},
     "output_type": "execute_result"
    }
   ],
   "source": [
    "#final_data['Cleaned']= final_string + cleaned_summary #adding a column of CleanedText which displays the data after pre-processing of the review \n",
    "final_data['Cleaned']= final_data['CleanedText'].map(str) + \" \" + final_data['Cleanedsummary'].map(str)\n",
    "print (final_data.shape)\n",
    "final_data.head(2) #below the processed review can be seen in the CleanedText Column "
   ]
  },
  {
   "cell_type": "code",
   "execution_count": 3,
   "metadata": {},
   "outputs": [],
   "source": [
    "X_train1, X_test1, y_train, y_test = train_test_split(final_data['Cleaned'].values, final_data['Score'].values, \n",
    "                                                             test_size=0.3, random_state=42,shuffle=False)\n"
   ]
  },
  {
   "cell_type": "code",
   "execution_count": 4,
   "metadata": {},
   "outputs": [],
   "source": [
    "# intializing for bag of words with bi gram\n",
    "model1 = CountVectorizer(ngram_range = (1,2),dtype=float)\n",
    "final_counts1 = model1.fit_transform(X_train1)"
   ]
  },
  {
   "cell_type": "code",
   "execution_count": 5,
   "metadata": {},
   "outputs": [
    {
     "data": {
      "text/plain": [
       "(254911, 2352748)"
      ]
     },
     "execution_count": 5,
     "metadata": {},
     "output_type": "execute_result"
    }
   ],
   "source": [
    "#standardizing the bag of words\n",
    "from sklearn.preprocessing import StandardScaler\n",
    "standardizing  = StandardScaler(with_mean = False)\n",
    "final_std_data1 = standardizing.fit_transform(final_counts1)\n",
    "final_std_data1.shape"
   ]
  },
  {
   "cell_type": "code",
   "execution_count": 34,
   "metadata": {},
   "outputs": [
    {
     "name": "stdout",
     "output_type": "stream",
     "text": [
      "train data scores\n",
      "[0.9988944212277083, 0.9988943807935874, 0.9988943611524251, 0.9988942948331923, 0.998894181775268, 0.9988893216181786, 0.9988869027241846, 0.9981425321386065, 0.9974596480900487, 0.9909456295493998, 0.9836339771679224, 0.9627568691954963, 0.9330876615755203, 0.9130670589784321, 0.8983899666503128]\n",
      "**************************************************\n",
      "CV scores\n",
      "[0.6486895968463751, 0.6603606611617309, 0.666283840707478, 0.681697301840068, 0.6892879090068026, 0.7109802295455894, 0.721664803892527, 0.6802585078523192, 0.671528713630783, 0.7203702624833725, 0.7543821784695682, 0.7554467582658274, 0.7134035141606201, 0.6796427094836114, 0.656525403643793]\n"
     ]
    },
    {
     "data": {
      "image/png": "[encoded data removed]",
      "text/plain": [
       "<Figure size 432x288 with 1 Axes>"
      ]
     },
     "metadata": {},
     "output_type": "display_data"
    }
   ],
   "source": [
    "# creating list for hyperparameter alpha\n",
    "alpha_values = [0.0001,0.0005,0.001,0.005,0.01,0.05,0.1,50,100,500,1000,2500,5000,7500,10000]\n",
    "# empty list that will hold cv scores\n",
    "\n",
    "cv_scores = []\n",
    "train_auc_values = []\n",
    "\n",
    "# perform 10-fold cross validation\n",
    "for alpha in alpha_values:\n",
    "    naive_bayes_model = MultinomialNB(alpha=alpha)\n",
    "    auc = make_scorer(roc_auc_score)\n",
    "    auc_scores = cross_val_score(naive_bayes_model, final_std_data1, y_train, cv=10, scoring=auc)\n",
    "    naive_bayes_model.fit(final_std_data1,y_train)\n",
    "    y_pred_proba = naive_bayes_model.predict_proba(final_std_data1)[::,1]\n",
    "    train_auc = roc_auc_score(y_train, y_pred_proba)\n",
    "    train_auc_values.append(train_auc)\n",
    "    cv_scores.append(auc_scores.mean())\n",
    "\n",
    "print ('train data scores')\n",
    "print (train_auc_values)\n",
    "print ('*'*50)\n",
    "print ('CV scores')\n",
    "print (cv_scores) \n",
    "\n",
    "# changing to misclassification error\n",
    "\n",
    "log = [math.log10(x) for x in alpha_values]\n",
    "# plot misclassification error vs alpha \n",
    "plt.plot(log, cv_scores,label='CV')\n",
    "#plt.label('cv_auc')\n",
    "plt.plot(log,train_auc_values,label='train')\n",
    "#plt.label('train_auc')\n",
    "plt.legend()\n",
    "plt.xlabel('hyperparameter alpha')\n",
    "plt.ylabel('AUC')\n",
    "plt.show()"
   ]
  },
  {
   "cell_type": "code",
   "execution_count": 35,
   "metadata": {},
   "outputs": [
    {
     "name": "stdout",
     "output_type": "stream",
     "text": [
      "accuracy_score = 88.67713825424721\n"
     ]
    }
   ],
   "source": [
    "naive_bayes_model = MultinomialNB(alpha=1000)\n",
    "naive_bayes_model.fit(final_std_data1,y_train)\n",
    "predictions = naive_bayes_model.predict(standardizing.transform(model1.transform(X_test1)))\n",
    "acc = accuracy_score(y_test, predictions) * 100\n",
    "print ('accuracy_score = {0}'.format(acc))"
   ]
  },
  {
   "cell_type": "code",
   "execution_count": 36,
   "metadata": {},
   "outputs": [
    {
     "data": {
      "text/plain": [
       "<matplotlib.axes._subplots.AxesSubplot at 0xc5f39ba588>"
      ]
     },
     "execution_count": 36,
     "metadata": {},
     "output_type": "execute_result"
    },
    {
     "data": {
      "image/png": "[encoded data removed]",
      "text/plain": [
       "<Figure size 432x288 with 2 Axes>"
      ]
     },
     "metadata": {},
     "output_type": "display_data"
    }
   ],
   "source": [
    "result = confusion_matrix(y_test,predictions)\n",
    "#print(result)\n",
    "sns.set(font_scale=1.4)#for label size\n",
    "sns.heatmap(result, annot=True,annot_kws={\"size\": 16}, fmt='g')"
   ]
  },
  {
   "cell_type": "code",
   "execution_count": 37,
   "metadata": {},
   "outputs": [
    {
     "data": {
      "image/png": "[encoded data removed]",
      "text/plain": [
       "<Figure size 432x288 with 1 Axes>"
      ]
     },
     "metadata": {},
     "output_type": "display_data"
    }
   ],
   "source": [
    "y_pred_proba = naive_bayes_model.predict_proba(standardizing.transform(model1.transform(X_test1)))[::,1]\n",
    "fpr, tpr, _ = roc_curve(y_test, y_pred_proba,pos_label=1)\n",
    "auc = roc_auc_score(y_test, y_pred_proba)\n",
    "plt.plot(fpr,tpr,label=\"data 1, auc=\"+str(auc))\n",
    "plt.legend(loc=4)\n",
    "plt.show()"
   ]
  },
  {
   "cell_type": "markdown",
   "metadata": {},
   "source": [
    "# 5.2) TF-IDF WITH BI-GRAM"
   ]
  },
  {
   "cell_type": "code",
   "execution_count": 8,
   "metadata": {},
   "outputs": [],
   "source": [
    "\n",
    "# split the data set into train and test\n",
    "tfidf_train1, tfidf_test1, y_train, y_test = train_test_split(final_data['Cleaned'].values, final_data['Score'].values, \n",
    "                                                             test_size=0.3, random_state=0,shuffle=False)\n"
   ]
  },
  {
   "cell_type": "code",
   "execution_count": 10,
   "metadata": {},
   "outputs": [
    {
     "data": {
      "text/plain": [
       "(254911, 2352748)"
      ]
     },
     "execution_count": 10,
     "metadata": {},
     "output_type": "execute_result"
    }
   ],
   "source": [
    "vector1 = TfidfVectorizer(ngram_range = (1,2))\n",
    "tf_idf_vector1 = vector1.fit_transform(tfidf_train1)\n",
    "tf_idf_vector1.shape"
   ]
  },
  {
   "cell_type": "code",
   "execution_count": 11,
   "metadata": {},
   "outputs": [
    {
     "name": "stdout",
     "output_type": "stream",
     "text": [
      "(254911, 2352748)\n"
     ]
    },
    {
     "data": {
      "text/plain": [
       "0.0030033202478754743"
      ]
     },
     "execution_count": 11,
     "metadata": {},
     "output_type": "execute_result"
    }
   ],
   "source": [
    "standardizing = StandardScaler(with_mean=False)\n",
    "tfidf_std_data1 = standardizing.fit_transform(tf_idf_vector1)\n",
    "print (tfidf_std_data1.shape)\n",
    "np.mean(tfidf_std_data1)"
   ]
  },
  {
   "cell_type": "code",
   "execution_count": 41,
   "metadata": {},
   "outputs": [
    {
     "name": "stdout",
     "output_type": "stream",
     "text": [
      "train data scores\n",
      "[0.9992022099391863, 0.9992022099391863, 0.9992022099391863, 0.9992022099391863, 0.9992021915104415, 0.9991867379773899, 0.9991866705669813, 0.998405435096099, 0.9977640707670443, 0.9908920518536917, 0.9817284833308058, 0.9550733451129951, 0.9224039551805993, 0.900086252527031, 0.8838535154097036]\n",
      "**************************************************\n",
      "CV scores\n",
      "[0.63465359141029, 0.646233507964389, 0.651712109785119, 0.6667340334441021, 0.6744204119904247, 0.6941101094726243, 0.7032990771519214, 0.6806364253943648, 0.6733277518456096, 0.711078982075164, 0.7325165423537875, 0.7241900369663263, 0.6837272682525392, 0.6548538552510342, 0.634293922933882]\n"
     ]
    },
    {
     "data": {
      "image/png": "[encoded data removed]",
      "text/plain": [
       "<Figure size 432x288 with 1 Axes>"
      ]
     },
     "metadata": {},
     "output_type": "display_data"
    }
   ],
   "source": [
    "# creating list for hyperparameter alpha\n",
    "alpha_values = [0.0001,0.0005,0.001,0.005,0.01,0.05,0.1,50,100,500,1000,2500,5000,7500,10000]\n",
    "# empty list that will hold cv scores\n",
    "\n",
    "cv_scores = []\n",
    "train_auc_values = []\n",
    "\n",
    "# perform 10-fold cross validation\n",
    "for alpha in alpha_values:\n",
    "    naive_bayes_model = MultinomialNB(alpha=alpha)\n",
    "    auc = make_scorer(roc_auc_score)\n",
    "    auc_scores = cross_val_score(naive_bayes_model, tfidf_std_data1, y_train, cv=10, scoring=auc)\n",
    "    naive_bayes_model.fit(tfidf_std_data1,y_train)\n",
    "    y_pred_proba = naive_bayes_model.predict_proba(tfidf_std_data1)[::,1]\n",
    "    train_auc = roc_auc_score(y_train, y_pred_proba)\n",
    "    train_auc_values.append(train_auc)\n",
    "    cv_scores.append(auc_scores.mean())\n",
    "\n",
    "print ('train data scores')\n",
    "print (train_auc_values)\n",
    "print ('*'*50)\n",
    "print ('CV scores')\n",
    "print (cv_scores) \n",
    "\n",
    "# changing to misclassification error\n",
    "\n",
    "log = [math.log10(x) for x in alpha_values]\n",
    "# plot misclassification error vs alpha \n",
    "plt.plot(log, cv_scores,label='CV')\n",
    "#plt.label('cv_auc')\n",
    "plt.plot(log,train_auc_values,label='train')\n",
    "#plt.label('train_auc')\n",
    "plt.legend()\n",
    "plt.xlabel('hyperparameter alpha')\n",
    "plt.ylabel('AUC')\n",
    "plt.show()"
   ]
  },
  {
   "cell_type": "code",
   "execution_count": 42,
   "metadata": {},
   "outputs": [
    {
     "name": "stdout",
     "output_type": "stream",
     "text": [
      "Accuracy = 86.87847832454598\n"
     ]
    }
   ],
   "source": [
    "naive_bayes_model = MultinomialNB(alpha=1000)\n",
    "naive_bayes_model.fit(tfidf_std_data1,y_train)\n",
    "predictions = naive_bayes_model.predict(standardizing.transform(vector1.transform(tfidf_test1)))\n",
    "acc = accuracy_score(y_test, predictions) * 100\n",
    "print ('Accuracy = {0}'.format(acc))"
   ]
  },
  {
   "cell_type": "code",
   "execution_count": 43,
   "metadata": {},
   "outputs": [
    {
     "data": {
      "text/plain": [
       "<matplotlib.axes._subplots.AxesSubplot at 0xc601e41780>"
      ]
     },
     "execution_count": 43,
     "metadata": {},
     "output_type": "execute_result"
    },
    {
     "data": {
      "image/png": "[encoded data removed]",
      "text/plain": [
       "<Figure size 432x288 with 2 Axes>"
      ]
     },
     "metadata": {},
     "output_type": "display_data"
    }
   ],
   "source": [
    "result = confusion_matrix(y_test,predictions)\n",
    "#print(result)\n",
    "sns.set(font_scale=1.4)#for label size\n",
    "sns.heatmap(result, annot=True,annot_kws={\"size\": 16}, fmt='g')"
   ]
  },
  {
   "cell_type": "code",
   "execution_count": 44,
   "metadata": {},
   "outputs": [
    {
     "data": {
      "image/png": "[encoded data removed]",
      "text/plain": [
       "<Figure size 432x288 with 1 Axes>"
      ]
     },
     "metadata": {},
     "output_type": "display_data"
    }
   ],
   "source": [
    "y_pred_proba = naive_bayes_model.predict_proba(standardizing.transform(vector1.transform(tfidf_test1)))[::,1]\n",
    "fpr, tpr, _ = roc_curve(y_test, y_pred_proba,pos_label=1)\n",
    "#auc = roc_auc_score(y_test, y_pred_proba)\n",
    "auc = np.trapz(tpr,fpr)\n",
    "plt.plot(fpr,tpr,label=\"data 1, auc=\"+str(auc))\n",
    "plt.legend(loc=4)\n",
    "plt.show()"
   ]
  },
  {
   "cell_type": "markdown",
   "metadata": {},
   "source": [
    "# 6) FEATURE IMPORTANCE"
   ]
  },
  {
   "cell_type": "markdown",
   "metadata": {},
   "source": [
    "## 6.1) BAG OF WORDS WITH BI-GRAM"
   ]
  },
  {
   "cell_type": "code",
   "execution_count": 16,
   "metadata": {},
   "outputs": [
    {
     "name": "stdout",
     "output_type": "stream",
     "text": [
      "positiive class top 25 features\n",
      "['great' 'not' 'love' 'good' 'like' 'tast' 'one' 'tri' 'best' 'flavor'\n",
      " 'use' 'make' 'get' 'product' 'find' 'time' 'buy' 'would' 'realli' 'price'\n",
      " 'also' 'much' 'delici' 'littl' 'store']\n",
      "****************************************************************************************************\n",
      "negative class top 25 features\n",
      "['not' 'tast' 'disappoint' 'like' 'product' 'would' 'bad' 'not buy' 'buy'\n",
      " 'one' 'money' 'tri' 'wast' 'even' 'wast money' 'order' 'worst' 'aw'\n",
      " 'horribl' 'return' 'terribl' 'tast like' 'not good' 'thought' 'flavor']\n"
     ]
    }
   ],
   "source": [
    "#https://stackoverflow.com/questions/50526898/how-to-get-feature-importance-in-naive-bayes\n",
    "clf = MultinomialNB(alpha=1000)\n",
    "clf.fit(final_std_data1,y_train)\n",
    "max_ind_pos=np.argsort((clf.feature_log_prob_)[1])[::-1][0:25]\n",
    "max_ind_neg=np.argsort((clf.feature_log_prob_)[0])[::-1][0:25]\n",
    "print ('positiive class top 25 features')\n",
    "print(np.take(model1.get_feature_names(), max_ind_pos))\n",
    "print ('*'*100)\n",
    "print ('negative class top 25 features')\n",
    "print(np.take(model1.get_feature_names(), max_ind_neg))"
   ]
  },
  {
   "cell_type": "markdown",
   "metadata": {},
   "source": [
    "##  6.2) TF-IDF WITH BI-GRAM"
   ]
  },
  {
   "cell_type": "code",
   "execution_count": 17,
   "metadata": {},
   "outputs": [
    {
     "name": "stdout",
     "output_type": "stream",
     "text": [
      "positiive class top 25 features\n",
      "['not' 'great' 'love' 'good' 'like' 'tast' 'use' 'flavor' 'one' 'tri'\n",
      " 'make' 'product' 'best' 'get' 'would' 'time' 'find' 'buy' 'also' 'realli'\n",
      " 'price' 'littl' 'amazon' 'much' 'eat']\n",
      "****************************************************************************************************\n",
      "negative class top 25 features\n",
      "['not' 'tast' 'disappoint' 'like' 'would' 'product' 'bad' 'not buy' 'one'\n",
      " 'money' 'wast' 'tri' 'buy' 'return' 'horribl' 'even' 'worst' 'wast money'\n",
      " 'aw' 'terribl' 'flavor' 'not good' 'tast like' 'review' 'thought']\n"
     ]
    }
   ],
   "source": [
    "#https://stackoverflow.com/questions/50526898/how-to-get-feature-importance-in-naive-bayes\n",
    "clf = MultinomialNB(alpha=1000)\n",
    "clf.fit(tfidf_std_data1,y_train)\n",
    "max_ind_pos=np.argsort((clf.feature_log_prob_)[1])[::-1][0:25]\n",
    "max_ind_neg=np.argsort((clf.feature_log_prob_)[0])[::-1][0:25]\n",
    "print ('positiive class top 25 features')\n",
    "print(np.take(vector1.get_feature_names(), max_ind_pos))\n",
    "print ('*'*100)\n",
    "print ('negative class top 25 features')\n",
    "print(np.take(vector1.get_feature_names(), max_ind_neg))"
   ]
  },
  {
   "cell_type": "markdown",
   "metadata": {},
   "source": [
    "# 7) CONCLUSION"
   ]
  },
  {
   "cell_type": "code",
   "execution_count": 104,
   "metadata": {},
   "outputs": [
    {
     "name": "stdout",
     "output_type": "stream",
     "text": [
      "+----------------------+---------------+-------------+---------------+--------+\n",
      "|    Featurization     | aptimal_alpha | CV_accuracy | test_accuracy |  AUC   |\n",
      "+----------------------+---------------+-------------+---------------+--------+\n",
      "|  BOW with uni-gram   |      0.1      |     74.5    |     81.05     | 0.7775 |\n",
      "| TFIDF with uni-gram  |       50      |     74.5    |     82.93     | 0.778  |\n",
      "|  BOW with Bi-gram    |      1000     |    75.43    |     88.67     | 0.721  |\n",
      "|  and review summary  |               |             |               |        |\n",
      "| TF-IDF with Bi-gram  |      1000     |    77.25    |      82.6     | 0.715  |\n",
      "|  and review summary  |               |             |               |        |\n",
      "+----------------------+---------------+-------------+---------------+--------+\n"
     ]
    }
   ],
   "source": [
    "from prettytable import PrettyTable \n",
    "\n",
    "x = PrettyTable()\n",
    "\n",
    "x.field_names = ['Featurization','aptimal_alpha','CV_accuracy','test_accuracy','AUC']\n",
    "x.add_row(['BOW with uni-gram','0.1','74.5','81.05','0.7775'])\n",
    "x.add_row(['TFIDF with uni-gram','50','74.5','82.93','0.778'])\n",
    "x.add_row(['BOW with Bi-gram ','1000','75.43','88.67','0.721'])\n",
    "x.add_row(['and review summary','','','',''])\n",
    "x.add_row(['TF-IDF with Bi-gram ','1000','77.25','82.6','0.715'])\n",
    "x.add_row(['and review summary','','','',''])\n",
    "print (x)\n"
   ]
  },
  {
   "cell_type": "markdown",
   "metadata": {},
   "source": [
    "BOW with Bi-gram and using review summary increases the accuracy, but the AUC is less compared to uni-fram, if we observe confusion matrix we can see that TNR is high and  FNR is less compared to oter methods"
   ]
  }
 ],
 "metadata": {
  "kernelspec": {
   "display_name": "Python 3",
   "language": "python",
   "name": "python3"
  },
  "language_info": {
   "codemirror_mode": {
    "name": "ipython",
    "version": 3
   },
   "file_extension": ".py",
   "mimetype": "text/x-python",
   "name": "python",
   "nbconvert_exporter": "python",
   "pygments_lexer": "ipython3",
   "version": "3.5.5"
  }
 },
 "nbformat": 4,
 "nbformat_minor": 2
}

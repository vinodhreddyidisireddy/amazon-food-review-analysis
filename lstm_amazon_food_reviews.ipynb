{
  "nbformat": 4,
  "nbformat_minor": 0,
  "metadata": {
    "colab": {
      "name": "lstm_amazon_food_reviews.ipynb",
      "provenance": [],
      "collapsed_sections": []
    },
    "kernelspec": {
      "name": "python3",
      "display_name": "Python 3"
    },
    "accelerator": "TPU"
  },
  "cells": [
    {
      "cell_type": "code",
      "metadata": {
        "id": "CboEbTydb-dD",
        "colab": {
          "base_uri": "https://localhost:8080/",
          "height": 122
        },
        "outputId": "0ea1d22e-da5f-4bf2-84ac-d50afa225f33"
      },
      "source": [
        "from google.colab import drive\n",
        "drive.mount('/content/gdrive')"
      ],
      "execution_count": null,
      "outputs": [
        {
          "output_type": "stream",
          "text": [
            "Go to this URL in a browser: https://accounts.google.com/o/oauth2/auth?client_id=947318989803-6bn6qk8qdgf4n4g3pfee6491hc0brc4i.apps.googleusercontent.com&redirect_uri=urn%3Aietf%3Awg%3Aoauth%3A2.0%3Aoob&scope=email%20https%3A%2F%2Fwww.googleapis.com%2Fauth%2Fdocs.test%20https%3A%2F%2Fwww.googleapis.com%2Fauth%2Fdrive%20https%3A%2F%2Fwww.googleapis.com%2Fauth%2Fdrive.photos.readonly%20https%3A%2F%2Fwww.googleapis.com%2Fauth%2Fpeopleapi.readonly&response_type=code\n",
            "\n",
            "Enter your authorization code:\n",
            "··········\n",
            "Mounted at /content/gdrive\n"
          ],
          "name": "stdout"
        }
      ]
    },
    {
      "cell_type": "code",
      "metadata": {
        "id": "u8dTThiLb_sv"
      },
      "source": [
        "import pickle\n",
        "with open('/content/gdrive/My Drive/Colab Notebooks/final_data.pkl', 'rb') as handle:\n",
        "    data = pickle.load(handle)"
      ],
      "execution_count": null,
      "outputs": []
    },
    {
      "cell_type": "code",
      "metadata": {
        "id": "DgWyAmX-c6l0",
        "colab": {
          "base_uri": "https://localhost:8080/",
          "height": 34
        },
        "outputId": "6563b9f9-edd5-4aff-ee86-a6d7d10213d9"
      },
      "source": [
        "data.shape"
      ],
      "execution_count": null,
      "outputs": [
        {
          "output_type": "execute_result",
          "data": {
            "text/plain": [
              "(364159, 13)"
            ]
          },
          "metadata": {
            "tags": []
          },
          "execution_count": 3
        }
      ]
    },
    {
      "cell_type": "code",
      "metadata": {
        "id": "YBcMoE6WdANm",
        "colab": {
          "base_uri": "https://localhost:8080/",
          "height": 564
        },
        "outputId": "1e72b53f-3826-4f27-9d14-e9f616933b07"
      },
      "source": [
        "data.head()"
      ],
      "execution_count": null,
      "outputs": [
        {
          "output_type": "execute_result",
          "data": {
            "text/html": [
              "<div>\n",
              "<style scoped>\n",
              "    .dataframe tbody tr th:only-of-type {\n",
              "        vertical-align: middle;\n",
              "    }\n",
              "\n",
              "    .dataframe tbody tr th {\n",
              "        vertical-align: top;\n",
              "    }\n",
              "\n",
              "    .dataframe thead th {\n",
              "        text-align: right;\n",
              "    }\n",
              "</style>\n",
              "<table border=\"1\" class=\"dataframe\">\n",
              "  <thead>\n",
              "    <tr style=\"text-align: right;\">\n",
              "      <th></th>\n",
              "      <th>Id</th>\n",
              "      <th>ProductId</th>\n",
              "      <th>UserId</th>\n",
              "      <th>ProfileName</th>\n",
              "      <th>HelpfulnessNumerator</th>\n",
              "      <th>HelpfulnessDenominator</th>\n",
              "      <th>Score</th>\n",
              "      <th>Time</th>\n",
              "      <th>Summary</th>\n",
              "      <th>Text</th>\n",
              "      <th>CleanedText</th>\n",
              "      <th>Cleanedsummary</th>\n",
              "      <th>Cleaned</th>\n",
              "    </tr>\n",
              "  </thead>\n",
              "  <tbody>\n",
              "    <tr>\n",
              "      <th>150523</th>\n",
              "      <td>150524</td>\n",
              "      <td>0006641040</td>\n",
              "      <td>ACITT7DI6IDDL</td>\n",
              "      <td>shari zychinski</td>\n",
              "      <td>0</td>\n",
              "      <td>0</td>\n",
              "      <td>1</td>\n",
              "      <td>939340800</td>\n",
              "      <td>EVERY book is educational</td>\n",
              "      <td>this witty little book makes my son laugh at l...</td>\n",
              "      <td>b'witti littl book make son laugh loud recit c...</td>\n",
              "      <td>b'everi book educ'</td>\n",
              "      <td>b'witti littl book make son laugh loud recit c...</td>\n",
              "    </tr>\n",
              "    <tr>\n",
              "      <th>150500</th>\n",
              "      <td>150501</td>\n",
              "      <td>0006641040</td>\n",
              "      <td>AJ46FKXOVC7NR</td>\n",
              "      <td>Nicholas A Mesiano</td>\n",
              "      <td>2</td>\n",
              "      <td>2</td>\n",
              "      <td>1</td>\n",
              "      <td>940809600</td>\n",
              "      <td>This whole series is great way to spend time w...</td>\n",
              "      <td>I can remember seeing the show when it aired o...</td>\n",
              "      <td>b'rememb see show air televis year ago child s...</td>\n",
              "      <td>b'whole seri great way spend time child'</td>\n",
              "      <td>b'rememb see show air televis year ago child s...</td>\n",
              "    </tr>\n",
              "    <tr>\n",
              "      <th>451855</th>\n",
              "      <td>451856</td>\n",
              "      <td>B00004CXX9</td>\n",
              "      <td>AIUWLEQ1ADEG5</td>\n",
              "      <td>Elizabeth Medina</td>\n",
              "      <td>0</td>\n",
              "      <td>0</td>\n",
              "      <td>1</td>\n",
              "      <td>944092800</td>\n",
              "      <td>Entertainingl Funny!</td>\n",
              "      <td>Beetlejuice is a well written movie ..... ever...</td>\n",
              "      <td>b'beetlejuic well written movi everyth excel a...</td>\n",
              "      <td>b'entertainingl funni'</td>\n",
              "      <td>b'beetlejuic well written movi everyth excel a...</td>\n",
              "    </tr>\n",
              "    <tr>\n",
              "      <th>374358</th>\n",
              "      <td>374359</td>\n",
              "      <td>B00004CI84</td>\n",
              "      <td>A344SMIA5JECGM</td>\n",
              "      <td>Vincent P. Ross</td>\n",
              "      <td>1</td>\n",
              "      <td>2</td>\n",
              "      <td>1</td>\n",
              "      <td>944438400</td>\n",
              "      <td>A modern day fairy tale</td>\n",
              "      <td>A twist of rumplestiskin captured on film, sta...</td>\n",
              "      <td>b'twist rumplestiskin captur film star michael...</td>\n",
              "      <td>b'modern day fairi tale'</td>\n",
              "      <td>b'twist rumplestiskin captur film star michael...</td>\n",
              "    </tr>\n",
              "    <tr>\n",
              "      <th>451854</th>\n",
              "      <td>451855</td>\n",
              "      <td>B00004CXX9</td>\n",
              "      <td>AJH6LUC1UT1ON</td>\n",
              "      <td>The Phantom of the Opera</td>\n",
              "      <td>0</td>\n",
              "      <td>0</td>\n",
              "      <td>1</td>\n",
              "      <td>946857600</td>\n",
              "      <td>FANTASTIC!</td>\n",
              "      <td>Beetlejuice is an excellent and funny movie. K...</td>\n",
              "      <td>b'beetlejuic excel funni movi keaton hilari wa...</td>\n",
              "      <td>b'fantast'</td>\n",
              "      <td>b'beetlejuic excel funni movi keaton hilari wa...</td>\n",
              "    </tr>\n",
              "  </tbody>\n",
              "</table>\n",
              "</div>"
            ],
            "text/plain": [
              "            Id  ...                                            Cleaned\n",
              "150523  150524  ...  b'witti littl book make son laugh loud recit c...\n",
              "150500  150501  ...  b'rememb see show air televis year ago child s...\n",
              "451855  451856  ...  b'beetlejuic well written movi everyth excel a...\n",
              "374358  374359  ...  b'twist rumplestiskin captur film star michael...\n",
              "451854  451855  ...  b'beetlejuic excel funni movi keaton hilari wa...\n",
              "\n",
              "[5 rows x 13 columns]"
            ]
          },
          "metadata": {
            "tags": []
          },
          "execution_count": 4
        }
      ]
    },
    {
      "cell_type": "code",
      "metadata": {
        "id": "4yIiNujndAa0"
      },
      "source": [
        "final_data = data[:50000]"
      ],
      "execution_count": null,
      "outputs": []
    },
    {
      "cell_type": "code",
      "metadata": {
        "id": "VBFrwreFdRjb"
      },
      "source": [
        "from sklearn.model_selection import train_test_split\n",
        "# split the data set into train and test\n",
        "X_train, X_test, y_train, y_test = train_test_split(final_data['Text'].values, final_data['Score'].values,stratify =final_data['Score'],\n",
        "                                                             test_size=0.3, random_state=42)\n"
      ],
      "execution_count": null,
      "outputs": []
    },
    {
      "cell_type": "code",
      "metadata": {
        "id": "_vwqbCua6ELu",
        "colab": {
          "base_uri": "https://localhost:8080/",
          "height": 34
        },
        "outputId": "c42f23be-e078-4467-a019-45efb4dc4cd5"
      },
      "source": [
        "l = max([len(text.split()) for text in final_data['Text'].values])\n",
        "print (l)"
      ],
      "execution_count": null,
      "outputs": [
        {
          "output_type": "stream",
          "text": [
            "1818\n"
          ],
          "name": "stdout"
        }
      ]
    },
    {
      "cell_type": "code",
      "metadata": {
        "id": "ZbclUz8QdRu9",
        "colab": {
          "base_uri": "https://localhost:8080/",
          "height": 34
        },
        "outputId": "232b509b-47a6-47b8-d970-b134c6434f87"
      },
      "source": [
        "from keras.preprocessing.text import Tokenizer\n",
        "from keras.preprocessing import sequence\n",
        "tokenizer = Tokenizer(num_words=4000)\n",
        "tokenizer.fit_on_texts(X_train)\n",
        "\n",
        "X_train = tokenizer.texts_to_sequences(X_train)\n",
        "X_test = tokenizer.texts_to_sequences(X_test)\n",
        "\n",
        "\n",
        "max_length =800\n",
        "X_train = sequence.pad_sequences(X_train, maxlen=max_length)\n",
        "X_test = sequence.pad_sequences(X_test, maxlen=max_length)"
      ],
      "execution_count": null,
      "outputs": [
        {
          "output_type": "stream",
          "text": [
            "Using TensorFlow backend.\n"
          ],
          "name": "stderr"
        }
      ]
    },
    {
      "cell_type": "code",
      "metadata": {
        "id": "WMGQhItKDacg"
      },
      "source": [
        "from sklearn.preprocessing import StandardScaler\n",
        "standardize = StandardScaler()\n",
        "X_train = standardize.fit_transform(X_train)\n",
        "X_test = standardize.transform(X_test)"
      ],
      "execution_count": null,
      "outputs": []
    },
    {
      "cell_type": "code",
      "metadata": {
        "id": "eFRgC431gkdI"
      },
      "source": [
        "# Credits: https://machinelearningmastery.com/sequence-classification-lstm-recurrent-neural-networks-python-keras/\n",
        "# LSTM for sequence classification in the IMDB dataset\n",
        "import numpy\n",
        "from keras.models import Sequential\n",
        "from keras.layers import Dense\n",
        "from keras.layers import LSTM\n",
        "from keras.layers.embeddings import Embedding\n",
        "from keras.preprocessing import sequence\n",
        "# fix random seed for reproducibility\n",
        "numpy.random.seed(7)\n"
      ],
      "execution_count": null,
      "outputs": []
    },
    {
      "cell_type": "code",
      "metadata": {
        "id": "b5LBC493NvKH"
      },
      "source": [
        "%matplotlib inline\n",
        "import matplotlib.pyplot as plt\n",
        "import numpy as np\n",
        "import time\n",
        "# https://gist.github.com/greydanus/f6eee59eaf1d90fcb3b534a25362cea4\n",
        "# https://stackoverflow.com/a/14434334\n",
        "# this function is used to update the plots for each epoch and error\n",
        "def plt_dynamic(x, vy, ty, ax, colors=['b']):\n",
        "    ax.plot(x, vy, 'b', label=\"Validation Loss\")\n",
        "    ax.plot(x, ty, 'r', label=\"Train Loss\")\n",
        "    plt.legend()\n",
        "    plt.grid()\n",
        "    fig.canvas.draw()"
      ],
      "execution_count": null,
      "outputs": []
    },
    {
      "cell_type": "code",
      "metadata": {
        "id": "CquzlqrOIYGn",
        "colab": {
          "base_uri": "https://localhost:8080/",
          "height": 255
        },
        "outputId": "75471832-e1e5-4888-9dc3-188982f7a322"
      },
      "source": [
        "# create the model\n",
        "model = Sequential()\n",
        "model.add(Embedding(4000,32, input_length=max_length))\n",
        "model.add(LSTM(100))\n",
        "model.add(Dense(1, activation='sigmoid'))\n",
        "model.compile(loss='binary_crossentropy', optimizer='adam', metrics=['accuracy'])\n",
        "print(model.summary())\n",
        "#Refer: https://datascience.stackexchange.com/questions/10615/number-of-parameters-in-an-lstm-model"
      ],
      "execution_count": null,
      "outputs": [
        {
          "output_type": "stream",
          "text": [
            "_________________________________________________________________\n",
            "Layer (type)                 Output Shape              Param #   \n",
            "=================================================================\n",
            "embedding_2 (Embedding)      (None, 600, 32)           128000    \n",
            "_________________________________________________________________\n",
            "lstm_2 (LSTM)                (None, 100)               53200     \n",
            "_________________________________________________________________\n",
            "dense_2 (Dense)              (None, 1)                 101       \n",
            "=================================================================\n",
            "Total params: 181,301\n",
            "Trainable params: 181,301\n",
            "Non-trainable params: 0\n",
            "_________________________________________________________________\n",
            "None\n"
          ],
          "name": "stdout"
        }
      ]
    },
    {
      "cell_type": "code",
      "metadata": {
        "id": "A_FT0dPNIeLP",
        "colab": {
          "base_uri": "https://localhost:8080/",
          "height": 411
        },
        "outputId": "7e01c2be-ae0c-4c27-f245-f7db3f2fa14e"
      },
      "source": [
        "batch_size = 128\n",
        "epochs = 10\n",
        "history = model.fit(X_train, y_train, batch_size=batch_size, epochs=epochs, verbose=1, validation_data=(X_test, y_test))"
      ],
      "execution_count": null,
      "outputs": [
        {
          "output_type": "stream",
          "text": [
            "W0614 18:23:38.540522 140278522865536 deprecation_wrapper.py:119] From /usr/local/lib/python3.6/dist-packages/keras/backend/tensorflow_backend.py:986: The name tf.assign_add is deprecated. Please use tf.compat.v1.assign_add instead.\n",
            "\n"
          ],
          "name": "stderr"
        },
        {
          "output_type": "stream",
          "text": [
            "Train on 35000 samples, validate on 15000 samples\n",
            "Epoch 1/10\n",
            "34944/35000 [============================>.] - ETA: 0s - loss: 0.2739 - acc: 0.9037Epoch 2/10\n",
            "35000/35000 [==============================] - 405s 12ms/step - loss: 0.1758 - acc: 0.9331 - val_loss: 0.2220 - val_acc: 0.9232\n",
            "Epoch 3/10\n",
            "35000/35000 [==============================] - 405s 12ms/step - loss: 0.1410 - acc: 0.9477 - val_loss: 0.2071 - val_acc: 0.9285\n",
            "Epoch 4/10\n",
            "35000/35000 [==============================] - 407s 12ms/step - loss: 0.1241 - acc: 0.9560 - val_loss: 0.2112 - val_acc: 0.9275\n",
            "Epoch 5/10\n",
            "35000/35000 [==============================] - 407s 12ms/step - loss: 0.1147 - acc: 0.9603 - val_loss: 0.2067 - val_acc: 0.9242\n",
            "Epoch 6/10\n",
            "35000/35000 [==============================] - 405s 12ms/step - loss: 0.1033 - acc: 0.9639 - val_loss: 0.2160 - val_acc: 0.9227\n",
            "Epoch 7/10\n",
            "35000/35000 [==============================] - 406s 12ms/step - loss: 0.0971 - acc: 0.9667 - val_loss: 0.2365 - val_acc: 0.9090\n",
            "Epoch 8/10\n",
            "35000/35000 [==============================] - 402s 11ms/step - loss: 0.0813 - acc: 0.9732 - val_loss: 0.2403 - val_acc: 0.9221\n",
            "Epoch 9/10\n",
            "35000/35000 [==============================] - 403s 12ms/step - loss: 0.0720 - acc: 0.9779 - val_loss: 0.2910 - val_acc: 0.9217\n",
            "Epoch 10/10\n",
            "35000/35000 [==============================] - 402s 11ms/step - loss: 0.0716 - acc: 0.9766 - val_loss: 0.2893 - val_acc: 0.9207\n"
          ],
          "name": "stdout"
        }
      ]
    },
    {
      "cell_type": "code",
      "metadata": {
        "id": "oDFdMaMvOz_Q",
        "colab": {
          "base_uri": "https://localhost:8080/",
          "height": 317
        },
        "outputId": "38e0efeb-92c3-4054-a135-e957fc282c64"
      },
      "source": [
        "score = model.evaluate(X_test, y_test, verbose=0) \n",
        "print('Test score:', score[0]) \n",
        "print('Test accuracy:', score[1])\n",
        "\n",
        "fig,ax = plt.subplots(1,1)\n",
        "ax.set_xlabel('epoch') ; ax.set_ylabel('Categorical Crossentropy Loss')\n",
        "\n",
        "# list of epoch numbers\n",
        "x = list(range(1,epochs+1))\n",
        "\n",
        "vy = history.history['val_loss']\n",
        "ty = history.history['loss']\n",
        "plt_dynamic(x, vy, ty, ax)"
      ],
      "execution_count": null,
      "outputs": [
        {
          "output_type": "stream",
          "text": [
            "Test score: 0.28931082324683666\n",
            "Test accuracy: 0.9206666666666666\n"
          ],
          "name": "stdout"
        },
        {
          "output_type": "display_data",
          "data": {
            "image/png": "[encoded data removed]",
            "text/plain": [
              "<Figure size 432x288 with 1 Axes>"
            ]
          },
          "metadata": {
            "tags": []
          }
        }
      ]
    },
    {
      "cell_type": "code",
      "metadata": {
        "id": "y6ynSjKJFUkw",
        "colab": {
          "base_uri": "https://localhost:8080/",
          "height": 425
        },
        "outputId": "aa03fc9a-de6b-48c2-fb94-3a01e29f9ed5"
      },
      "source": [
        "# create the model\n",
        "from keras.layers.normalization import BatchNormalization\n",
        "from keras.layers import Dropout\n",
        "\n",
        "num_words = 4000\n",
        "vecor_dim = 64\n",
        "model = Sequential()\n",
        "model.add(Embedding(num_words,vecor_dim, input_length=max_length))\n",
        "model.add(LSTM(128, return_sequences=True))\n",
        "model.add(Dropout(1-0.5))\n",
        "model.add(LSTM(64))\n",
        "model.add(BatchNormalization())\n",
        "model.add(Dropout(1-0.5))\n",
        "model.add(Dense(64, activation='relu',kernel_initializer='he_normal'))\n",
        "model.add(Dense(1, activation='sigmoid'))\n",
        "model.compile(loss='binary_crossentropy', optimizer='adam', metrics=['accuracy'])\n",
        "print(model.summary())\n",
        "#Refer: https://datascience.stackexchange.com/questions/10615/number-of-parameters-in-an-lstm-model"
      ],
      "execution_count": null,
      "outputs": [
        {
          "output_type": "stream",
          "text": [
            "_________________________________________________________________\n",
            "Layer (type)                 Output Shape              Param #   \n",
            "=================================================================\n",
            "embedding_5 (Embedding)      (None, 600, 64)           256000    \n",
            "_________________________________________________________________\n",
            "lstm_7 (LSTM)                (None, 600, 128)          98816     \n",
            "_________________________________________________________________\n",
            "dropout_5 (Dropout)          (None, 600, 128)          0         \n",
            "_________________________________________________________________\n",
            "lstm_8 (LSTM)                (None, 64)                49408     \n",
            "_________________________________________________________________\n",
            "batch_normalization_3 (Batch (None, 64)                256       \n",
            "_________________________________________________________________\n",
            "dropout_6 (Dropout)          (None, 64)                0         \n",
            "_________________________________________________________________\n",
            "dense_7 (Dense)              (None, 64)                4160      \n",
            "_________________________________________________________________\n",
            "dense_8 (Dense)              (None, 1)                 65        \n",
            "=================================================================\n",
            "Total params: 408,705\n",
            "Trainable params: 408,577\n",
            "Non-trainable params: 128\n",
            "_________________________________________________________________\n",
            "None\n"
          ],
          "name": "stdout"
        }
      ]
    },
    {
      "cell_type": "code",
      "metadata": {
        "id": "sSG307Seh9GZ",
        "colab": {
          "base_uri": "https://localhost:8080/",
          "height": 374
        },
        "outputId": "d70e6d2c-17b3-40dd-e38b-1c0212cca11e"
      },
      "source": [
        "history = model.fit(X_train, y_train, batch_size=batch_size, epochs=epochs, verbose=1, validation_data=(X_test, y_test))\n"
      ],
      "execution_count": null,
      "outputs": [
        {
          "output_type": "stream",
          "text": [
            "Train on 35000 samples, validate on 15000 samples\n",
            "Epoch 1/10\n",
            "35000/35000 [==============================] - 904s 26ms/step - loss: 0.2846 - acc: 0.8967 - val_loss: 0.2904 - val_acc: 0.8983\n",
            "Epoch 2/10\n",
            "35000/35000 [==============================] - 904s 26ms/step - loss: 0.1743 - acc: 0.9324 - val_loss: 0.2655 - val_acc: 0.9142\n",
            "Epoch 3/10\n",
            "35000/35000 [==============================] - 904s 26ms/step - loss: 0.1440 - acc: 0.9433 - val_loss: 0.2652 - val_acc: 0.9058\n",
            "Epoch 4/10\n",
            "35000/35000 [==============================] - 900s 26ms/step - loss: 0.1169 - acc: 0.9556 - val_loss: 0.2481 - val_acc: 0.9015\n",
            "Epoch 5/10\n",
            "35000/35000 [==============================] - 902s 26ms/step - loss: 0.0981 - acc: 0.9624 - val_loss: 0.2525 - val_acc: 0.9014\n",
            "Epoch 6/10\n",
            "35000/35000 [==============================] - 902s 26ms/step - loss: 0.0772 - acc: 0.9702 - val_loss: 0.3347 - val_acc: 0.9195\n",
            "Epoch 7/10\n",
            "35000/35000 [==============================] - 903s 26ms/step - loss: 0.0645 - acc: 0.9752 - val_loss: 0.3084 - val_acc: 0.9023\n",
            "Epoch 8/10\n",
            "35000/35000 [==============================] - 904s 26ms/step - loss: 0.0510 - acc: 0.9817 - val_loss: 0.3902 - val_acc: 0.9125\n",
            "Epoch 9/10\n",
            "35000/35000 [==============================] - 909s 26ms/step - loss: 0.0596 - acc: 0.9788 - val_loss: 0.4621 - val_acc: 0.9141\n",
            "Epoch 10/10\n",
            "35000/35000 [==============================] - 909s 26ms/step - loss: 0.0354 - acc: 0.9873 - val_loss: 0.4613 - val_acc: 0.9177\n"
          ],
          "name": "stdout"
        }
      ]
    },
    {
      "cell_type": "code",
      "metadata": {
        "id": "0qKHyS08FRLk",
        "colab": {
          "base_uri": "https://localhost:8080/",
          "height": 317
        },
        "outputId": "99d87746-c25c-433d-eaf2-fe754ca05b03"
      },
      "source": [
        "score = model.evaluate(X_test, y_test, verbose=0) \n",
        "print('Test score:', score[0]) \n",
        "print('Test accuracy:', score[1])\n",
        "\n",
        "fig,ax = plt.subplots(1,1)\n",
        "ax.set_xlabel('epoch') ; ax.set_ylabel('Categorical Crossentropy Loss')\n",
        "\n",
        "# list of epoch numbers\n",
        "x = list(range(1,epochs+1))\n",
        "\n",
        "vy = history.history['val_loss']\n",
        "ty = history.history['loss']\n",
        "plt_dynamic(x, vy, ty, ax)"
      ],
      "execution_count": null,
      "outputs": [
        {
          "output_type": "stream",
          "text": [
            "Test score: 0.4612991584535843\n",
            "Test accuracy: 0.9177333333333333\n"
          ],
          "name": "stdout"
        },
        {
          "output_type": "display_data",
          "data": {
            "image/png": "[encoded data removed]",
            "text/plain": [
              "<Figure size 432x288 with 1 Axes>"
            ]
          },
          "metadata": {
            "tags": []
          }
        }
      ]
    },
    {
      "cell_type": "code",
      "metadata": {
        "id": "OqZfmU-DIIp2",
        "colab": {
          "base_uri": "https://localhost:8080/",
          "height": 1054
        },
        "outputId": "30009286-f4e2-42a5-dda5-9c589902c608"
      },
      "source": [
        "# create the model\n",
        "from keras.layers.normalization import BatchNormalization\n",
        "from keras.layers import Dropout\n",
        "from sklearn.utils import class_weight\n",
        "\n",
        "class_weight = class_weight.compute_class_weight('balanced'\n",
        "                                               ,np.unique(y_train)\n",
        "                                               ,y_train)\n",
        "num_words = 4000\n",
        "vecor_dim = 32\n",
        "batch_size = 512\n",
        "epochs = 30\n",
        "model = Sequential()\n",
        "model.add(Embedding(num_words,vecor_dim, input_length=max_length))\n",
        "model.add(LSTM(100))\n",
        "model.add(Dropout(1-0.5))\n",
        "#model.add(LSTM(64))\n",
        "#model.add(BatchNormalization())\n",
        "model.add(Dense(8, activation='relu',kernel_initializer='he_normal'))\n",
        "model.add(BatchNormalization())\n",
        "#model.add(Dropout(1-0.8))\n",
        "#model.add(Dense(32, activation='relu',kernel_initializer='he_normal'))\n",
        "model.add(Dense(1, activation='sigmoid'))\n",
        "model.compile(loss='binary_crossentropy', optimizer='adam', metrics=['accuracy'])\n",
        "#print(model.summary())\n",
        "history = model.fit(X_train, y_train, batch_size=batch_size, epochs=epochs,class_weight=class_weight, verbose=1, validation_data=(X_test, y_test))\n"
      ],
      "execution_count": null,
      "outputs": [
        {
          "output_type": "stream",
          "text": [
            "Train on 35000 samples, validate on 15000 samples\n",
            "Epoch 1/30\n",
            "35000/35000 [==============================] - 489s 14ms/step - loss: 0.6498 - acc: 0.8362 - val_loss: 0.5801 - val_acc: 0.8876\n",
            "Epoch 2/30\n",
            "35000/35000 [==============================] - 484s 14ms/step - loss: 0.5473 - acc: 0.8863 - val_loss: 0.5181 - val_acc: 0.8876\n",
            "Epoch 3/30\n",
            "35000/35000 [==============================] - 487s 14ms/step - loss: 0.4527 - acc: 0.8875 - val_loss: 0.4380 - val_acc: 0.8875\n",
            "Epoch 4/30\n",
            "35000/35000 [==============================] - 490s 14ms/step - loss: 0.3922 - acc: 0.8875 - val_loss: 0.3763 - val_acc: 0.8876\n",
            "Epoch 5/30\n",
            "35000/35000 [==============================] - 493s 14ms/step - loss: 0.3668 - acc: 0.8862 - val_loss: 0.3673 - val_acc: 0.8876\n",
            "Epoch 6/30\n",
            "35000/35000 [==============================] - 491s 14ms/step - loss: 0.3530 - acc: 0.8875 - val_loss: 0.3489 - val_acc: 0.8875\n",
            "Epoch 7/30\n",
            "35000/35000 [==============================] - 486s 14ms/step - loss: 0.3504 - acc: 0.8875 - val_loss: 0.9708 - val_acc: 0.8876\n",
            "Epoch 8/30\n",
            "35000/35000 [==============================] - 487s 14ms/step - loss: 0.3553 - acc: 0.8875 - val_loss: 0.3618 - val_acc: 0.8876\n",
            "Epoch 9/30\n",
            "35000/35000 [==============================] - 487s 14ms/step - loss: 0.3512 - acc: 0.8875 - val_loss: 0.3653 - val_acc: 0.8876\n",
            "Epoch 10/30\n",
            "35000/35000 [==============================] - 488s 14ms/step - loss: 0.3482 - acc: 0.8876 - val_loss: 0.3674 - val_acc: 0.8876\n",
            "Epoch 11/30\n",
            "35000/35000 [==============================] - 487s 14ms/step - loss: 0.3481 - acc: 0.8875 - val_loss: 0.3524 - val_acc: 0.8876\n",
            "Epoch 12/30\n",
            "35000/35000 [==============================] - 491s 14ms/step - loss: 0.3481 - acc: 0.8875 - val_loss: 0.3545 - val_acc: 0.8876\n",
            "Epoch 13/30\n",
            "35000/35000 [==============================] - 493s 14ms/step - loss: 0.3476 - acc: 0.8876 - val_loss: 0.3528 - val_acc: 0.8876\n",
            "Epoch 14/30\n",
            "35000/35000 [==============================] - 491s 14ms/step - loss: 0.3479 - acc: 0.8874 - val_loss: 0.3499 - val_acc: 0.8876\n",
            "Epoch 15/30\n",
            "35000/35000 [==============================] - 496s 14ms/step - loss: 0.3477 - acc: 0.8876 - val_loss: 0.3487 - val_acc: 0.8876\n",
            "Epoch 16/30\n",
            "35000/35000 [==============================] - 497s 14ms/step - loss: 0.3476 - acc: 0.8875 - val_loss: 0.3521 - val_acc: 0.8876\n",
            "Epoch 17/30\n",
            "35000/35000 [==============================] - 492s 14ms/step - loss: 0.3477 - acc: 0.8876 - val_loss: 0.3578 - val_acc: 0.8876\n",
            "Epoch 18/30\n",
            "35000/35000 [==============================] - 494s 14ms/step - loss: 0.3480 - acc: 0.8876 - val_loss: 0.3535 - val_acc: 0.8876\n",
            "Epoch 19/30\n",
            "35000/35000 [==============================] - 496s 14ms/step - loss: 0.3477 - acc: 0.8876 - val_loss: 0.3738 - val_acc: 0.8876\n",
            "Epoch 20/30\n",
            "35000/35000 [==============================] - 497s 14ms/step - loss: 0.3477 - acc: 0.8876 - val_loss: 0.3484 - val_acc: 0.8876\n",
            "Epoch 21/30\n",
            "35000/35000 [==============================] - 497s 14ms/step - loss: 0.3475 - acc: 0.8876 - val_loss: 0.3486 - val_acc: 0.8876\n",
            "Epoch 22/30\n",
            "35000/35000 [==============================] - 498s 14ms/step - loss: 0.3474 - acc: 0.8875 - val_loss: 0.3694 - val_acc: 0.8876\n",
            "Epoch 23/30\n",
            "35000/35000 [==============================] - 498s 14ms/step - loss: 0.3477 - acc: 0.8876 - val_loss: 0.3484 - val_acc: 0.8876\n",
            "Epoch 24/30\n",
            "35000/35000 [==============================] - 496s 14ms/step - loss: 0.3473 - acc: 0.8876 - val_loss: 0.3550 - val_acc: 0.8876\n",
            "Epoch 25/30\n",
            "35000/35000 [==============================] - 494s 14ms/step - loss: 0.3476 - acc: 0.8876 - val_loss: 0.3489 - val_acc: 0.8876\n",
            "Epoch 26/30\n",
            "35000/35000 [==============================] - 495s 14ms/step - loss: 0.3474 - acc: 0.8876 - val_loss: 0.3483 - val_acc: 0.8876\n",
            "Epoch 27/30\n",
            "35000/35000 [==============================] - 493s 14ms/step - loss: 0.3474 - acc: 0.8876 - val_loss: 0.3585 - val_acc: 0.8876\n",
            "Epoch 28/30\n",
            "35000/35000 [==============================] - 496s 14ms/step - loss: 0.3473 - acc: 0.8876 - val_loss: 0.3488 - val_acc: 0.8876\n",
            "Epoch 29/30\n",
            "35000/35000 [==============================] - 499s 14ms/step - loss: 0.3475 - acc: 0.8876 - val_loss: 0.3490 - val_acc: 0.8876\n",
            "Epoch 30/30\n",
            "35000/35000 [==============================] - 482s 14ms/step - loss: 0.3473 - acc: 0.8876 - val_loss: 0.3494 - val_acc: 0.8876\n"
          ],
          "name": "stdout"
        }
      ]
    },
    {
      "cell_type": "code",
      "metadata": {
        "id": "pZk53BgH7p1K",
        "colab": {
          "base_uri": "https://localhost:8080/",
          "height": 317
        },
        "outputId": "942f1975-26d9-460d-c606-61bf64d6864a"
      },
      "source": [
        "score = model.evaluate(X_test, y_test, verbose=0) \n",
        "print('Test score:', score[0]) \n",
        "print('Test accuracy:', score[1])\n",
        "\n",
        "fig,ax = plt.subplots(1,1)\n",
        "ax.set_xlabel('epoch') ; ax.set_ylabel('Categorical Crossentropy Loss')\n",
        "\n",
        "# list of epoch numbers\n",
        "x = list(range(1,epochs+1))\n",
        "\n",
        "vy = history.history['val_loss']\n",
        "ty = history.history['loss']\n",
        "plt_dynamic(x, vy, ty, ax)"
      ],
      "execution_count": null,
      "outputs": [
        {
          "output_type": "stream",
          "text": [
            "Test score: 0.34940680960019427\n",
            "Test accuracy: 0.8875999999682108\n"
          ],
          "name": "stdout"
        },
        {
          "output_type": "display_data",
          "data": {
            "image/png": "[encoded data removed]",
            "text/plain": [
              "<Figure size 432x288 with 1 Axes>"
            ]
          },
          "metadata": {
            "tags": []
          }
        }
      ]
    },
    {
      "cell_type": "code",
      "metadata": {
        "id": "nmTjz1VNoNwi"
      },
      "source": [
        "# create the model\n",
        "from keras.layers.normalization import BatchNormalization\n",
        "from keras.layers import Dropout\n",
        "\n",
        "from sklearn.metrics import roc_auc_score\n",
        "import tensorflow as tf\n"
      ],
      "execution_count": null,
      "outputs": []
    },
    {
      "cell_type": "code",
      "metadata": {
        "id": "RD76-GoMMPXf",
        "colab": {
          "base_uri": "https://localhost:8080/",
          "height": 394
        },
        "outputId": "18e0d6c4-3c7a-4420-d2b5-32d6310d6b60"
      },
      "source": [
        "from sklearn.utils import class_weight\n",
        "import keras.backend as K\n",
        "\n",
        "class_weight = class_weight.compute_class_weight('balanced'\n",
        "                                               ,np.unique(y_train)\n",
        "                                               ,y_train)\n",
        "\n",
        "#def auroc(y_true, y_pred):\n",
        "    #return tf.py_func(roc_auc_score, (y_true, y_pred), tf.double)\n",
        "def aucroc(y_true, y_pred):\n",
        "    auc = tf.metrics.auc(y_true, y_pred)[1]\n",
        "    K.get_session().run(tf.local_variables_initializer())\n",
        "\n",
        "num_words = 4000\n",
        "vecor_dim = 64\n",
        "batch_size = 128\n",
        "epochs = 10\n",
        "# create the model\n",
        "model = Sequential()\n",
        "model.add(Embedding(4000,32, input_length=max_length))\n",
        "model.add(LSTM(100))\n",
        "#model.add(Dropout(1-0.5))\n",
        "#model.add(Dense(50, activation='sigmoid'))\n",
        "#model.add(BatchNormalization())\n",
        "model.add(Dense(1, activation='sigmoid'))\n",
        "model.compile(loss='binary_crossentropy', optimizer='adam', metrics=['accuracy',auroc])\n",
        "#print(model.summary())\n",
        "history = model.fit(X_train, y_train, batch_size=batch_size, epochs=epochs, verbose=1, validation_data=(X_test, y_test))"
      ],
      "execution_count": null,
      "outputs": [
        {
          "output_type": "stream",
          "text": [
            "Train on 35000 samples, validate on 15000 samples\n",
            "Epoch 1/10\n",
            "35000/35000 [==============================] - 383s 11ms/step - loss: 0.3637 - acc: 0.8873 - auroc: 0.5630 - val_loss: 0.3510 - val_acc: 0.8876 - val_auroc: 0.5506\n",
            "Epoch 2/10\n",
            "35000/35000 [==============================] - 394s 11ms/step - loss: 0.3503 - acc: 0.8876 - auroc: 0.5613 - val_loss: 0.3503 - val_acc: 0.8876 - val_auroc: 0.5507\n",
            "Epoch 3/10\n",
            "35000/35000 [==============================] - 394s 11ms/step - loss: 0.3509 - acc: 0.8875 - auroc: 0.5615 - val_loss: 0.3507 - val_acc: 0.8876 - val_auroc: 0.5500\n",
            "Epoch 4/10\n",
            "35000/35000 [==============================] - 393s 11ms/step - loss: 0.3505 - acc: 0.8875 - auroc: 0.5606 - val_loss: 0.3506 - val_acc: 0.8876 - val_auroc: 0.5532\n",
            "Epoch 5/10\n",
            "35000/35000 [==============================] - 395s 11ms/step - loss: 0.3505 - acc: 0.8875 - auroc: 0.5650 - val_loss: 0.3499 - val_acc: 0.8875 - val_auroc: 0.5574\n",
            "Epoch 6/10\n",
            "35000/35000 [==============================] - 394s 11ms/step - loss: 0.3501 - acc: 0.8875 - auroc: 0.5685 - val_loss: 0.3497 - val_acc: 0.8876 - val_auroc: 0.5611\n",
            "Epoch 7/10\n",
            "35000/35000 [==============================] - 394s 11ms/step - loss: 0.3492 - acc: 0.8876 - auroc: 0.5762 - val_loss: 0.3487 - val_acc: 0.8876 - val_auroc: 0.5696\n",
            "Epoch 8/10\n",
            "35000/35000 [==============================] - 393s 11ms/step - loss: 0.3489 - acc: 0.8876 - auroc: 0.5812 - val_loss: 0.3488 - val_acc: 0.8876 - val_auroc: 0.5721\n",
            "Epoch 9/10\n",
            "35000/35000 [==============================] - 393s 11ms/step - loss: 0.3494 - acc: 0.8876 - auroc: 0.5712 - val_loss: 0.3487 - val_acc: 0.8876 - val_auroc: 0.5714\n",
            "Epoch 10/10\n",
            "35000/35000 [==============================] - 391s 11ms/step - loss: 0.3481 - acc: 0.8876 - auroc: 0.5796 - val_loss: 0.3490 - val_acc: 0.8876 - val_auroc: 0.5720\n"
          ],
          "name": "stdout"
        }
      ]
    },
    {
      "cell_type": "code",
      "metadata": {
        "id": "U8H7VpF6oUdf",
        "colab": {
          "base_uri": "https://localhost:8080/",
          "height": 34
        },
        "outputId": "60be957f-7723-430e-e0e1-c01dbfc407ef"
      },
      "source": [
        "y_pred = model.predict_proba(X_test)\n",
        "print ('auc {0}'.format(roc_auc_score(y_test, y_pred)))"
      ],
      "execution_count": null,
      "outputs": [
        {
          "output_type": "stream",
          "text": [
            "auc 0.5692526850766352\n"
          ],
          "name": "stdout"
        }
      ]
    },
    {
      "cell_type": "code",
      "metadata": {
        "id": "XiB5arhTjnEg",
        "colab": {
          "base_uri": "https://localhost:8080/",
          "height": 283
        },
        "outputId": "8a9a96fc-58e0-4421-8a8d-c7d7ba363efd"
      },
      "source": [
        "#score = model.evaluate(X_test, y_test, verbose=0) \n",
        "#print('Test score:', score[0]) \n",
        "#print('Test accuracy:', score[1])\n",
        "\n",
        "fig,ax = plt.subplots(1,1)\n",
        "ax.set_xlabel('epoch') ; ax.set_ylabel('Categorical Crossentropy Loss')\n",
        "\n",
        "# list of epoch numbers\n",
        "x = list(range(1,epochs+1))\n",
        "\n",
        "vy = history.history['val_loss']\n",
        "ty = history.history['loss']\n",
        "plt_dynamic(x, vy, ty, ax)"
      ],
      "execution_count": null,
      "outputs": [
        {
          "output_type": "display_data",
          "data": {
            "image/png": "[encoded data removed]",
            "text/plain": [
              "<Figure size 432x288 with 1 Axes>"
            ]
          },
          "metadata": {
            "tags": []
          }
        }
      ]
    },
    {
      "cell_type": "code",
      "metadata": {
        "id": "4Q4kZhDA6lYN",
        "colab": {
          "base_uri": "https://localhost:8080/",
          "height": 394
        },
        "outputId": "a90c0acf-6980-4d15-8438-3108419c9e22"
      },
      "source": [
        "from sklearn.utils import class_weight\n",
        "import keras.backend as K\n",
        "\n",
        "class_weight = class_weight.compute_class_weight('balanced'\n",
        "                                               ,np.unique(y_train)\n",
        "                                               ,y_train)\n",
        "\n",
        "#def auroc(y_true, y_pred):\n",
        "    #return tf.py_func(roc_auc_score, (y_true, y_pred), tf.double)\n",
        "def aucroc(y_true, y_pred):\n",
        "    auc = tf.metrics.auc(y_true, y_pred)[1]\n",
        "    K.get_session().run(tf.local_variables_initializer())\n",
        "\n",
        "num_words = 4000\n",
        "vecor_dim = 64\n",
        "batch_size = 128\n",
        "epochs = 10\n",
        "# create the model\n",
        "model = Sequential()\n",
        "model.add(Embedding(4000,32, input_length=max_length))\n",
        "model.add(LSTM(100,return_sequences=True))\n",
        "model.add(Dropout(1-0.5))\n",
        "model.add(LSTM(50))\n",
        "model.add(BatchNormalization())\n",
        "model.add(Dense(50, activation='relu',kernel_initializer='he_normal'))\n",
        "model.add(Dropout(1-0.5))\n",
        "#model.add(BatchNormalization())\n",
        "model.add(Dense(1, activation='sigmoid'))\n",
        "model.compile(loss='binary_crossentropy', optimizer='adam', metrics=['accuracy',auroc])\n",
        "#print(model.summary())\n",
        "history = model.fit(X_train, y_train, batch_size=batch_size, epochs=epochs, verbose=1, validation_data=(X_test, y_test),class_weight=class_weight)"
      ],
      "execution_count": null,
      "outputs": [
        {
          "output_type": "stream",
          "text": [
            "Train on 35000 samples, validate on 15000 samples\n",
            "Epoch 1/10\n",
            "35000/35000 [==============================] - 703s 20ms/step - loss: 0.4091 - acc: 0.8711 - auroc: 0.5139 - val_loss: 0.3642 - val_acc: 0.8876 - val_auroc: 0.5082\n",
            "Epoch 2/10\n",
            "35000/35000 [==============================] - 715s 20ms/step - loss: 0.3599 - acc: 0.8876 - auroc: 0.5375 - val_loss: 0.3570 - val_acc: 0.8876 - val_auroc: 0.5584\n",
            "Epoch 3/10\n",
            "35000/35000 [==============================] - 720s 21ms/step - loss: 0.3572 - acc: 0.8875 - auroc: 0.5416 - val_loss: 0.5398 - val_acc: 0.8876 - val_auroc: 0.5692\n",
            "Epoch 4/10\n",
            "35000/35000 [==============================] - 721s 21ms/step - loss: 0.3571 - acc: 0.8876 - auroc: 0.5417 - val_loss: 1.2478 - val_acc: 0.8876 - val_auroc: 0.5651\n",
            "Epoch 5/10\n",
            "35000/35000 [==============================] - 719s 21ms/step - loss: 0.3568 - acc: 0.8876 - auroc: 0.5390 - val_loss: 0.3493 - val_acc: 0.8876 - val_auroc: 0.5708\n",
            "Epoch 6/10\n",
            "35000/35000 [==============================] - 722s 21ms/step - loss: 0.3561 - acc: 0.8876 - auroc: 0.5405 - val_loss: 0.3580 - val_acc: 0.8876 - val_auroc: 0.5614\n",
            "Epoch 7/10\n",
            "35000/35000 [==============================] - 723s 21ms/step - loss: 0.3568 - acc: 0.8876 - auroc: 0.5301 - val_loss: 0.4785 - val_acc: 0.8876 - val_auroc: 0.5716\n",
            "Epoch 8/10\n",
            "35000/35000 [==============================] - 721s 21ms/step - loss: 0.3550 - acc: 0.8876 - auroc: 0.5437 - val_loss: 0.4096 - val_acc: 0.8876 - val_auroc: 0.5674\n",
            "Epoch 9/10\n",
            "35000/35000 [==============================] - 722s 21ms/step - loss: 0.3549 - acc: 0.8876 - auroc: 0.5408 - val_loss: 0.3491 - val_acc: 0.8876 - val_auroc: 0.5676\n",
            "Epoch 10/10\n",
            "35000/35000 [==============================] - 720s 21ms/step - loss: 0.3541 - acc: 0.8876 - auroc: 0.5461 - val_loss: 0.3595 - val_acc: 0.8876 - val_auroc: 0.5675\n"
          ],
          "name": "stdout"
        }
      ]
    },
    {
      "cell_type": "code",
      "metadata": {
        "id": "T4WskYvRdBhx",
        "colab": {
          "base_uri": "https://localhost:8080/",
          "height": 34
        },
        "outputId": "300725d4-f02a-4bd1-943f-be0917261cb2"
      },
      "source": [
        "y_pred = model.predict_proba(X_test)\n",
        "print ('auc {0}'.format(roc_auc_score(y_test, y_pred)))"
      ],
      "execution_count": null,
      "outputs": [
        {
          "output_type": "stream",
          "text": [
            "auc 0.565957738364757\n"
          ],
          "name": "stdout"
        }
      ]
    },
    {
      "cell_type": "code",
      "metadata": {
        "id": "KchtLwLkby0a",
        "colab": {
          "base_uri": "https://localhost:8080/",
          "height": 283
        },
        "outputId": "9bf2ba00-cd1a-40b2-bd66-e3096d7c8b9b"
      },
      "source": [
        "#score = model.evaluate(X_test, y_test) \n",
        "#print('Test score:', score[0]) \n",
        "#print('Test accuracy:', score[1])\n",
        "#print('Test auc:', score[1])\n",
        "\n",
        "fig,ax = plt.subplots(1,1)\n",
        "ax.set_xlabel('epoch') ; ax.set_ylabel('Categorical Crossentropy Loss')\n",
        "\n",
        "# list of epoch numbers\n",
        "x = list(range(1,epochs+1))\n",
        "\n",
        "vy = history.history['val_loss']\n",
        "ty = history.history['loss']\n",
        "plt_dynamic(x, vy, ty, ax)"
      ],
      "execution_count": null,
      "outputs": [
        {
          "output_type": "display_data",
          "data": {
            "image/png": "[encoded data removed]",
            "text/plain": [
              "<Figure size 432x288 with 1 Axes>"
            ]
          },
          "metadata": {
            "tags": []
          }
        }
      ]
    },
    {
      "cell_type": "code",
      "metadata": {
        "id": "P3GG4RZ9JzDE",
        "colab": {
          "base_uri": "https://localhost:8080/",
          "height": 394
        },
        "outputId": "99f52aa8-0c25-427e-c5da-27051ee132cc"
      },
      "source": [
        "# create the model\n",
        "from keras.layers.normalization import BatchNormalization\n",
        "from keras.layers import Dropout\n",
        "from sklearn.utils import class_weight\n",
        "import keras.backend as K\n",
        "import tensorflow as tf\n",
        "from keras.callbacks import Callback\n",
        "from keras.callbacks import ModelCheckpoint\n",
        "from sklearn.metrics import roc_auc_score\n",
        "\n",
        "class_weight = class_weight.compute_class_weight('balanced'\n",
        "                                               ,np.unique(y_train)\n",
        "                                               ,y_train)\n",
        "\n",
        "def aucroc(y_true, y_pred):\n",
        "    return tf.py_func(roc_auc_score, (y_true, y_pred), tf.double)\n",
        "'''def aucroc(y_true, y_pred):\n",
        "    auc = tf.metrics.auc(y_true, y_pred)[1]\n",
        "    K.get_session().run(tf.local_variables_initializer())\n",
        "'''\n",
        "best_model = ModelCheckpoint('best_model.h5', monitor='val_aucroc', mode='max', verbose=0, save_best_only=True)\n",
        "num_words = 4000\n",
        "vecor_dim = 64\n",
        "epochs=10\n",
        "batch_size=128\n",
        "model = Sequential()\n",
        "model.add(Embedding(num_words,vecor_dim, input_length=max_length))\n",
        "model.add(LSTM(128, return_sequences=True))\n",
        "model.add(Dropout(1-0.8))\n",
        "model.add(LSTM(64, return_sequences=True))\n",
        "model.add(BatchNormalization())\n",
        "model.add(LSTM(64))\n",
        "model.add(Dropout(1-0.8))\n",
        "model.add(Dense(64, activation='relu',kernel_initializer='he_normal'))\n",
        "model.add(Dropout(1-0.8))\n",
        "model.add(Dense(1, activation='sigmoid'))\n",
        "model.compile(loss='binary_crossentropy', optimizer='adam', metrics=['accuracy',aucroc])\n",
        "#print(model.summary())\n",
        "model.save('my_model.h5')\n",
        "history = model.fit(X_train, y_train, batch_size=batch_size, epochs=epochs, verbose=1, validation_data=(X_test, y_test),class_weight=class_weight,callbacks=[best_model])\n",
        "#Refer: https://datascience.stackexchange.com/questions/10615/number-of-parameters-in-an-lstm-model"
      ],
      "execution_count": null,
      "outputs": [
        {
          "output_type": "stream",
          "text": [
            "Train on 35000 samples, validate on 15000 samples\n",
            "Epoch 1/10\n",
            "35000/35000 [==============================] - 1620s 46ms/step - loss: 0.2797 - acc: 0.8977 - aucroc: 0.7775 - val_loss: 0.2137 - val_acc: 0.9205 - val_aucroc: 0.9239\n",
            "Epoch 2/10\n",
            "35000/35000 [==============================] - 1624s 46ms/step - loss: 0.1802 - acc: 0.9317 - aucroc: 0.9383 - val_loss: 0.2246 - val_acc: 0.9141 - val_aucroc: 0.9307\n",
            "Epoch 3/10\n",
            "35000/35000 [==============================] - 1626s 46ms/step - loss: 0.1560 - acc: 0.9419 - aucroc: 0.9529 - val_loss: 0.2113 - val_acc: 0.9126 - val_aucroc: 0.9218\n",
            "Epoch 4/10\n",
            "35000/35000 [==============================] - 1628s 47ms/step - loss: 0.1367 - acc: 0.9512 - aucroc: 0.9637 - val_loss: 0.2116 - val_acc: 0.9097 - val_aucroc: 0.9334\n",
            "Epoch 5/10\n",
            "35000/35000 [==============================] - 1635s 47ms/step - loss: 0.1154 - acc: 0.9583 - aucroc: 0.9750 - val_loss: 0.2900 - val_acc: 0.9252 - val_aucroc: 0.8924\n",
            "Epoch 6/10\n",
            "35000/35000 [==============================] - 1632s 47ms/step - loss: 0.1154 - acc: 0.9573 - aucroc: 0.9760 - val_loss: 0.2340 - val_acc: 0.9049 - val_aucroc: 0.9192\n",
            "Epoch 7/10\n",
            "35000/35000 [==============================] - 1633s 47ms/step - loss: 0.0932 - acc: 0.9677 - aucroc: 0.9822 - val_loss: 0.3614 - val_acc: 0.9085 - val_aucroc: 0.8843\n",
            "Epoch 8/10\n",
            "35000/35000 [==============================] - 1632s 47ms/step - loss: 0.0765 - acc: 0.9735 - aucroc: 0.9888 - val_loss: 0.2658 - val_acc: 0.9274 - val_aucroc: 0.8978\n",
            "Epoch 9/10\n",
            "35000/35000 [==============================] - 1630s 47ms/step - loss: 0.0603 - acc: 0.9803 - aucroc: 0.9914 - val_loss: 0.2461 - val_acc: 0.9219 - val_aucroc: 0.9110\n",
            "Epoch 10/10\n",
            "35000/35000 [==============================] - 1636s 47ms/step - loss: 0.0493 - acc: 0.9839 - aucroc: 0.9939 - val_loss: 0.3047 - val_acc: 0.9145 - val_aucroc: 0.8939\n"
          ],
          "name": "stdout"
        }
      ]
    },
    {
      "cell_type": "code",
      "metadata": {
        "id": "3iBxXUGzJh0A",
        "colab": {
          "base_uri": "https://localhost:8080/",
          "height": 283
        },
        "outputId": "982f32d8-f0a8-467a-8f45-370a788662fb"
      },
      "source": [
        "#score = model.evaluate(X_test, y_test) \n",
        "#print('Test score:', score[0]) \n",
        "#print('Test accuracy:', score[1])\n",
        "#print('Test auc:', score[1])\n",
        "\n",
        "fig,ax = plt.subplots(1,1)\n",
        "ax.set_xlabel('epoch') ; ax.set_ylabel('Categorical Crossentropy Loss')\n",
        "\n",
        "# list of epoch numbers\n",
        "x = list(range(1,epochs+1))\n",
        "\n",
        "vy = history.history['val_loss']\n",
        "ty = history.history['loss']\n",
        "plt_dynamic(x, vy, ty, ax)"
      ],
      "execution_count": null,
      "outputs": [
        {
          "output_type": "display_data",
          "data": {
            "image/png": "[encoded data removed]",
            "text/plain": [
              "<Figure size 432x288 with 1 Axes>"
            ]
          },
          "metadata": {
            "tags": []
          }
        }
      ]
    },
    {
      "cell_type": "code",
      "metadata": {
        "id": "y1suk94fJoRZ",
        "colab": {
          "base_uri": "https://localhost:8080/",
          "height": 300
        },
        "outputId": "f9e0bbf2-6072-475e-8887-59c483d698dd"
      },
      "source": [
        "'''score = model.evaluate(X_test, y_test) \n",
        "\"print('Test score:', score[0]) \n",
        "\"print('Test accuracy:', score[1])\n",
        "\"print('Test auc:', score[2])'''\n",
        "y_pred = model.predict_proba(X_test)\n",
        "print ('auc {0}'.format(roc_auc_score(y_test, y_pred)))\n",
        "fig,ax = plt.subplots(1,1)\n",
        "ax.set_xlabel('epoch') ; ax.set_ylabel('Categorical Crossentropy Loss')\n",
        "\n",
        "# list of epoch numbers\n",
        "x = list(range(1,epochs+1))\n",
        "\n",
        "vy = history.history['val_aucroc']\n",
        "ty = history.history['loss']\n",
        "plt_dynamic(x, vy, ty, ax)"
      ],
      "execution_count": null,
      "outputs": [
        {
          "output_type": "stream",
          "text": [
            "auc 0.8957787947327895\n"
          ],
          "name": "stdout"
        },
        {
          "output_type": "display_data",
          "data": {
            "image/png": "[encoded data removed]",
            "text/plain": [
              "<Figure size 432x288 with 1 Axes>"
            ]
          },
          "metadata": {
            "tags": []
          }
        }
      ]
    },
    {
      "cell_type": "code",
      "metadata": {
        "id": "9ZBxzJrz2D2N",
        "colab": {
          "base_uri": "https://localhost:8080/",
          "height": 666
        },
        "outputId": "109dd6b1-21a6-413e-8903-9f8189910a6b"
      },
      "source": [
        "# create the model\n",
        "from keras.layers.normalization import BatchNormalization\n",
        "from keras.layers import Dropout\n",
        "from sklearn.utils import class_weight\n",
        "import keras.backend as K\n",
        "import tensorflow as tf\n",
        "from keras.callbacks import Callback\n",
        "from keras.callbacks import ModelCheckpoint\n",
        "from sklearn.metrics import roc_auc_score\n",
        "\n",
        "class_weight = class_weight.compute_class_weight('balanced'\n",
        "                                               ,np.unique(y_train)\n",
        "                                               ,y_train)\n",
        "\n",
        "'''def aucroc(y_true, y_pred):\n",
        "    return tf.py_func(roc_auc_score, (y_true, y_pred), tf.double)'''\n",
        "def auc(y_true, y_pred):\n",
        "    auc = tf.metrics.auc(y_true, y_pred)[1]\n",
        "    K.get_session().run(tf.local_variables_initializer())\n",
        "    return auc\n",
        "\n",
        "#best_model = ModelCheckpoint('best_model.h5', monitor='val_auc', mode='max', verbose=0, save_best_only=True)\n",
        "num_words = 4000\n",
        "vecor_dim = 64\n",
        "epochs=10\n",
        "batch_size=128\n",
        "\n",
        "# create the model\n",
        "model = Sequential()\n",
        "model.add(Embedding(4000,32, input_length=max_length))\n",
        "model.add(LSTM(100))\n",
        "model.add(Dropout(1-0.8))\n",
        "model.add(Dense(1, activation='sigmoid'))\n",
        "model.compile(loss='binary_crossentropy', optimizer='adam', metrics=['accuracy',auc])\n",
        "print(model.summary())\n",
        "#Refer: https://datascience.stackexchange.com/questions/10615/number-of-parameters-in-an-lstm-modelmodel.save('my_model.h5')\n",
        "history = model.fit(X_train, y_train, batch_size=batch_size, epochs=epochs, verbose=1, validation_data=(X_test, y_test),class_weight=class_weight)\n",
        "#Refer: https://datascience.stackexchange.com/questions/10615/number-of-parameters-in-an-lstm-model"
      ],
      "execution_count": null,
      "outputs": [
        {
          "output_type": "stream",
          "text": [
            "_________________________________________________________________\n",
            "Layer (type)                 Output Shape              Param #   \n",
            "=================================================================\n",
            "embedding_6 (Embedding)      (None, 800, 32)           128000    \n",
            "_________________________________________________________________\n",
            "lstm_10 (LSTM)               (None, 100)               53200     \n",
            "_________________________________________________________________\n",
            "dropout_10 (Dropout)         (None, 100)               0         \n",
            "_________________________________________________________________\n",
            "dense_8 (Dense)              (None, 1)                 101       \n",
            "=================================================================\n",
            "Total params: 181,301\n",
            "Trainable params: 181,301\n",
            "Non-trainable params: 0\n",
            "_________________________________________________________________\n",
            "None\n",
            "Train on 35000 samples, validate on 15000 samples\n",
            "Epoch 1/10\n",
            "35000/35000 [==============================] - 516s 15ms/step - loss: 0.2921 - acc: 0.8967 - auc: 0.6481 - val_loss: 0.2082 - val_acc: 0.9219 - val_auc: 0.8162\n",
            "Epoch 2/10\n",
            "35000/35000 [==============================] - 533s 15ms/step - loss: 0.1688 - acc: 0.9365 - auc: 0.8663 - val_loss: 0.1866 - val_acc: 0.9314 - val_auc: 0.8903\n",
            "Epoch 3/10\n",
            "35000/35000 [==============================] - 532s 15ms/step - loss: 0.1465 - acc: 0.9467 - auc: 0.9046 - val_loss: 0.1838 - val_acc: 0.9288 - val_auc: 0.9137\n",
            "Epoch 4/10\n",
            "35000/35000 [==============================] - 530s 15ms/step - loss: 0.1354 - acc: 0.9510 - auc: 0.9203 - val_loss: 0.1913 - val_acc: 0.9299 - val_auc: 0.9249\n",
            "Epoch 5/10\n",
            "35000/35000 [==============================] - 532s 15ms/step - loss: 0.1205 - acc: 0.9571 - auc: 0.9297 - val_loss: 0.1921 - val_acc: 0.9287 - val_auc: 0.9327\n",
            "Epoch 6/10\n",
            "35000/35000 [==============================] - 533s 15ms/step - loss: 0.1115 - acc: 0.9611 - auc: 0.9357 - val_loss: 0.2042 - val_acc: 0.9265 - val_auc: 0.9379\n",
            "Epoch 7/10\n",
            "35000/35000 [==============================] - 528s 15ms/step - loss: 0.1039 - acc: 0.9632 - auc: 0.9402 - val_loss: 0.2255 - val_acc: 0.9197 - val_auc: 0.9419\n",
            "Epoch 8/10\n",
            "35000/35000 [==============================] - 531s 15ms/step - loss: 0.0927 - acc: 0.9684 - auc: 0.9440 - val_loss: 0.2051 - val_acc: 0.9253 - val_auc: 0.9453\n",
            "Epoch 9/10\n",
            "35000/35000 [==============================] - 533s 15ms/step - loss: 0.0879 - acc: 0.9700 - auc: 0.9468 - val_loss: 0.2276 - val_acc: 0.9267 - val_auc: 0.9477\n",
            "Epoch 10/10\n",
            "35000/35000 [==============================] - 532s 15ms/step - loss: 0.0792 - acc: 0.9732 - auc: 0.9488 - val_loss: 0.2384 - val_acc: 0.9256 - val_auc: 0.9495\n"
          ],
          "name": "stdout"
        }
      ]
    },
    {
      "cell_type": "code",
      "metadata": {
        "id": "fV_9vFZSiNUE",
        "colab": {
          "base_uri": "https://localhost:8080/",
          "height": 283
        },
        "outputId": "3fb25d60-5aad-4fcf-cdfe-8729088026c0"
      },
      "source": [
        "#score = model.evaluate(X_test, y_test) \n",
        "#print('Test score:', score[0]) \n",
        "#print('Test accuracy:', score[1])\n",
        "#print('Test auc:', score[1])\n",
        "\n",
        "fig,ax = plt.subplots(1,1)\n",
        "ax.set_xlabel('epoch') ; ax.set_ylabel('Categorical Crossentropy Loss')\n",
        "\n",
        "# list of epoch numbers\n",
        "x = list(range(1,epochs+1))\n",
        "\n",
        "vy = history.history['val_loss']\n",
        "ty = history.history['loss']\n",
        "plt_dynamic(x, vy, ty, ax)"
      ],
      "execution_count": null,
      "outputs": [
        {
          "output_type": "display_data",
          "data": {
            "image/png": "[encoded data removed]",
            "text/plain": [
              "<Figure size 432x288 with 1 Axes>"
            ]
          },
          "metadata": {
            "tags": []
          }
        }
      ]
    },
    {
      "cell_type": "code",
      "metadata": {
        "id": "XrO8_FHHiQ0K",
        "colab": {
          "base_uri": "https://localhost:8080/",
          "height": 351
        },
        "outputId": "8b29302f-15d8-4f65-dbee-31dd83806499"
      },
      "source": [
        "score = model.evaluate(X_test, y_test) \n",
        "print('Test score:', score[0]) \n",
        "print('Test accuracy:', score[1])\n",
        "print('Test auc:', score[2])\n",
        "#y_pred = model.predict_proba(X_test)\n",
        "#print ('auc {0}'.format(roc_auc_score(y_test, y_pred)))\n",
        "fig,ax = plt.subplots(1,1)\n",
        "ax.set_xlabel('epoch') ; ax.set_ylabel('Categorical Crossentropy Loss')\n",
        "\n",
        "# list of epoch numbers\n",
        "x = list(range(1,epochs+1))\n",
        "\n",
        "vy = history.history['val_auc']\n",
        "ty = history.history['loss']\n",
        "plt_dynamic(x, vy, ty, ax)"
      ],
      "execution_count": null,
      "outputs": [
        {
          "output_type": "stream",
          "text": [
            "15000/15000 [==============================] - 64s 4ms/step\n",
            "Test score: 0.23844848267336685\n",
            "Test accuracy: 0.9256\n",
            "Test auc: 0.9476831339200338\n"
          ],
          "name": "stdout"
        },
        {
          "output_type": "display_data",
          "data": {
            "image/png": "[encoded data removed]",
            "text/plain": [
              "<Figure size 432x288 with 1 Axes>"
            ]
          },
          "metadata": {
            "tags": []
          }
        }
      ]
    },
    {
      "cell_type": "code",
      "metadata": {
        "id": "pFFG8oorifVh",
        "colab": {
          "base_uri": "https://localhost:8080/",
          "height": 394
        },
        "outputId": "08d7c3b1-5d11-4ec7-e755-7db9d9537d65"
      },
      "source": [
        "from sklearn.utils import class_weight\n",
        "import keras.backend as K\n",
        "\n",
        "class_weight = class_weight.compute_class_weight('balanced'\n",
        "                                               ,np.unique(y_train)\n",
        "                                               ,y_train)\n",
        "\n",
        "#def auroc(y_true, y_pred):\n",
        "    #return tf.py_func(roc_auc_score, (y_true, y_pred), tf.double)\n",
        "def auc(y_true, y_pred):\n",
        "    auc = tf.metrics.auc(y_true, y_pred)[1]\n",
        "    K.get_session().run(tf.local_variables_initializer())\n",
        "    return auc\n",
        "\n",
        "num_words = 4000\n",
        "vecor_dim = 32\n",
        "batch_size = 128\n",
        "epochs = 10\n",
        "# create the model\n",
        "model = Sequential()\n",
        "model.add(Embedding(4000,32, input_length=max_length))\n",
        "model.add(LSTM(100,return_sequences=True))\n",
        "model.add(Dropout(1-0.8))\n",
        "model.add(LSTM(50))\n",
        "model.add(Dropout(1-0.8))\n",
        "#model.add(BatchNormalization())\n",
        "model.add(Dense(100, activation='relu',kernel_initializer='he_normal'))\n",
        "model.add(Dropout(1-0.8))\n",
        "model.add(BatchNormalization())\n",
        "model.add(Dense(1, activation='sigmoid'))\n",
        "model.compile(loss='binary_crossentropy', optimizer='adam', metrics=['accuracy',auc])\n",
        "#print(model.summary())\n",
        "history = model.fit(X_train, y_train, batch_size=batch_size, epochs=epochs, verbose=1, validation_data=(X_test, y_test),class_weight=class_weight)"
      ],
      "execution_count": null,
      "outputs": [
        {
          "output_type": "stream",
          "text": [
            "Train on 35000 samples, validate on 15000 samples\n",
            "Epoch 1/10\n",
            "35000/35000 [==============================] - 943s 27ms/step - loss: 0.3139 - acc: 0.8828 - auc: 0.7370 - val_loss: 0.1939 - val_acc: 0.9254 - val_auc: 0.8328\n",
            "Epoch 2/10\n",
            "35000/35000 [==============================] - 954s 27ms/step - loss: 0.1771 - acc: 0.9335 - auc: 0.8720 - val_loss: 0.2002 - val_acc: 0.9244 - val_auc: 0.8899\n",
            "Epoch 3/10\n",
            "35000/35000 [==============================] - 956s 27ms/step - loss: 0.1426 - acc: 0.9479 - auc: 0.9045 - val_loss: 0.2022 - val_acc: 0.9253 - val_auc: 0.9128\n",
            "Epoch 4/10\n",
            "35000/35000 [==============================] - 953s 27ms/step - loss: 0.1147 - acc: 0.9593 - auc: 0.9207 - val_loss: 0.2440 - val_acc: 0.9285 - val_auc: 0.9247\n",
            "Epoch 5/10\n",
            "35000/35000 [==============================] - 951s 27ms/step - loss: 0.0957 - acc: 0.9672 - auc: 0.9292 - val_loss: 0.2436 - val_acc: 0.9252 - val_auc: 0.9318\n",
            "Epoch 6/10\n",
            "35000/35000 [==============================] - 949s 27ms/step - loss: 0.0790 - acc: 0.9734 - auc: 0.9351 - val_loss: 0.2451 - val_acc: 0.9212 - val_auc: 0.9381\n",
            "Epoch 7/10\n",
            "35000/35000 [==============================] - 952s 27ms/step - loss: 0.0625 - acc: 0.9787 - auc: 0.9415 - val_loss: 0.3572 - val_acc: 0.9075 - val_auc: 0.9434\n",
            "Epoch 8/10\n",
            "35000/35000 [==============================] - 949s 27ms/step - loss: 0.0551 - acc: 0.9809 - auc: 0.9456 - val_loss: 0.3053 - val_acc: 0.9213 - val_auc: 0.9469\n",
            "Epoch 9/10\n",
            "35000/35000 [==============================] - 950s 27ms/step - loss: 0.0449 - acc: 0.9853 - auc: 0.9484 - val_loss: 0.3410 - val_acc: 0.9201 - val_auc: 0.9492\n",
            "Epoch 10/10\n",
            "35000/35000 [==============================] - 953s 27ms/step - loss: 0.0366 - acc: 0.9881 - auc: 0.9502 - val_loss: 0.3448 - val_acc: 0.9232 - val_auc: 0.9507\n"
          ],
          "name": "stdout"
        }
      ]
    },
    {
      "cell_type": "code",
      "metadata": {
        "id": "0Y4amxl5Nl2p",
        "colab": {
          "base_uri": "https://localhost:8080/",
          "height": 283
        },
        "outputId": "4cf85a15-a1ea-416c-de4f-13d531fef498"
      },
      "source": [
        "#score = model.evaluate(X_test, y_test) \n",
        "#print('Test score:', score[0]) \n",
        "#print('Test accuracy:', score[1])\n",
        "#print('Test auc:', score[1])\n",
        "\n",
        "fig,ax = plt.subplots(1,1)\n",
        "ax.set_xlabel('epoch') ; ax.set_ylabel('Categorical Crossentropy Loss')\n",
        "\n",
        "# list of epoch numbers\n",
        "x = list(range(1,epochs+1))\n",
        "\n",
        "vy = history.history['val_loss']\n",
        "ty = history.history['loss']\n",
        "plt_dynamic(x, vy, ty, ax)"
      ],
      "execution_count": null,
      "outputs": [
        {
          "output_type": "display_data",
          "data": {
            "image/png": "[encoded data removed]",
            "text/plain": [
              "<Figure size 432x288 with 1 Axes>"
            ]
          },
          "metadata": {
            "tags": []
          }
        }
      ]
    },
    {
      "cell_type": "code",
      "metadata": {
        "id": "0tDwHP4TNn9n",
        "colab": {
          "base_uri": "https://localhost:8080/",
          "height": 351
        },
        "outputId": "c3b1007b-31e9-4982-d47b-9194d61e29eb"
      },
      "source": [
        "score = model.evaluate(X_test, y_test) \n",
        "print('Test score:', score[0]) \n",
        "print('Test accuracy:', score[1])\n",
        "print('Test auc:', score[2])\n",
        "#y_pred = model.predict_proba(X_test)\n",
        "#print ('auc {0}'.format(roc_auc_score(y_test, y_pred)))\n",
        "fig,ax = plt.subplots(1,1)\n",
        "ax.set_xlabel('epoch') ; ax.set_ylabel('AUC')\n",
        "\n",
        "# list of epoch numbers\n",
        "x = list(range(1,epochs+1))\n",
        "\n",
        "vy = history.history['val_auc']\n",
        "ty = history.history['loss']\n",
        "plt_dynamic(x, vy, ty, ax)"
      ],
      "execution_count": null,
      "outputs": [
        {
          "output_type": "stream",
          "text": [
            "15000/15000 [==============================] - 115s 8ms/step\n",
            "Test score: 0.34476587611536186\n",
            "Test accuracy: 0.9231999999682109\n",
            "Test auc: 0.9473308059374491\n"
          ],
          "name": "stdout"
        },
        {
          "output_type": "display_data",
          "data": {
            "image/png": "[encoded data removed]",
            "text/plain": [
              "<Figure size 432x288 with 1 Axes>"
            ]
          },
          "metadata": {
            "tags": []
          }
        }
      ]
    }
  ]
}
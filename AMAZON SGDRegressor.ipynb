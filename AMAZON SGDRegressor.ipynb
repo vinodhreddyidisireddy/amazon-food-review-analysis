{
 "cells": [
  {
   "cell_type": "code",
   "execution_count": 1,
   "metadata": {},
   "outputs": [],
   "source": [
    "from sklearn.datasets import load_boston\n",
    "boston = load_boston()"
   ]
  },
  {
   "cell_type": "code",
   "execution_count": 2,
   "metadata": {},
   "outputs": [
    {
     "name": "stdout",
     "output_type": "stream",
     "text": [
      "(506, 13)\n"
     ]
    }
   ],
   "source": [
    "print(boston.data.shape)"
   ]
  },
  {
   "cell_type": "code",
   "execution_count": 3,
   "metadata": {
    "scrolled": true
   },
   "outputs": [
    {
     "name": "stdout",
     "output_type": "stream",
     "text": [
      "['CRIM' 'ZN' 'INDUS' 'CHAS' 'NOX' 'RM' 'AGE' 'DIS' 'RAD' 'TAX' 'PTRATIO'\n",
      " 'B' 'LSTAT']\n"
     ]
    }
   ],
   "source": [
    "print(boston.feature_names)"
   ]
  },
  {
   "cell_type": "code",
   "execution_count": 4,
   "metadata": {},
   "outputs": [],
   "source": [
    "#print(boston.target)"
   ]
  },
  {
   "cell_type": "code",
   "execution_count": 5,
   "metadata": {},
   "outputs": [],
   "source": [
    "#print(boston.DESCR)"
   ]
  },
  {
   "cell_type": "code",
   "execution_count": 6,
   "metadata": {},
   "outputs": [
    {
     "name": "stdout",
     "output_type": "stream",
     "text": [
      "        0     1     2    3      4      5     6       7    8      9     10  \\\n",
      "0  0.00632  18.0  2.31  0.0  0.538  6.575  65.2  4.0900  1.0  296.0  15.3   \n",
      "1  0.02731   0.0  7.07  0.0  0.469  6.421  78.9  4.9671  2.0  242.0  17.8   \n",
      "2  0.02729   0.0  7.07  0.0  0.469  7.185  61.1  4.9671  2.0  242.0  17.8   \n",
      "3  0.03237   0.0  2.18  0.0  0.458  6.998  45.8  6.0622  3.0  222.0  18.7   \n",
      "4  0.06905   0.0  2.18  0.0  0.458  7.147  54.2  6.0622  3.0  222.0  18.7   \n",
      "\n",
      "       11    12  \n",
      "0  396.90  4.98  \n",
      "1  396.90  9.14  \n",
      "2  392.83  4.03  \n",
      "3  394.63  2.94  \n",
      "4  396.90  5.33  \n"
     ]
    }
   ],
   "source": [
    "import pandas as pd\n",
    "bos = pd.DataFrame(boston.data)\n",
    "print(bos.head())"
   ]
  },
  {
   "cell_type": "code",
   "execution_count": 7,
   "metadata": {},
   "outputs": [],
   "source": [
    "bos['PRICE'] = boston.target\n",
    "\n",
    "X = bos.drop('PRICE', axis = 1)\n",
    "Y = bos['PRICE']"
   ]
  },
  {
   "cell_type": "code",
   "execution_count": 8,
   "metadata": {},
   "outputs": [
    {
     "data": {
      "text/plain": [
       "0"
      ]
     },
     "execution_count": 8,
     "metadata": {},
     "output_type": "execute_result"
    }
   ],
   "source": [
    "X.duplicated().sum()"
   ]
  },
  {
   "cell_type": "code",
   "execution_count": 10,
   "metadata": {},
   "outputs": [
    {
     "data": {
      "text/plain": [
       "False"
      ]
     },
     "execution_count": 10,
     "metadata": {},
     "output_type": "execute_result"
    }
   ],
   "source": [
    "import numpy as np\n",
    "np.any(np.isnan(X))"
   ]
  },
  {
   "cell_type": "markdown",
   "metadata": {},
   "source": [
    "# Spliitting and standardizing data"
   ]
  },
  {
   "cell_type": "code",
   "execution_count": 11,
   "metadata": {},
   "outputs": [
    {
     "name": "stdout",
     "output_type": "stream",
     "text": [
      "(339, 13)\n",
      "(167, 13)\n",
      "(339,)\n",
      "(167,)\n"
     ]
    }
   ],
   "source": [
    "from sklearn.model_selection import train_test_split\n",
    "X_train, X_test, Y_train, Y_test = train_test_split(X, Y, test_size = 0.33, random_state = 5)\n",
    "print(X_train.shape)\n",
    "print(X_test.shape)\n",
    "print(Y_train.shape)\n",
    "print(Y_test.shape)"
   ]
  },
  {
   "cell_type": "code",
   "execution_count": 12,
   "metadata": {},
   "outputs": [],
   "source": [
    "from sklearn.preprocessing import StandardScaler\n",
    "standardization= StandardScaler()\n",
    "X_train = standardization.fit_transform(X_train)"
   ]
  },
  {
   "cell_type": "markdown",
   "metadata": {},
   "source": [
    "# Gradient Descent code\n",
    "In the sixth line i concatenated ones of size equal to number of rows in train data,\n",
    "  W = b0+w1*x1+w2*x2+w3*x3....\n",
    "         is same as\n",
    "  W = b0*x0+w1*x1+w2*x2+w3*x3....  (where x0=1)\n",
    "  so i added a feature at the end of train data with all ones which is x0. and W[-1:0] (which is last term of weight vector is my b0 )"
   ]
  },
  {
   "cell_type": "code",
   "execution_count": 27,
   "metadata": {},
   "outputs": [],
   "source": [
    "import numpy as np\n",
    "def GD(X_train,Y_train,alpha=0.001,num_of_iter=100,fit_intercept=False,penalty = 'l2',\n",
    "       lamb=0.05,change_alpha=False,tol=0.001):\n",
    "    num_of_col = X_train.shape[1]\n",
    "    num_of_rows = X_train.shape[0]\n",
    "    if (fit_intercept==True):\n",
    "        W = np.random.normal(loc=0.1,scale=0.001,size=num_of_col+1)\n",
    "        x = np.ones((num_of_rows,1))\n",
    "        X_train = np.concatenate((X_train,x),axis=1)\n",
    "    else:\n",
    "         W = np.random.normal(size=X.shape[1])\n",
    "    \n",
    "    #W = W/(sum(W**2)**0.5)    \n",
    "    W_hat = W\n",
    "    W_new = W\n",
    "    for i in range(1,num_of_iter,1):\n",
    "        W_old = W_new\n",
    "        #print (W_old)\n",
    "        error = Y_train - np.dot(W_old,X_train.T)\n",
    "        gradient = -(2/num_of_rows)*np.dot(X_train.T,error)\n",
    "        regularization = 0\n",
    "        if (penalty == 'l2'):\n",
    "            regularization = 2*W_old\n",
    "        elif (penalty == 'l1') :\n",
    "            regularization = 1\n",
    "        W_new = W_old - alpha*(gradient+lamb * regularization)\n",
    "        #print (W_new)\n",
    "        W_hat = W_new\n",
    "        if (change_alpha==True):\n",
    "            alpha=alpha/2\n",
    "        k = W_new - W_old\n",
    "        k =abs (k)       \n",
    "        #print (k)\n",
    "        if (sum(k)/len(k)==tol):\n",
    "            #print (alpha)\n",
    "            #print (i)\n",
    "            W_hat = W_old\n",
    "            break\n",
    "     \n",
    "    return (W_hat)\n",
    "\n",
    "    "
   ]
  },
  {
   "cell_type": "code",
   "execution_count": 28,
   "metadata": {},
   "outputs": [],
   "source": [
    "W_hat = GD(X_train,Y_train,penalty='l2',alpha = 0.05,num_of_iter=5000,lamb=0.01,fit_intercept=True,change_alpha=False)"
   ]
  },
  {
   "cell_type": "code",
   "execution_count": 29,
   "metadata": {},
   "outputs": [
    {
     "data": {
      "text/plain": [
       "array([-1.26681059,  0.807998  , -0.25736564,  0.20527258, -1.38856047,\n",
       "        2.8148151 , -0.34586958, -2.67124956,  2.578236  , -1.91130961,\n",
       "       -2.10081408,  1.0380248 , -3.28815899, 22.31402786])"
      ]
     },
     "execution_count": 29,
     "metadata": {},
     "output_type": "execute_result"
    }
   ],
   "source": [
    "W_hat"
   ]
  },
  {
   "cell_type": "code",
   "execution_count": 30,
   "metadata": {},
   "outputs": [],
   "source": [
    "col = X_train.shape[1]\n",
    "predictions = np.dot(standardization.transform(X_test),W_hat[0:-1])+W_hat[-1:]"
   ]
  },
  {
   "cell_type": "code",
   "execution_count": 31,
   "metadata": {},
   "outputs": [
    {
     "data": {
      "text/plain": [
       "(167,)"
      ]
     },
     "execution_count": 31,
     "metadata": {},
     "output_type": "execute_result"
    }
   ],
   "source": [
    "predictions.shape"
   ]
  },
  {
   "cell_type": "code",
   "execution_count": 32,
   "metadata": {},
   "outputs": [],
   "source": [
    "error = predictions - Y_test"
   ]
  },
  {
   "cell_type": "code",
   "execution_count": 33,
   "metadata": {},
   "outputs": [
    {
     "data": {
      "image/png": "[encoded data removed]",
      "text/plain": [
       "<Figure size 432x288 with 1 Axes>"
      ]
     },
     "metadata": {},
     "output_type": "display_data"
    }
   ],
   "source": [
    "import matplotlib.pyplot as plt\n",
    "plt.scatter(Y_test,predictions)\n",
    "plt.show()"
   ]
  },
  {
   "cell_type": "markdown",
   "metadata": {},
   "source": [
    "# SGDRegressor"
   ]
  },
  {
   "cell_type": "code",
   "execution_count": 34,
   "metadata": {},
   "outputs": [
    {
     "data": {
      "text/plain": [
       "SGDRegressor(alpha=0.05, average=False, epsilon=0.1, eta0=0.01,\n",
       "       fit_intercept=True, l1_ratio=0.15, learning_rate='constant',\n",
       "       loss='squared_loss', max_iter=5000, n_iter=None, penalty='l2',\n",
       "       power_t=0.25, random_state=None, shuffle=True, tol=0.001, verbose=0,\n",
       "       warm_start=False)"
      ]
     },
     "execution_count": 34,
     "metadata": {},
     "output_type": "execute_result"
    }
   ],
   "source": [
    "from sklearn.linear_model import SGDRegressor\n",
    "clf=SGDRegressor(alpha=0.05,max_iter=5000,penalty='l2',learning_rate='constant',tol=0.001)\n",
    "clf.fit(X_train,Y_train)"
   ]
  },
  {
   "cell_type": "code",
   "execution_count": 35,
   "metadata": {},
   "outputs": [],
   "source": [
    "predictions1 = clf.predict(standardization.transform(X_test))"
   ]
  },
  {
   "cell_type": "code",
   "execution_count": 36,
   "metadata": {},
   "outputs": [
    {
     "data": {
      "image/png": "[encoded data removed]",
      "text/plain": [
       "<Figure size 432x288 with 1 Axes>"
      ]
     },
     "metadata": {},
     "output_type": "display_data"
    }
   ],
   "source": [
    "plt.scatter(Y_test,predictions1)\n",
    "plt.show()"
   ]
  },
  {
   "cell_type": "markdown",
   "metadata": {},
   "source": [
    "# Weights Comparison"
   ]
  },
  {
   "cell_type": "code",
   "execution_count": 37,
   "metadata": {},
   "outputs": [
    {
     "name": "stdout",
     "output_type": "stream",
     "text": [
      "\tgradient descent\t\t\tSGD regressor\n",
      "----------------------------------------------------------------------------------------------------\n",
      "\t[-1.26681059]\t\t\t\t[-0.95598885]\n",
      "\t[0.807998]\t\t\t\t[0.91266346]\n",
      "\t[-0.25736564]\t\t\t\t[-0.37134864]\n",
      "\t[0.20527258]\t\t\t\t[1.05669396]\n",
      "\t[-1.38856047]\t\t\t\t[-1.15997815]\n",
      "\t[2.8148151]\t\t\t\t[2.37457691]\n",
      "\t[-0.34586958]\t\t\t\t[-0.50317638]\n",
      "\t[-2.67124956]\t\t\t\t[-2.09729828]\n",
      "\t[2.578236]\t\t\t\t[1.59884316]\n",
      "\t[-1.91130961]\t\t\t\t[-0.75138357]\n",
      "\t[-2.10081408]\t\t\t\t[-1.71556694]\n",
      "\t[1.0380248]\t\t\t\t[0.83954643]\n",
      "\t[-3.28815899]\t\t\t\t[-3.23034314]\n",
      "\tintercept\n",
      "\t[22.31402786]\t\t\t\t[22.34519262]\n"
     ]
    }
   ],
   "source": [
    "print ('\\tgradient descent\\t\\t\\tSGD regressor')\n",
    "print ('-'*100)\n",
    "for i in range(13):\n",
    "    print ('\\t{0}\\t\\t\\t\\t{1}'.format(W_hat[i:i+1],clf.coef_[i:i+1]))\n",
    "print ('\\tintercept')\n",
    "print ('\\t{0}\\t\\t\\t\\t{1}'.format(W_hat[13:14],clf.intercept_))"
   ]
  },
  {
   "cell_type": "markdown",
   "metadata": {},
   "source": [
    "# Mean Square Error"
   ]
  },
  {
   "cell_type": "code",
   "execution_count": 38,
   "metadata": {},
   "outputs": [
    {
     "name": "stdout",
     "output_type": "stream",
     "text": [
      "mean squared error of gradient descent = 28.890517247630147\n"
     ]
    }
   ],
   "source": [
    "#import sklearn.metrics.mean_squared_error as MSE\n",
    "from sklearn.metrics import mean_squared_error \n",
    "mse = mean_squared_error(Y_test,predictions)\n",
    "print ('mean squared error of gradient descent = {}'.format(mse))"
   ]
  },
  {
   "cell_type": "code",
   "execution_count": 39,
   "metadata": {},
   "outputs": [
    {
     "name": "stdout",
     "output_type": "stream",
     "text": [
      "mean squared error of SGD regressor = 27.395627127847074\n"
     ]
    }
   ],
   "source": [
    "#import sklearn.metrics.mean_squared_error as MSE\n",
    "from sklearn.metrics import mean_squared_error \n",
    "mse = mean_squared_error(Y_test,predictions1)\n",
    "print ('mean squared error of SGD regressor = {}'.format(mse))"
   ]
  }
 ],
 "metadata": {
  "kernelspec": {
   "display_name": "Python 3",
   "language": "python",
   "name": "python3"
  },
  "language_info": {
   "codemirror_mode": {
    "name": "ipython",
    "version": 3
   },
   "file_extension": ".py",
   "mimetype": "text/x-python",
   "name": "python",
   "nbconvert_exporter": "python",
   "pygments_lexer": "ipython3",
   "version": "3.5.5"
  }
 },
 "nbformat": 4,
 "nbformat_minor": 2
}

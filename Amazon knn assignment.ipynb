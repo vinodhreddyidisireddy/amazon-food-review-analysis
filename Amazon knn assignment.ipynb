{
 "cells": [
  {
   "cell_type": "code",
   "execution_count": 1,
   "metadata": {
    "colab": {},
    "colab_type": "code",
    "id": "Ld2KAQamrdWd"
   },
   "outputs": [],
   "source": [
    "import sqlite3\n",
    "import pandas as pd\n",
    "import numpy as np\n",
    "import nltk\n",
    "import string\n",
    "import matplotlib.pyplot as plt\n",
    "import seaborn as sns\n",
    "from sklearn.feature_extraction.text import TfidfTransformer\n",
    "from sklearn.feature_extraction.text import TfidfVectorizer\n",
    "\n",
    "from sklearn.feature_extraction.text import CountVectorizer\n",
    "from sklearn.metrics import confusion_matrix\n",
    "from sklearn import metrics\n",
    "from sklearn.metrics import roc_curve, auc\n",
    "\n",
    "# Tutorial about Python regular expressions: https://pymotw.com/2/re/\n",
    "import re\n",
    "import string\n",
    "from nltk.corpus import stopwords            #importing stopwords \n",
    "from nltk.stem import SnowballStemmer\n",
    "from nltk.stem.wordnet import WordNetLemmatizer\n",
    "\n",
    "from sklearn.model_selection import train_test_split\n",
    "from collections import Counter\n",
    "from sklearn.metrics import accuracy_score\n",
    "from sklearn.neighbors import KNeighborsClassifier\n",
    "from sklearn.preprocessing import StandardScaler\n",
    "from sklearn.model_selection import GridSearchCV\n",
    "\n",
    "from sklearn.metrics import confusion_matrix\n",
    "from sklearn.metrics import f1_score\n",
    "from sklearn.metrics import precision_score\n",
    "from sklearn.metrics import recall_score\n",
    "import math\n",
    "import pickle\n",
    "\n"
   ]
  },
  {
   "cell_type": "code",
   "execution_count": 0,
   "metadata": {
    "colab": {},
    "colab_type": "code",
    "id": "ASMcy-91kOKr",
    "outputId": "f784b9d4-d30c-420c-87dd-3ecaf92e48f1"
   },
   "outputs": [
    {
     "name": "stdout",
     "output_type": "stream",
     "text": [
      "   Id   ProductId          UserId ProfileName  HelpfulnessNumerator  \\\n",
      "0   1  B001E4KFG0  A3SGXH7AUHU8GW  delmartian                     1   \n",
      "1   2  B00813GRG4  A1D87F6ZCVE5NK      dll pa                     0   \n",
      "\n",
      "   HelpfulnessDenominator  Score        Time                Summary  \\\n",
      "0                       1      5  1303862400  Good Quality Dog Food   \n",
      "1                       0      1  1346976000      Not as Advertised   \n",
      "\n",
      "                                                Text  \n",
      "0  I have bought several of the Vitality canned d...  \n",
      "1  Product arrived labeled as Jumbo Salted Peanut...  \n",
      "(568454, 10)\n"
     ]
    }
   ],
   "source": [
    "\n",
    "data = pd.read_csv('Reviews.csv')\n",
    "print (data.head(2))\n",
    "print(data.shape)"
   ]
  },
  {
   "cell_type": "markdown",
   "metadata": {
    "colab_type": "text",
    "id": "LGrvVng2kOLP"
   },
   "source": [
    "# #Data PreProcessing"
   ]
  },
  {
   "cell_type": "code",
   "execution_count": 0,
   "metadata": {
    "colab": {},
    "colab_type": "code",
    "id": "maaVe3IlkOLS",
    "outputId": "62cfb3f4-5cfe-42eb-eeb1-be96938c213a"
   },
   "outputs": [
    {
     "data": {
      "text/plain": [
       "Id                        False\n",
       "ProductId                 False\n",
       "UserId                    False\n",
       "ProfileName                True\n",
       "HelpfulnessNumerator      False\n",
       "HelpfulnessDenominator    False\n",
       "Score                     False\n",
       "Time                      False\n",
       "Summary                    True\n",
       "Text                      False\n",
       "dtype: bool"
      ]
     },
     "execution_count": 2,
     "metadata": {
      "tags": []
     },
     "output_type": "execute_result"
    }
   ],
   "source": [
    "#checking for Nan values in data. True indicates Nan values are present along the columns\n",
    "data.isnull().any()"
   ]
  },
  {
   "cell_type": "code",
   "execution_count": 0,
   "metadata": {
    "colab": {},
    "colab_type": "code",
    "id": "5G_GR4hEkOLh"
   },
   "outputs": [],
   "source": [
    "# checking for Nan values along 'profilename' column\n",
    "#data[data['ProfileName'].isnull()].head(2)"
   ]
  },
  {
   "cell_type": "code",
   "execution_count": 0,
   "metadata": {
    "colab": {},
    "colab_type": "code",
    "id": "_GaBqmMhkOLr"
   },
   "outputs": [],
   "source": [
    "# checking for Nan values along 'summary' column\n",
    "#data[data['Summary'].isnull()]"
   ]
  },
  {
   "cell_type": "code",
   "execution_count": 0,
   "metadata": {
    "colab": {},
    "colab_type": "code",
    "id": "tmwrlMRSkOL1"
   },
   "outputs": [],
   "source": [
    "#Dropping Nan values\n",
    "data = data.dropna()"
   ]
  },
  {
   "cell_type": "code",
   "execution_count": 0,
   "metadata": {
    "colab": {},
    "colab_type": "code",
    "id": "5FEPHW4ikOL_",
    "outputId": "2da2f9b5-8ed5-40aa-cb35-8b45d75dae98"
   },
   "outputs": [
    {
     "name": "stdout",
     "output_type": "stream",
     "text": [
      "(568411, 10)\n"
     ]
    }
   ],
   "source": [
    "#printing shape of data after dropping Nan values\n",
    "print (data.shape)"
   ]
  },
  {
   "cell_type": "code",
   "execution_count": 0,
   "metadata": {
    "colab": {},
    "colab_type": "code",
    "id": "0ffjkawdkOMN",
    "outputId": "110ebfc3-f222-4553-801e-beb313408a0b"
   },
   "outputs": [
    {
     "data": {
      "text/plain": [
       "True"
      ]
     },
     "execution_count": 7,
     "metadata": {
      "tags": []
     },
     "output_type": "execute_result"
    }
   ],
   "source": [
    "#Review score should lie between 1 to 5\n",
    "#Returns True if all the scores lie between 1 to 5(inclusive)\n",
    "list1 = data['Score'].map(lambda x: True if x in [1,2,3,4,5] else False)\n",
    "list1.all()"
   ]
  },
  {
   "cell_type": "code",
   "execution_count": 0,
   "metadata": {
    "colab": {},
    "colab_type": "code",
    "id": "exJd6jlzkOMg",
    "outputId": "7b210a6b-3033-4e73-ff78-a08f0d9a9a9b"
   },
   "outputs": [
    {
     "name": "stdout",
     "output_type": "stream",
     "text": [
      "(525773, 10)\n"
     ]
    }
   ],
   "source": [
    "filtered_data = data.loc[data['Score']!=3].copy()\n",
    "#print (filtered_data.head())\n",
    "print (filtered_data.shape)"
   ]
  },
  {
   "cell_type": "code",
   "execution_count": 0,
   "metadata": {
    "colab": {},
    "colab_type": "code",
    "id": "lELmbtn2kOM0",
    "outputId": "08b70284-c97a-4095-e810-49d18118e557"
   },
   "outputs": [
    {
     "name": "stdout",
     "output_type": "stream",
     "text": [
      "shape of filtered_data\n",
      "(525773, 10)\n",
      "   Id   ProductId          UserId ProfileName  HelpfulnessNumerator  \\\n",
      "0   1  B001E4KFG0  A3SGXH7AUHU8GW  delmartian                     1   \n",
      "1   2  B00813GRG4  A1D87F6ZCVE5NK      dll pa                     0   \n",
      "\n",
      "   HelpfulnessDenominator     Score        Time                Summary  \\\n",
      "0                       1  positive  1303862400  Good Quality Dog Food   \n",
      "1                       0  negative  1346976000      Not as Advertised   \n",
      "\n",
      "                                                Text  \n",
      "0  I have bought several of the Vitality canned d...  \n",
      "1  Product arrived labeled as Jumbo Salted Peanut...  \n"
     ]
    }
   ],
   "source": [
    "#mapping positive(>3) and negative(<3) reviews based on scores of the data.\n",
    "pos_negative = filtered_data['Score'].map(lambda x: 'positive' if int (x) >3 else 'negative')\n",
    "filtered_data['Score'] = pos_negative\n",
    "print ('shape of filtered_data')\n",
    "print (filtered_data.shape)\n",
    "print (filtered_data.head(2))\n"
   ]
  },
  {
   "cell_type": "code",
   "execution_count": 0,
   "metadata": {
    "colab": {},
    "colab_type": "code",
    "id": "Vi6Ou8KpkONC"
   },
   "outputs": [],
   "source": [
    "#arranging data with increasing productid\n",
    "sorted_data = filtered_data.sort_values('ProductId',axis=0,ascending=True,inplace=False,kind='quicksort')"
   ]
  },
  {
   "cell_type": "code",
   "execution_count": 0,
   "metadata": {
    "colab": {},
    "colab_type": "code",
    "id": "bCHZuskykONO"
   },
   "outputs": [],
   "source": [
    "#finding the duplicates in our data\n",
    "#If the same person gives for the same product at the same time we call it as suplicates\n",
    "#sorted_data.loc[sorted_data.duplicated([\"UserId\",\"ProfileName\",\"Time\",\"Text\"],keep = False),:]"
   ]
  },
  {
   "cell_type": "code",
   "execution_count": 0,
   "metadata": {
    "colab": {},
    "colab_type": "code",
    "id": "U7EL54aFkONZ",
    "outputId": "6a20c767-a3e2-4cc7-f9fb-eb938fbc4beb"
   },
   "outputs": [
    {
     "data": {
      "text/plain": [
       "161612"
      ]
     },
     "execution_count": 12,
     "metadata": {
      "tags": []
     },
     "output_type": "execute_result"
    }
   ],
   "source": [
    "#counting number of duplicates present in our data\n",
    "sorted_data.duplicated([\"UserId\",\"ProfileName\",\"Time\",\"Text\"]).sum()"
   ]
  },
  {
   "cell_type": "code",
   "execution_count": 0,
   "metadata": {
    "colab": {},
    "colab_type": "code",
    "id": "KRmr8Hj8kONr",
    "outputId": "41f6bf3b-1e4e-4a35-e732-2752c721b2f4"
   },
   "outputs": [
    {
     "data": {
      "text/plain": [
       "(364161, 10)"
      ]
     },
     "execution_count": 13,
     "metadata": {
      "tags": []
     },
     "output_type": "execute_result"
    }
   ],
   "source": [
    "#dropping all duplicates keeping the first one\n",
    "final = sorted_data.drop_duplicates(subset={\"UserId\",\"ProfileName\",\"Time\",\"Text\"},keep='first',inplace = False)\n",
    "final.shape"
   ]
  },
  {
   "cell_type": "code",
   "execution_count": 0,
   "metadata": {
    "colab": {},
    "colab_type": "code",
    "id": "mNcKfZ98kON7"
   },
   "outputs": [],
   "source": [
    "#helpfulness numerator denotes number of people who found the review helpful\n",
    "#helpfulness denominator denotes number of people who indicated whether or not the review helpful\n",
    "#so, helpfulness numerator should be less than denominator\n",
    "final = final[final.HelpfulnessNumerator<=final.HelpfulnessDenominator]"
   ]
  },
  {
   "cell_type": "code",
   "execution_count": 0,
   "metadata": {
    "colab": {},
    "colab_type": "code",
    "id": "AGwcSA-2kOOP"
   },
   "outputs": [],
   "source": [
    "#arranging data with increasing productid\n",
    "final = final.sort_values('Time',axis=0,ascending=True,inplace=False,kind='quicksort')"
   ]
  },
  {
   "cell_type": "code",
   "execution_count": 0,
   "metadata": {
    "colab": {},
    "colab_type": "code",
    "id": "ug6KrXrYkOOZ",
    "outputId": "cc9bb2fd-bf16-445b-9839-4d06230ba2ef"
   },
   "outputs": [
    {
     "data": {
      "text/plain": [
       "(364159, 10)"
      ]
     },
     "execution_count": 16,
     "metadata": {
      "tags": []
     },
     "output_type": "execute_result"
    }
   ],
   "source": [
    "#final shape of data after preprocessing\n",
    "final.shape"
   ]
  },
  {
   "cell_type": "code",
   "execution_count": 0,
   "metadata": {
    "colab": {},
    "colab_type": "code",
    "id": "y9YcUrHhkOOs",
    "outputId": "8d8e13b4-4909-4bd5-8cb5-761a08811f43"
   },
   "outputs": [
    {
     "data": {
      "text/plain": [
       "positive    307054\n",
       "negative     57105\n",
       "Name: Score, dtype: int64"
      ]
     },
     "execution_count": 17,
     "metadata": {
      "tags": []
     },
     "output_type": "execute_result"
    }
   ],
   "source": [
    "final['Score'].value_counts()"
   ]
  },
  {
   "cell_type": "code",
   "execution_count": 0,
   "metadata": {
    "colab": {},
    "colab_type": "code",
    "id": "q_EimblRkOO-"
   },
   "outputs": [],
   "source": [
    "import pickle\n",
    "with open(\"final.pkl\", \"wb\") as f:\n",
    "    pickle.dump(final, f)"
   ]
  },
  {
   "cell_type": "code",
   "execution_count": 0,
   "metadata": {
    "colab": {},
    "colab_type": "code",
    "id": "cMUY9xF_kOPK"
   },
   "outputs": [],
   "source": [
    "with open(\"final.pkl\", \"rb\") as f:\n",
    "    final = pickle.load(f)"
   ]
  },
  {
   "cell_type": "code",
   "execution_count": 0,
   "metadata": {
    "colab": {},
    "colab_type": "code",
    "id": "Uyo3zYMukOPW"
   },
   "outputs": [],
   "source": [
    "final_data1 = final.iloc[0:30000,:].copy()"
   ]
  },
  {
   "cell_type": "code",
   "execution_count": 0,
   "metadata": {
    "colab": {},
    "colab_type": "code",
    "id": "WZHb822YkOPl",
    "outputId": "75cad684-ed46-4dcc-d8de-95af710586a0"
   },
   "outputs": [
    {
     "data": {
      "text/plain": [
       "(30000, 10)"
      ]
     },
     "execution_count": 21,
     "metadata": {
      "tags": []
     },
     "output_type": "execute_result"
    }
   ],
   "source": [
    "final_data1.shape"
   ]
  },
  {
   "cell_type": "code",
   "execution_count": 0,
   "metadata": {
    "colab": {},
    "colab_type": "code",
    "id": "mrqaDobNkOP3",
    "outputId": "ae9a0656-9cba-428e-a77f-a741c56d4051"
   },
   "outputs": [
    {
     "data": {
      "text/plain": [
       "positive    26761\n",
       "negative     3239\n",
       "Name: Score, dtype: int64"
      ]
     },
     "execution_count": 22,
     "metadata": {
      "tags": []
     },
     "output_type": "execute_result"
    }
   ],
   "source": [
    "final_data1['Score'].value_counts()"
   ]
  },
  {
   "cell_type": "code",
   "execution_count": 0,
   "metadata": {
    "colab": {},
    "colab_type": "code",
    "id": "GrzCyjHNkOQS",
    "outputId": "c5dbde31-cdce-45b3-dab7-a54a58d86ea8"
   },
   "outputs": [
    {
     "name": "stdout",
     "output_type": "stream",
     "text": [
      "[\"isn't\", \"shan't\", \"weren't\", \"mightn't\", \"wouldn't\", \"wasn't\", 'not', \"needn't\", \"haven't\", \"hasn't\", \"mustn't\", \"aren't\", \"shouldn't\", \"couldn't\", \"hadn't\", \"won't\", \"didn't\", \"don't\", \"doesn't\", \"n't\"]\n",
      "************************************\n",
      "{'after', 'he', 'ourselves', 'his', 'that', \"should've\", 're', 'yours', 'doing', 'my', 'of', 'below', 'any', 'than', 'now', 'mightn', 'hers', 'or', 'm', 'once', 'the', 'themselves', 'when', 'ours', 'were', 'under', 'your', 'we', 'itself', 'do', 'with', 'no', 'him', 'where', 'll', 'needn', 'o', 'before', \"you're\", 'had', 'y', 'she', 'was', 'ain', 'their', 'which', 'you', 'because', 'our', 'each', 'until', 'same', 'if', 'herself', 'yourselves', 'both', 'has', \"you'd\", 'is', 'on', 'wasn', 'further', 'all', 'them', \"that'll\", 'at', 'off', 'yourself', 'about', 'haven', 'own', 'above', 'so', 'couldn', 'weren', 'a', 'himself', 'in', 'during', 'to', 'me', 'they', 'too', 'been', 'for', 'what', 'from', 'then', 'theirs', 'hasn', 'be', 'again', 'are', 'doesn', 'isn', 'shouldn', 'here', 'into', 'other', 'only', 'but', 'd', 'just', 'more', 'some', 'nor', 'won', 'shan', 'don', 'ma', 'while', \"you've\", 'myself', 'between', 'and', 'an', 's', 'wouldn', 'these', 'those', 'as', 'up', 'who', 'out', 'down', 'few', 'didn', 'have', 've', 'such', 'can', 'her', 'whom', 'having', 'by', 'it', 'very', 'i', 'against', 'hadn', 'there', 'most', \"she's\", 'did', 'how', 'this', 'am', 't', 'being', 'should', 'will', 'over', 'aren', 'its', 'does', \"you'll\", 'why', 'mustn', 'through', \"it's\"}\n"
     ]
    }
   ],
   "source": [
    "import re\n",
    "import string\n",
    "from nltk.corpus import stopwords            #importing stopwords \n",
    "from nltk.stem import SnowballStemmer\n",
    "from nltk.stem.wordnet import WordNetLemmatizer\n",
    "\n",
    "stop = set(stopwords.words('english')) #set of stopwords\n",
    "sno = nltk.stem.SnowballStemmer('english') #initialising the snowball stemmer\n",
    "not_words = re.findall(r'\\w*n[\\'|o]t',str (stop)) #finding NOT words in stop words\n",
    "not_words.append('n\\'t')\n",
    "print (not_words)\n",
    "stop_words = stop - set (not_words)  #removing  NOT words from stop words\n",
    "def cleanhtml(sentence): #function to clean the word of any html-tags\n",
    "    cleanr = re.compile('<.*?>')\n",
    "    cleantext = re.sub(cleanr, ' ', sentence)\n",
    "    return cleantext\n",
    "def cleanpunc(sentence): #function to clean the word of any punctuation or special characters\n",
    "    cleaned = re.sub(r'[?|!|\\'|\"|#|:]',r'',sentence)\n",
    "    cleaned = re.sub(r'[.+|,|)|(|\\|/]',r'',cleaned)\n",
    "    return  cleaned\n",
    "print('************************************')                 \n",
    "print(stop_words)"
   ]
  },
  {
   "cell_type": "code",
   "execution_count": 0,
   "metadata": {
    "colab": {},
    "colab_type": "code",
    "id": "MIwaEdfjkOQf"
   },
   "outputs": [],
   "source": [
    "str1=' '\n",
    "final_string=[]\n",
    "s=''\n",
    "for sent in final_data1['Text'].values:\n",
    "    filtered_sentence=[]    \n",
    "    sent=cleanhtml(sent) # remove HTMl tags\n",
    "    for w in sent.split():\n",
    "        for cleaned_words in cleanpunc(w).split():\n",
    "            if((cleaned_words.isalpha()) & (len(cleaned_words)>2)):    \n",
    "                if((cleaned_words.lower() not in stop_words)):\n",
    "                    s=(sno.stem(cleaned_words.lower())).encode('utf8')\n",
    "                    filtered_sentence.append(s)\n",
    "                else:\n",
    "                    continue\n",
    "            else:\n",
    "                continue \n",
    "    str1 = b\" \".join(filtered_sentence) #final string of cleaned words for reviews\n",
    "    final_string.append(str1)"
   ]
  },
  {
   "cell_type": "code",
   "execution_count": 0,
   "metadata": {
    "colab": {},
    "colab_type": "code",
    "id": "_wxvG-vGkOQv",
    "outputId": "4ef4e7a1-8e5b-447e-c290-03cde3085aa0"
   },
   "outputs": [
    {
     "name": "stdout",
     "output_type": "stream",
     "text": [
      "(30000, 11)\n"
     ]
    },
    {
     "data": {
      "text/html": [
       "<div>\n",
       "<style scoped>\n",
       "    .dataframe tbody tr th:only-of-type {\n",
       "        vertical-align: middle;\n",
       "    }\n",
       "\n",
       "    .dataframe tbody tr th {\n",
       "        vertical-align: top;\n",
       "    }\n",
       "\n",
       "    .dataframe thead th {\n",
       "        text-align: right;\n",
       "    }\n",
       "</style>\n",
       "<table border=\"1\" class=\"dataframe\">\n",
       "  <thead>\n",
       "    <tr style=\"text-align: right;\">\n",
       "      <th></th>\n",
       "      <th>Id</th>\n",
       "      <th>ProductId</th>\n",
       "      <th>UserId</th>\n",
       "      <th>ProfileName</th>\n",
       "      <th>HelpfulnessNumerator</th>\n",
       "      <th>HelpfulnessDenominator</th>\n",
       "      <th>Score</th>\n",
       "      <th>Time</th>\n",
       "      <th>Summary</th>\n",
       "      <th>Text</th>\n",
       "      <th>CleanedText</th>\n",
       "    </tr>\n",
       "  </thead>\n",
       "  <tbody>\n",
       "    <tr>\n",
       "      <th>150523</th>\n",
       "      <td>150524</td>\n",
       "      <td>0006641040</td>\n",
       "      <td>ACITT7DI6IDDL</td>\n",
       "      <td>shari zychinski</td>\n",
       "      <td>0</td>\n",
       "      <td>0</td>\n",
       "      <td>positive</td>\n",
       "      <td>939340800</td>\n",
       "      <td>EVERY book is educational</td>\n",
       "      <td>this witty little book makes my son laugh at l...</td>\n",
       "      <td>b'witti littl book make son laugh loud recit c...</td>\n",
       "    </tr>\n",
       "    <tr>\n",
       "      <th>150500</th>\n",
       "      <td>150501</td>\n",
       "      <td>0006641040</td>\n",
       "      <td>AJ46FKXOVC7NR</td>\n",
       "      <td>Nicholas A Mesiano</td>\n",
       "      <td>2</td>\n",
       "      <td>2</td>\n",
       "      <td>positive</td>\n",
       "      <td>940809600</td>\n",
       "      <td>This whole series is great way to spend time w...</td>\n",
       "      <td>I can remember seeing the show when it aired o...</td>\n",
       "      <td>b'rememb see show air televis year ago child s...</td>\n",
       "    </tr>\n",
       "  </tbody>\n",
       "</table>\n",
       "</div>"
      ],
      "text/plain": [
       "            Id   ProductId         UserId         ProfileName  \\\n",
       "150523  150524  0006641040  ACITT7DI6IDDL     shari zychinski   \n",
       "150500  150501  0006641040  AJ46FKXOVC7NR  Nicholas A Mesiano   \n",
       "\n",
       "        HelpfulnessNumerator  HelpfulnessDenominator     Score       Time  \\\n",
       "150523                     0                       0  positive  939340800   \n",
       "150500                     2                       2  positive  940809600   \n",
       "\n",
       "                                                  Summary  \\\n",
       "150523                          EVERY book is educational   \n",
       "150500  This whole series is great way to spend time w...   \n",
       "\n",
       "                                                     Text  \\\n",
       "150523  this witty little book makes my son laugh at l...   \n",
       "150500  I can remember seeing the show when it aired o...   \n",
       "\n",
       "                                              CleanedText  \n",
       "150523  b'witti littl book make son laugh loud recit c...  \n",
       "150500  b'rememb see show air televis year ago child s...  "
      ]
     },
     "execution_count": 25,
     "metadata": {
      "tags": []
     },
     "output_type": "execute_result"
    }
   ],
   "source": [
    "final_data1['CleanedText']=final_string #adding a column of CleanedText which displays the data after pre-processing of the review \n",
    "print (final_data1.shape)\n",
    "final_data1.head(2) #below the processed review can be seen in the CleanedText Column "
   ]
  },
  {
   "cell_type": "code",
   "execution_count": 0,
   "metadata": {
    "colab": {},
    "colab_type": "code",
    "id": "3KciuiHE8_qw"
   },
   "outputs": [],
   "source": [
    "import pickle\n",
    "final_data = pickle.load(open('drive/My Drive/Colab Notebooks/final_data.pkl','rb'))\n"
   ]
  },
  {
   "cell_type": "code",
   "execution_count": 0,
   "metadata": {
    "colab": {},
    "colab_type": "code",
    "id": "IskS99-GKvAY"
   },
   "outputs": [],
   "source": [
    "final_data = final_data[0:50000]"
   ]
  },
  {
   "cell_type": "code",
   "execution_count": 16,
   "metadata": {
    "colab": {
     "base_uri": "https://localhost:8080/",
     "height": 34
    },
    "colab_type": "code",
    "executionInfo": {
     "elapsed": 1727,
     "status": "ok",
     "timestamp": 1548837073131,
     "user": {
      "displayName": "ISIREDDY VINODHREDDY",
      "photoUrl": "",
      "userId": "09251791700407935163"
     },
     "user_tz": -330
    },
    "id": "xUc52rLUK16x",
    "outputId": "125f6927-f852-401f-cead-11b1856aee01"
   },
   "outputs": [
    {
     "data": {
      "text/plain": [
       "(50000, 13)"
      ]
     },
     "execution_count": 16,
     "metadata": {
      "tags": []
     },
     "output_type": "execute_result"
    }
   ],
   "source": [
    "final_data.shape"
   ]
  },
  {
   "cell_type": "code",
   "execution_count": 0,
   "metadata": {
    "colab": {},
    "colab_type": "code",
    "id": "lPiqSJytkORK"
   },
   "outputs": [],
   "source": [
    "# split the data set into train and test\n",
    "X_train, X_test, y_train, y_test = train_test_split(final_data['CleanedText'].values, final_data['Score'].values, \n",
    "                                                             test_size=0.3, random_state=42,shuffle=False)\n"
   ]
  },
  {
   "cell_type": "code",
   "execution_count": 0,
   "metadata": {
    "colab": {},
    "colab_type": "code",
    "id": "xJzVUHKpkORR"
   },
   "outputs": [],
   "source": [
    "model= CountVectorizer(dtype=float)\n",
    "final_counts= model.fit_transform(X_train)"
   ]
  },
  {
   "cell_type": "code",
   "execution_count": 19,
   "metadata": {
    "colab": {
     "base_uri": "https://localhost:8080/",
     "height": 34
    },
    "colab_type": "code",
    "executionInfo": {
     "elapsed": 1218,
     "status": "ok",
     "timestamp": 1548837090535,
     "user": {
      "displayName": "ISIREDDY VINODHREDDY",
      "photoUrl": "",
      "userId": "09251791700407935163"
     },
     "user_tz": -330
    },
    "id": "MkBK3GcwkORb",
    "outputId": "1f279384-9c31-49e0-a14d-d521b9cde04b"
   },
   "outputs": [
    {
     "data": {
      "text/plain": [
       "(35000, 22866)"
      ]
     },
     "execution_count": 19,
     "metadata": {
      "tags": []
     },
     "output_type": "execute_result"
    }
   ],
   "source": [
    "from sklearn.preprocessing import StandardScaler\n",
    "standardizing  = StandardScaler(with_mean = False)\n",
    "final_std_data = standardizing.fit_transform(final_counts)\n",
    "final_std_data.shape"
   ]
  },
  {
   "cell_type": "code",
   "execution_count": 20,
   "metadata": {
    "colab": {
     "base_uri": "https://localhost:8080/",
     "height": 136
    },
    "colab_type": "code",
    "executionInfo": {
     "elapsed": 503923,
     "status": "ok",
     "timestamp": 1548837600040,
     "user": {
      "displayName": "ISIREDDY VINODHREDDY",
      "photoUrl": "",
      "userId": "09251791700407935163"
     },
     "user_tz": -330
    },
    "id": "bOA_3SEDkORn",
    "outputId": "34569626-9e0f-4943-a765-da5068f851ec"
   },
   "outputs": [
    {
     "name": "stdout",
     "output_type": "stream",
     "text": [
      "train scores\n",
      "[1.0, 0.9540161519338851, 0.9331687586079103, 0.9206952520685976, 0.9116158473017916]\n",
      "**************************************************\n",
      "CV scores\n",
      "[0.5576049660282564, 0.615972303410373, 0.6472113316474385, 0.6604867969009544, 0.6708296469975809]\n",
      "CPU times: user 8min 11s, sys: 11.2 s, total: 8min 22s\n",
      "Wall time: 8min 22s\n"
     ]
    }
   ],
   "source": [
    "%%time\n",
    "from sklearn.neighbors import KNeighborsClassifier\n",
    "from scipy.sparse import csr_matrix\n",
    "from sklearn.metrics import make_scorer\n",
    "from sklearn.model_selection import cross_val_score\n",
    "from sklearn.metrics import roc_auc_score\n",
    "\n",
    "# creating odd list of K for KNN\n",
    "myList = list(range(1,10,2))\n",
    "# empty list that will hold cv scores\n",
    "cv_scores = []\n",
    "train_auc_values = []\n",
    "\n",
    "# perform 10-fold cross validation\n",
    "for k in myList:\n",
    "    knn = KNeighborsClassifier(n_neighbors=k,algorithm='brute')\n",
    "    auc = make_scorer(roc_auc_score,greater_is_better=True,\n",
    "                             needs_threshold=True)\n",
    "    auc_scores = cross_val_score(knn, final_std_data, y_train, cv=3, scoring=auc)\n",
    "    knn.fit(final_std_data,y_train)\n",
    "    y_pred_proba = knn.predict_proba(final_std_data)[::,1]\n",
    "    train_auc = roc_auc_score(y_train, y_pred_proba)\n",
    "    train_auc_values.append(train_auc)\n",
    "    cv_scores.append(auc_scores.mean())\n",
    "\n",
    "print ('train scores')\n",
    "print (train_auc_values)\n",
    "print ('*'*50)\n",
    "print ('CV scores')\n",
    "print (cv_scores) \n"
   ]
  },
  {
   "cell_type": "code",
   "execution_count": 0,
   "metadata": {
    "colab": {},
    "colab_type": "code",
    "id": "_DOJ4cEPkORz"
   },
   "outputs": [],
   "source": [
    "from sklearn.neighbors import KNeighborsClassifier\n",
    "from scipy.sparse import csr_matrix\n",
    "# creating odd list of K for KNN\n",
    "myList = list(range(1,50))\n",
    "# empty list that will hold cv scores\n",
    "cv_scores = []\n",
    "\n",
    "# perform 10-fold cross validation\n",
    "for k in myList:\n",
    "    knn = KNeighborsClassifier(n_neighbors=k,algorithm='kd_tree')\n",
    "    scores = cross_val_score(knn, final_counts.todense(), y_train, cv=3, scoring='accuracy')\n",
    "    cv_scores.append(scores.mean())\n",
    "\n",
    "# changing to misclassification error\n",
    "error = [1 - x for x in cv_scores]\n",
    "\n",
    "# determining best k\n",
    "optimal_k = myList[error.index(min(error))]\n",
    "print('\\nThe optimal number of neighbors is {0} with {1} error.' .format(optimal_k,min(error)*100))\n",
    "\n",
    "# plot misclassification error vs k \n",
    "plt.plot(myList, error)\n",
    "plt.xlabel('Number of Neighbors K')\n",
    "plt.ylabel('Misclassification Error')\n",
    "plt.show()\n",
    "\n",
    "print(\"the percentage of misclassification error for each k value is : \",error*100)"
   ]
  },
  {
   "cell_type": "code",
   "execution_count": 0,
   "metadata": {
    "colab": {},
    "colab_type": "code",
    "id": "roH1_6k0kOR5",
    "outputId": "928c216f-9278-4d35-99d5-15c823fcc069"
   },
   "outputs": [
    {
     "name": "stdout",
     "output_type": "stream",
     "text": [
      "\n",
      "The accuracy of the knn classifier for k = 8 is 89.822222%\n"
     ]
    }
   ],
   "source": [
    "# instantiate learning model k = optimal_k\n",
    "knn_optimal = KNeighborsClassifier(n_neighbors=optimal_k)\n",
    "\n",
    "# fitting the model\n",
    "knn_optimal.fit(final_std_data, y_train)\n",
    "\n",
    "# predict the response\n",
    "predictions = knn_optimal.predict(standardizing.transform(model.transform(X_test)))\n",
    "\n",
    "# evaluate accuracy\n",
    "acc = accuracy_score(y_test, predictions)*100\n",
    "print('\\nThe accuracy of the knn classifier for k = %d is %f%%' % (optimal_k, acc))"
   ]
  },
  {
   "cell_type": "code",
   "execution_count": 0,
   "metadata": {
    "colab": {},
    "colab_type": "code",
    "id": "MxodSVPAkOSC",
    "outputId": "ff8b4778-8b97-4874-b4db-b81380d6da08"
   },
   "outputs": [
    {
     "data": {
      "text/plain": [
       "<matplotlib.axes._subplots.AxesSubplot at 0xff1077ff98>"
      ]
     },
     "execution_count": 34,
     "metadata": {
      "tags": []
     },
     "output_type": "execute_result"
    },
    {
     "data": {
      "image/png": "[encoded data removed]",
      "text/plain": [
       "<Figure size 432x288 with 2 Axes>"
      ]
     },
     "metadata": {
      "tags": []
     },
     "output_type": "display_data"
    }
   ],
   "source": [
    "from sklearn.metrics import confusion_matrix\n",
    "import seaborn as sns\n",
    "result = confusion_matrix(y_test,predictions)\n",
    "#print(result)\n",
    "sns.set(font_scale=1.4)#for label size\n",
    "sns.heatmap(result, annot=True,annot_kws={\"size\": 16}, fmt='g')"
   ]
  },
  {
   "cell_type": "code",
   "execution_count": 0,
   "metadata": {
    "colab": {},
    "colab_type": "code",
    "id": "LiNdSW8UkOSK"
   },
   "outputs": [],
   "source": [
    "import pickle \n",
    "with open(\"final_data1.pkl\", \"rb\") as f:\n",
    "    final_data = pickle.load(f)"
   ]
  },
  {
   "cell_type": "code",
   "execution_count": 0,
   "metadata": {
    "colab": {},
    "colab_type": "code",
    "id": "9fmlBBbvkOST"
   },
   "outputs": [],
   "source": [
    "X_train, X_test, y_train, y_test = train_test_split(final_data['CleanedText'].values, final_data['Score'].values, \n",
    "                                                             test_size=0.3, random_state=42,shuffle=False)\n"
   ]
  },
  {
   "cell_type": "code",
   "execution_count": 0,
   "metadata": {
    "colab": {},
    "colab_type": "code",
    "id": "RNev1Q8xkOSY",
    "outputId": "a8bfe27d-ef79-4edd-bd1b-2c7dc298f9fe"
   },
   "outputs": [
    {
     "data": {
      "text/plain": [
       "(21000, 22079)"
      ]
     },
     "execution_count": 6,
     "metadata": {
      "tags": []
     },
     "output_type": "execute_result"
    }
   ],
   "source": [
    "tf_idf_vector = TfidfVectorizer(ngram_range = (1,1))\n",
    "tf_idf = tf_idf_vector.fit_transform(X_train)\n",
    "tf_idf.shape"
   ]
  },
  {
   "cell_type": "code",
   "execution_count": 0,
   "metadata": {
    "colab": {},
    "colab_type": "code",
    "id": "DYIh8DUakOSh",
    "outputId": "7c0da386-7ca5-4c8c-f530-2826af502b99"
   },
   "outputs": [
    {
     "data": {
      "text/plain": [
       "(21000, 22079)"
      ]
     },
     "execution_count": 7,
     "metadata": {
      "tags": []
     },
     "output_type": "execute_result"
    }
   ],
   "source": [
    "standardizing  = StandardScaler(with_mean = False)\n",
    "final_std_data = standardizing.fit_transform(tf_idf)\n",
    "final_std_data.shape"
   ]
  },
  {
   "cell_type": "code",
   "execution_count": 0,
   "metadata": {
    "colab": {},
    "colab_type": "code",
    "id": "-PGiDBMKkOSv",
    "outputId": "63367d0d-a36e-497f-d9c9-4df1dea8bea5"
   },
   "outputs": [
    {
     "name": "stdout",
     "output_type": "stream",
     "text": [
      "\n",
      "The optimal number of neighbors is 5 with 10.909520901900272error.\n"
     ]
    },
    {
     "data": {
      "image/png": "[encoded data removed]",
      "text/plain": [
       "<Figure size 432x288 with 1 Axes>"
      ]
     },
     "metadata": {
      "tags": []
     },
     "output_type": "display_data"
    },
    {
     "name": "stdout",
     "output_type": "stream",
     "text": [
      "the misclassification error for each k value is :  [0.13195256833496372, 0.11080960818756558, 0.10909520901900271, 0.109380923326313, 0.10942854237933108, 0.10957141086815592, 0.10961902991577488, 0.10961902991577488, 0.10961902991577488, 0.10961902991577488, 0.10961902991577488, 0.10961902991577488, 0.10961902991577488, 0.10961902991577488, 0.10961902991577488]\n"
     ]
    }
   ],
   "source": [
    "from sklearn.neighbors import KNeighborsClassifier\n",
    "myList = list(range(1,30,2))\n",
    "# empty list that will hold cv scores\n",
    "cv_scores = []\n",
    "\n",
    "# perform 10-fold cross validation\n",
    "for k in myList:\n",
    "    knn = KNeighborsClassifier(n_neighbors=k,algorithm='brute')\n",
    "    scores = cross_val_score(knn, final_std_data, y_train, cv=5, scoring='accuracy')\n",
    "    cv_scores.append(scores.mean())\n",
    "\n",
    "# changing to misclassification error\n",
    "error = [1 - x for x in cv_scores]\n",
    "\n",
    "# determining best k\n",
    "optimal_k = myList[error.index(min(error))]\n",
    "print('\\nThe optimal number of neighbors is {0} with {1}error.' .format(optimal_k,min(error)*100))\n",
    "\n",
    "# plot misclassification error vs k \n",
    "plt.plot(myList, error)\n",
    "\n",
    "plt.xlabel('Number of Neighbors K')\n",
    "plt.ylabel('Misclassification Error')\n",
    "plt.show()\n",
    "\n",
    "print(\"the misclassification error for each k value is : \", error)"
   ]
  },
  {
   "cell_type": "code",
   "execution_count": 0,
   "metadata": {
    "colab": {},
    "colab_type": "code",
    "id": "HOwF7zL4kOS4",
    "outputId": "02ef5286-e869-4cff-eef6-aead8c27d3f8"
   },
   "outputs": [
    {
     "name": "stdout",
     "output_type": "stream",
     "text": [
      "\n",
      "The accuracy of the knn classifier for k = 5 is 89.600000%\n"
     ]
    }
   ],
   "source": [
    "# instantiate learning model k = optimal_k\n",
    "knn_optimal = KNeighborsClassifier(n_neighbors=optimal_k)\n",
    "\n",
    "# fitting the model\n",
    "knn_optimal.fit(final_std_data, y_train)\n",
    "\n",
    "# predict the response\n",
    "pred = knn_optimal.predict(standardizing.transform(tf_idf_vector.transform(X_test)))\n",
    "\n",
    "# evaluate accuracy\n",
    "acc = accuracy_score(y_test, pred) * 100\n",
    "print('\\nThe accuracy of the knn classifier for k = %d is %f%%' % (optimal_k, acc))"
   ]
  },
  {
   "cell_type": "code",
   "execution_count": 0,
   "metadata": {
    "colab": {},
    "colab_type": "code",
    "id": "9cX58gXbkOTD",
    "outputId": "9036dc6a-7878-4a4e-bc62-60bd34068df5"
   },
   "outputs": [
    {
     "data": {
      "text/plain": [
       "<matplotlib.axes._subplots.AxesSubplot at 0xf5c28a8f98>"
      ]
     },
     "execution_count": 13,
     "metadata": {
      "tags": []
     },
     "output_type": "execute_result"
    },
    {
     "data": {
      "image/png": "[encoded data removed]",
      "text/plain": [
       "<Figure size 432x288 with 2 Axes>"
      ]
     },
     "metadata": {
      "tags": []
     },
     "output_type": "display_data"
    }
   ],
   "source": [
    "from sklearn.metrics import confusion_matrix\n",
    "import seaborn as sns\n",
    "result = confusion_matrix(y_test,pred)\n",
    "#print(result)\n",
    "sns.set(font_scale=1.4)#for label size\n",
    "sns.heatmap(result, annot=True,annot_kws={\"size\": 16}, fmt='g')"
   ]
  },
  {
   "cell_type": "code",
   "execution_count": 0,
   "metadata": {
    "colab": {},
    "colab_type": "code",
    "id": "ZZn65TpOkOTO",
    "outputId": "35e35361-3d06-4bab-de02-0f488c3fa5d6"
   },
   "outputs": [
    {
     "name": "stderr",
     "output_type": "stream",
     "text": [
      "C:\\Users\\Lenovo\\Anaconda3\\lib\\site-packages\\gensim\\utils.py:1209: UserWarning: detected Windows; aliasing chunkize to chunkize_serial\n",
      "  warnings.warn(\"detected Windows; aliasing chunkize to chunkize_serial\")\n"
     ]
    }
   ],
   "source": [
    "from gensim.models import Word2Vec\n",
    "from gensim.models import KeyedVectors\n",
    "model = KeyedVectors.load_word2vec_format('GoogleNews-vectors-negative300.bin', binary=True)"
   ]
  },
  {
   "cell_type": "code",
   "execution_count": 0,
   "metadata": {
    "colab": {},
    "colab_type": "code",
    "id": "ye47k2mqkOTb"
   },
   "outputs": [],
   "source": [
    "from nltk.tokenize import word_tokenize\n",
    "list_of_sent_train = [word_tokenize(sent.decode()) for sent in X_train]\n",
    "list_of_sent_test = [word_tokenize(sent.decode()) for sent in X_test]\n",
    "#list_of_sent[1]"
   ]
  },
  {
   "cell_type": "code",
   "execution_count": 0,
   "metadata": {
    "colab": {},
    "colab_type": "code",
    "id": "uLJtTPJzkOTi"
   },
   "outputs": [],
   "source": [
    "import gensim\n",
    "def w2v_vector(list_of_sent):\n",
    "    #w2v_model=gensim.models.Word2Vec(list_of_sent,min_count=5,size=300)    \n",
    "    sent_vectors = []; # the avg-w2v for each sentence/review is stored in this list\n",
    "    for sent in list_of_sent: # for each review/sentence\n",
    "        sent_vec = np.zeros(300) # as word vectors are of zero length\n",
    "        cnt_words =0; # num of words with a valid vector in the sentence/review\n",
    "        for word in sent: # for each word in a review/sentence\n",
    "            try:\n",
    "                #print (word)\n",
    "                vec = model.wv[word]\n",
    "                #print (vec)\n",
    "                sent_vec += vec\n",
    "                cnt_words += 1\n",
    "            except:\n",
    "                pass\n",
    "        if (cnt_words!=0):\n",
    "            sent_vec /= cnt_words\n",
    "        sent_vectors.append(sent_vec)\n",
    "    print(len(sent_vectors))\n",
    "    print(len(sent_vectors[0]))\n",
    "    return (sent_vectors)"
   ]
  },
  {
   "cell_type": "code",
   "execution_count": 0,
   "metadata": {
    "colab": {},
    "colab_type": "code",
    "id": "DsnQCvR1kOTq",
    "outputId": "cd51e8c0-1669-47b7-8086-7a85ce733e8a"
   },
   "outputs": [
    {
     "name": "stderr",
     "output_type": "stream",
     "text": [
      "C:\\Users\\Lenovo\\Anaconda3\\lib\\site-packages\\ipykernel_launcher.py:11: DeprecationWarning: Call to deprecated `wv` (Attribute will be removed in 4.0.0, use self instead).\n",
      "  # This is added back by InteractiveShellApp.init_path()\n"
     ]
    },
    {
     "name": "stdout",
     "output_type": "stream",
     "text": [
      "21000\n",
      "300\n",
      "9000\n",
      "300\n"
     ]
    }
   ],
   "source": [
    "train_w2v_data = w2v_vector(list_of_sent_train)\n",
    "test_w2v_data = w2v_vector(list_of_sent_test)"
   ]
  },
  {
   "cell_type": "code",
   "execution_count": 0,
   "metadata": {
    "colab": {},
    "colab_type": "code",
    "id": "jUNgn4p2kOUA"
   },
   "outputs": [],
   "source": [
    "avg_w2v_train_data1 = pd.DataFrame(data=train_w2v_data)\n",
    "avg_w2v_test_data1 = pd.DataFrame(data=test_w2v_data)\n",
    "#final_train_w2v_data.shape"
   ]
  },
  {
   "cell_type": "code",
   "execution_count": 0,
   "metadata": {
    "colab": {},
    "colab_type": "code",
    "id": "X0Q8p4wHkOUJ"
   },
   "outputs": [],
   "source": [
    "import pickle\n",
    "with open(\"avg_w2v_train_data1.pkl\", \"wb\") as f:\n",
    "    pickle.dump(avg_w2v_train_data1, f)\n",
    "    \n",
    "with open(\"avg_w2v_train_data1.pkl\", \"rb\") as f:\n",
    "    avg_w2v_train_data1 = pickle.load(f)"
   ]
  },
  {
   "cell_type": "code",
   "execution_count": 0,
   "metadata": {
    "colab": {},
    "colab_type": "code",
    "id": "q0FOCiD4kOUR"
   },
   "outputs": [],
   "source": [
    "import pickle\n",
    "with open(\"avg_w2v_test_data1.pkl\", \"wb\") as f:\n",
    "    pickle.dump(avg_w2v_test_data1, f)\n",
    "    \n",
    "with open(\"avg_w2v_test_data1.pkl\", \"rb\") as f:\n",
    "    avg_w2v_test_data1 = pickle.load(f)"
   ]
  },
  {
   "cell_type": "code",
   "execution_count": 0,
   "metadata": {
    "colab": {},
    "colab_type": "code",
    "id": "4pcPlmmnkOUa"
   },
   "outputs": [],
   "source": [
    "import pickle\n",
    "with open(\"y_train.pkl\", \"wb\") as f:\n",
    "    pickle.dump(y_train, f)\n",
    "    \n",
    "with open(\"y_train.pkl\", \"rb\") as f:\n",
    "    y_train = pickle.load(f)"
   ]
  },
  {
   "cell_type": "code",
   "execution_count": 0,
   "metadata": {
    "colab": {},
    "colab_type": "code",
    "id": "LBUHIA6NkOUi"
   },
   "outputs": [],
   "source": [
    "import pickle\n",
    "with open(\"y_test.pkl\", \"wb\") as f:\n",
    "    pickle.dump(y_test, f)\n",
    "    \n",
    "with open(\"y_test.pkl\", \"rb\") as f:\n",
    "    y_test = pickle.load(f)"
   ]
  },
  {
   "cell_type": "code",
   "execution_count": 0,
   "metadata": {
    "colab": {},
    "colab_type": "code",
    "id": "HOWlPHUNkOU0",
    "outputId": "975ad14c-4969-48d2-fe43-d09d8ec055d2"
   },
   "outputs": [
    {
     "data": {
      "text/plain": [
       "(array([], dtype=int64), array([], dtype=int64))"
      ]
     },
     "execution_count": 25,
     "metadata": {
      "tags": []
     },
     "output_type": "execute_result"
    }
   ],
   "source": [
    "np.where(np.isnan(avg_w2v_train_data1))"
   ]
  },
  {
   "cell_type": "code",
   "execution_count": 0,
   "metadata": {
    "colab": {},
    "colab_type": "code",
    "id": "upjau-i6kOU8",
    "outputId": "81c0b36b-f11f-4fb9-eee4-c7819a7b1b42"
   },
   "outputs": [
    {
     "data": {
      "text/plain": [
       "(21000, 300)"
      ]
     },
     "execution_count": 64,
     "metadata": {
      "tags": []
     },
     "output_type": "execute_result"
    }
   ],
   "source": [
    "standardizing  = StandardScaler(with_mean = False)\n",
    "final_avg_w2v_std_data = standardizing.fit_transform(avg_w2v_train)\n",
    "final_avg_w2v_std_data.shape"
   ]
  },
  {
   "cell_type": "code",
   "execution_count": 0,
   "metadata": {
    "colab": {},
    "colab_type": "code",
    "id": "m9ME-S7akOVF",
    "outputId": "496cc74d-0813-4385-ab42-6f4c79de91af"
   },
   "outputs": [
    {
     "data": {
      "text/plain": [
       "-0.143648321617942"
      ]
     },
     "execution_count": 65,
     "metadata": {
      "tags": []
     },
     "output_type": "execute_result"
    }
   ],
   "source": [
    "np.mean(final_avg_w2v_std_data)"
   ]
  },
  {
   "cell_type": "code",
   "execution_count": 0,
   "metadata": {
    "colab": {},
    "colab_type": "code",
    "id": "tXyzuG6NkOVa"
   },
   "outputs": [],
   "source": [
    "from pandas import DataFrame\n",
    "f1=pd.DataFrame(data=final_avg_w2v_std_data)"
   ]
  },
  {
   "cell_type": "code",
   "execution_count": 0,
   "metadata": {
    "colab": {},
    "colab_type": "code",
    "id": "vA65BTlMkOVg",
    "outputId": "f0c2c9e0-e288-4ebe-e180-b582fe0b3540"
   },
   "outputs": [
    {
     "data": {
      "text/plain": [
       "pandas.core.frame.DataFrame"
      ]
     },
     "execution_count": 67,
     "metadata": {
      "tags": []
     },
     "output_type": "execute_result"
    }
   ],
   "source": [
    "type(f1)"
   ]
  },
  {
   "cell_type": "code",
   "execution_count": 0,
   "metadata": {
    "colab": {},
    "colab_type": "code",
    "id": "vzzNpAuekOVo",
    "outputId": "dfdc1c25-c7a6-472a-eb86-48d5497fc33b"
   },
   "outputs": [
    {
     "name": "stdout",
     "output_type": "stream",
     "text": [
      "\n",
      "The optimal number of neighbors is 9 with 10.566706829988238 error.\n"
     ]
    },
    {
     "data": {
      "image/png": "[encoded data removed]",
      "text/plain": [
       "<Figure size 432x288 with 1 Axes>"
      ]
     },
     "metadata": {
      "tags": []
     },
     "output_type": "display_data"
    },
    {
     "name": "stdout",
     "output_type": "stream",
     "text": [
      "the misclassification error for each k value is :  [0.1522383516683009, 0.11728620718877636, 0.10809553780910885, 0.1063812520084394, 0.10566706829988237, 0.10619088918585651, 0.10604800936726111, 0.1060956057391419, 0.10619079848290336, 0.10628602523757302, 0.10671455133626395, 0.10714312278643123, 0.1069526579203266, 0.10714310011069306, 0.10723824750297817]\n"
     ]
    }
   ],
   "source": [
    "myList = list(range(1,30,2))\n",
    "# empty list that will hold cv scores\n",
    "cv_scores = []\n",
    "\n",
    "# perform 10-fold cross validation\n",
    "for k in myList:\n",
    "    knn = KNeighborsClassifier(n_neighbors=k,algorithm='brute')\n",
    "    scores = cross_val_score(knn, f1, y_train, cv=5, scoring='accuracy')\n",
    "    cv_scores.append(scores.mean())\n",
    "\n",
    "# changing to misclassification error\n",
    "error_w2v = [1 - x for x in cv_scores]\n",
    "\n",
    "# determining best k\n",
    "optimal_k = myList[error_w2v.index(min(error_w2v))]\n",
    "print('\\nThe optimal number of neighbors is {0} with {1} error.' .format(optimal_k,min(error_w2v)*100))\n",
    "\n",
    "# plot misclassification error vs k \n",
    "plt.plot(myList, error_w2v)\n",
    "\n",
    "plt.xlabel('Number of Neighbors K')\n",
    "plt.ylabel('Misclassification Error')\n",
    "plt.show()\n",
    "\n",
    "print(\"the misclassification error for each k value is : \", error_w2v)"
   ]
  },
  {
   "cell_type": "code",
   "execution_count": 0,
   "metadata": {
    "colab": {},
    "colab_type": "code",
    "id": "g4tixK_PkOVx"
   },
   "outputs": [],
   "source": [
    "from pandas import DataFrame\n",
    "w2v_test=pd.DataFrame(data=standardizing.transform(avg_w2v_test))"
   ]
  },
  {
   "cell_type": "code",
   "execution_count": 0,
   "metadata": {
    "colab": {},
    "colab_type": "code",
    "id": "4COUaRQgkOV8",
    "outputId": "93b05e97-c212-41eb-80e3-bb31e265328f"
   },
   "outputs": [
    {
     "name": "stdout",
     "output_type": "stream",
     "text": [
      "\n",
      "The accuracy of the knn classifier for k = 9 is 89.877778%\n"
     ]
    }
   ],
   "source": [
    "# instantiate learning model k = optimal_k\n",
    "knn_optimal = KNeighborsClassifier(n_neighbors=optimal_k)\n",
    "\n",
    "# fitting the model\n",
    "knn_optimal.fit(f1, y_train)\n",
    "\n",
    "# predict the response\n",
    "pred = knn_optimal.predict(w2v_test)\n",
    "\n",
    "# evaluate accuracy\n",
    "acc = accuracy_score(y_test, pred) * 100\n",
    "print('\\nThe accuracy of the knn classifier for k = %d is %f%%' % (optimal_k, acc))"
   ]
  },
  {
   "cell_type": "code",
   "execution_count": 0,
   "metadata": {
    "colab": {},
    "colab_type": "code",
    "id": "aDeLmZCbkOWE",
    "outputId": "d48625a4-8c59-48b9-93da-98a24a630d91"
   },
   "outputs": [
    {
     "data": {
      "text/plain": [
       "<matplotlib.axes._subplots.AxesSubplot at 0xf5806bb0b8>"
      ]
     },
     "execution_count": 71,
     "metadata": {
      "tags": []
     },
     "output_type": "execute_result"
    },
    {
     "data": {
      "image/png": "[encoded data removed]",
      "text/plain": [
       "<Figure size 432x288 with 2 Axes>"
      ]
     },
     "metadata": {
      "tags": []
     },
     "output_type": "display_data"
    }
   ],
   "source": [
    "result = confusion_matrix(y_test,pred)\n",
    "#print(result)\n",
    "sns.set(font_scale=1.4)#for label size\n",
    "sns.heatmap(result, annot=True,annot_kws={\"size\": 16}, fmt='g')"
   ]
  },
  {
   "cell_type": "code",
   "execution_count": 0,
   "metadata": {
    "colab": {},
    "colab_type": "code",
    "id": "GODd9EPkkOWM",
    "outputId": "70192d8c-f25d-4bf6-c654-43e8bfc65cf5"
   },
   "outputs": [
    {
     "name": "stdout",
     "output_type": "stream",
     "text": [
      "\n",
      "The accuracy of the knn classifier for k = 8 is 89.600000%\n"
     ]
    }
   ],
   "source": [
    "# instantiate learning model k = optimal_k\n",
    "knn_optimal = KNeighborsClassifier(n_neighbors=8)\n",
    "\n",
    "# fitting the model\n",
    "knn_optimal.fit(f1, y_train)\n",
    "\n",
    "# predict the response\n",
    "pred = knn_optimal.predict(w2v_test)\n",
    "\n",
    "# evaluate accuracy\n",
    "acc = accuracy_score(y_test, pred) * 100\n",
    "print('\\nThe accuracy of the knn classifier for k = %d is %f%%' % (8, acc))"
   ]
  },
  {
   "cell_type": "code",
   "execution_count": 0,
   "metadata": {
    "colab": {},
    "colab_type": "code",
    "id": "Sl02Wrz8kOWX",
    "outputId": "fe0e0897-f501-4cb0-f873-0c2df3c776a8"
   },
   "outputs": [
    {
     "data": {
      "text/plain": [
       "<matplotlib.axes._subplots.AxesSubplot at 0xf58003fa58>"
      ]
     },
     "execution_count": 45,
     "metadata": {
      "tags": []
     },
     "output_type": "execute_result"
    },
    {
     "data": {
      "image/png": "[encoded data removed]",
      "text/plain": [
       "<Figure size 432x288 with 2 Axes>"
      ]
     },
     "metadata": {
      "tags": []
     },
     "output_type": "display_data"
    }
   ],
   "source": [
    "result = confusion_matrix(y_test,pred)\n",
    "#print(result)\n",
    "sns.set(font_scale=1.4)#for label size\n",
    "sns.heatmap(result, annot=True,annot_kws={\"size\": 16}, fmt='g')"
   ]
  },
  {
   "cell_type": "code",
   "execution_count": 0,
   "metadata": {
    "colab": {},
    "colab_type": "code",
    "id": "wxqOb0HukOWj"
   },
   "outputs": [],
   "source": [
    "tfidf_feat = tf_idf_vector.get_feature_names() # tfidf words/col-names\n",
    "\n",
    "def tfidf_w2v_vector(list_of_sent):\n",
    "    #w2v_model=gensim.models.Word2Vec(list_of_sent,min_count=5,size=300)    \n",
    "    sent_vectors = []; # the avg-w2v for each sentence/review is stored in this list\n",
    "    for sent in list_of_sent: # for each review/sentence\n",
    "        sent_vec = np.zeros(300) # as word vectors are of zero length\n",
    "        weight_sum =0; # num of words with a valid vector in the sentence/review\n",
    "        for word in sent: # for each word in a review/sentence\n",
    "            try:\n",
    "                #print (word)\n",
    "                vec = model.wv[word]\n",
    "                #print (vec)\n",
    "                tfidf = final_tf_idf[row, tfidf_feat.index(word)]\n",
    "                sent_vec += (vec*tfidf)\n",
    "                weight_sum += tfidf\n",
    "                cnt_words += 1\n",
    "            except:\n",
    "                pass\n",
    "        if(weight_sum!=0):\n",
    "            sent_vec /= weight_sum\n",
    "        sent_vectors.append(sent_vec)\n",
    "    print(len(sent_vectors))\n",
    "    print(len(sent_vectors[0]))\n",
    "    return (sent_vectors)"
   ]
  },
  {
   "cell_type": "code",
   "execution_count": 0,
   "metadata": {
    "colab": {},
    "colab_type": "code",
    "id": "u7Elg7TUkOWt",
    "outputId": "a237d257-0ffa-4172-ec25-433a8c62168a"
   },
   "outputs": [
    {
     "name": "stderr",
     "output_type": "stream",
     "text": [
      "C:\\Users\\Lenovo\\Anaconda3\\lib\\site-packages\\ipykernel_launcher.py:12: DeprecationWarning: Call to deprecated `wv` (Attribute will be removed in 4.0.0, use self instead).\n",
      "  if sys.path[0] == '':\n"
     ]
    },
    {
     "name": "stdout",
     "output_type": "stream",
     "text": [
      "21000\n",
      "300\n",
      "9000\n",
      "300\n"
     ]
    }
   ],
   "source": [
    "train_tfidf_w2v_data = tfidf_w2v_vector(list_of_sent_train)\n",
    "test_tfidf_w2v_data = tfidf_w2v_vector(list_of_sent_test)"
   ]
  },
  {
   "cell_type": "code",
   "execution_count": 0,
   "metadata": {
    "colab": {},
    "colab_type": "code",
    "id": "8OHGQFpDkOWz"
   },
   "outputs": [],
   "source": [
    "tfidf_w2v_train_data1 = pd.DataFrame(data=train_tfidf_w2v_data)\n",
    "#final_train_w2v_data.shape\n",
    "tfidf_w2v_test_data1 = pd.DataFrame(data=test_tfidf_w2v_data)"
   ]
  },
  {
   "cell_type": "code",
   "execution_count": 0,
   "metadata": {
    "colab": {},
    "colab_type": "code",
    "id": "lNCBIga7kOW4"
   },
   "outputs": [],
   "source": [
    "import pickle\n",
    "with open(\"tfidf_w2v_train_data1.pkl\", \"wb\") as f:\n",
    "    pickle.dump(tfidf_w2v_train_data1, f)\n",
    "    \n",
    "with open(\"tfidf_w2v_train_data1.pkl\", \"rb\") as f:\n",
    "    tfidf_w2v_train_data1 = pickle.load(f)"
   ]
  },
  {
   "cell_type": "code",
   "execution_count": 0,
   "metadata": {
    "colab": {},
    "colab_type": "code",
    "id": "HQpKzTQMkOW8"
   },
   "outputs": [],
   "source": [
    "import pickle\n",
    "with open(\"tfidf_w2v_test_data1.pkl\", \"wb\") as f:\n",
    "    pickle.dump(tfidf_w2v_test_data1, f)\n",
    "    \n",
    "with open(\"tfidf_w2v_test_data1.pkl\", \"rb\") as f:\n",
    "    tfidf_w2v_test_data1 = pickle.load(f)"
   ]
  },
  {
   "cell_type": "code",
   "execution_count": 0,
   "metadata": {
    "colab": {},
    "colab_type": "code",
    "id": "3LUZBnHRkOXA",
    "outputId": "77e557f0-d080-4e3e-a225-01c39661b6de"
   },
   "outputs": [
    {
     "data": {
      "text/plain": [
       "(21000, 300)"
      ]
     },
     "execution_count": 81,
     "metadata": {
      "tags": []
     },
     "output_type": "execute_result"
    }
   ],
   "source": [
    "standardizing  = StandardScaler(with_mean = False)\n",
    "tfidf_w2v_std_data = standardizing.fit_transform(tfidf_w2v_train)\n",
    "tfidf_w2v_std_data.shape"
   ]
  },
  {
   "cell_type": "code",
   "execution_count": 0,
   "metadata": {
    "colab": {},
    "colab_type": "code",
    "id": "aDCFCjjukOXH"
   },
   "outputs": [],
   "source": [
    "from pandas import DataFrame\n",
    "f2=pd.DataFrame(data=tfidf_w2v_std_data)"
   ]
  },
  {
   "cell_type": "code",
   "execution_count": 0,
   "metadata": {
    "colab": {},
    "colab_type": "code",
    "id": "12-pFyTqkOXM",
    "outputId": "94a0e2a0-f114-45c7-a0db-56c96e6e3597"
   },
   "outputs": [
    {
     "name": "stdout",
     "output_type": "stream",
     "text": [
      "\n",
      "The optimal number of neighbors is 5 with 10.961902991577489 error.\n"
     ]
    },
    {
     "data": {
      "image/png": "[encoded data removed]",
      "text/plain": [
       "<Figure size 432x288 with 1 Axes>"
      ]
     },
     "metadata": {
      "tags": []
     },
     "output_type": "display_data"
    },
    {
     "name": "stdout",
     "output_type": "stream",
     "text": [
      "the misclassification error for each k value is :  [0.26572471903741257, 0.26572471903741257, 0.10961902991577488, 0.10961902991577488, 0.10961902991577488, 0.10961902991577488, 0.10961902991577488, 0.10961902991577488, 0.10961902991577488, 0.10961902991577488, 0.10961902991577488, 0.10961902991577488, 0.10961902991577488, 0.10961902991577488, 0.10961902991577488]\n"
     ]
    }
   ],
   "source": [
    "myList = list(range(1,30,2))\n",
    "# empty list that will hold cv scores\n",
    "cv_scores = []\n",
    "\n",
    "# perform 10-fold cross validation\n",
    "for k in myList:\n",
    "    knn = KNeighborsClassifier(n_neighbors=k,algorithm='brute')\n",
    "    scores = cross_val_score(knn,f2, y_train, cv=5, scoring='accuracy')\n",
    "    cv_scores.append(scores.mean())\n",
    "\n",
    "# changing to misclassification error\n",
    "error_tfidf_w2v = [1 - x for x in cv_scores]\n",
    "\n",
    "# determining best k\n",
    "optimal_k = myList[error_tfidf_w2v.index(min(error_tfidf_w2v))]\n",
    "print('\\nThe optimal number of neighbors is {0} with {1} error.'.format(optimal_k,min(error_tfidf_w2v)*100))\n",
    "\n",
    "# plot misclassification error vs k \n",
    "plt.plot(myList, error_tfidf_w2v)\n",
    "plt.xlabel('Number of Neighbors K')\n",
    "plt.ylabel('Misclassification Error')\n",
    "plt.show()\n",
    "\n",
    "print(\"the misclassification error for each k value is : \", error_tfidf_w2v)"
   ]
  },
  {
   "cell_type": "code",
   "execution_count": 0,
   "metadata": {
    "colab": {},
    "colab_type": "code",
    "id": "BX0yRAGgkOXY"
   },
   "outputs": [],
   "source": [
    "from pandas import DataFrame\n",
    "tfidf_w2v_test=pd.DataFrame(data=standardizing.transform(tfidf_w2v_test))"
   ]
  },
  {
   "cell_type": "code",
   "execution_count": 0,
   "metadata": {
    "colab": {},
    "colab_type": "code",
    "id": "qGCYoHQ6kOXd",
    "outputId": "06f54bf2-3dfb-467b-de62-2f40155a9299"
   },
   "outputs": [
    {
     "name": "stdout",
     "output_type": "stream",
     "text": [
      "\n",
      "The accuracy of the knn classifier for k = 5 is 89.588889%\n"
     ]
    }
   ],
   "source": [
    "# instantiate learning model k = optimal_k\n",
    "knn_optimal = KNeighborsClassifier(n_neighbors=optimal_k)\n",
    "\n",
    "# fitting the model\n",
    "knn_optimal.fit(f2, y_train)\n",
    "\n",
    "# predict the response\n",
    "pred = knn_optimal.predict(tfidf_w2v_test)\n",
    "\n",
    "# evaluate accuracy\n",
    "acc = accuracy_score(y_test, pred) * 100\n",
    "print('\\nThe accuracy of the knn classifier for k = %d is %f%%' % (optimal_k, acc))"
   ]
  },
  {
   "cell_type": "code",
   "execution_count": 0,
   "metadata": {
    "colab": {},
    "colab_type": "code",
    "id": "KLJyID1ZkOXr",
    "outputId": "b63c5a38-53b2-4ad9-f8c7-07d2e8c0e5e1"
   },
   "outputs": [
    {
     "data": {
      "text/plain": [
       "<matplotlib.axes._subplots.AxesSubplot at 0xf58015c2b0>"
      ]
     },
     "execution_count": 87,
     "metadata": {
      "tags": []
     },
     "output_type": "execute_result"
    },
    {
     "data": {
      "image/png": "[encoded data removed]",
      "text/plain": [
       "<Figure size 432x288 with 2 Axes>"
      ]
     },
     "metadata": {
      "tags": []
     },
     "output_type": "display_data"
    }
   ],
   "source": [
    "result = confusion_matrix(y_test,pred)\n",
    "#print(result)\n",
    "sns.set(font_scale=1.4)#for label size\n",
    "sns.heatmap(result, annot=True,annot_kws={\"size\": 16}, fmt='g')"
   ]
  },
  {
   "cell_type": "code",
   "execution_count": 0,
   "metadata": {
    "colab": {},
    "colab_type": "code",
    "id": "K-KZQZ1MkOX2",
    "outputId": "3fd3b5f8-054e-4bb3-fe1a-1e7a869be22f"
   },
   "outputs": [
    {
     "name": "stdout",
     "output_type": "stream",
     "text": [
      "\n",
      "The optimal number of neighbors is 19 with 14.899889795693454 error.\n"
     ]
    },
    {
     "data": {
      "image/png": "[encoded data removed]",
      "text/plain": [
       "<Figure size 432x288 with 1 Axes>"
      ]
     },
     "metadata": {
      "tags": []
     },
     "output_type": "display_data"
    },
    {
     "name": "stdout",
     "output_type": "stream",
     "text": [
      "the misclassification error for each k value is :  [0.22228937056139775, 0.1804297431510793, 0.16857401866417798, 0.15671523557045164, 0.15142747463333017, 0.14928522536343358, 0.14928542973702863, 0.14899971428513115, 0.14971257229971024, 0.14899889795693455, 0.14957032652836322, 0.15014216384698165, 0.1498564495612673, 0.1497131842543119, 0.14999869474952288, 0.14971338804481515, 0.14957073410936983, 0.14971297871453382, 0.15028481603315247, 0.15057093906605645, 0.1502850204067473, 0.1502850198236556, 0.15085644956126742, 0.15114236822057658, 0.15142828687988585]\n"
     ]
    }
   ],
   "source": [
    "myList = list(range(1,50,2))\n",
    "\n",
    "# empty list that will hold cv scores\n",
    "cv_scores = []\n",
    "\n",
    "# perform 10-fold cross validation\n",
    "for k in myList:\n",
    "    knn = KNeighborsClassifier(n_neighbors=k,algorithm='kd_tree')\n",
    "    scores = cross_val_score(knn, tfidf_w2v_train, y_train, cv=10, scoring='accuracy')\n",
    "    cv_scores.append(scores.mean())\n",
    "\n",
    "# changing to misclassification error\n",
    "error_tfidf_w2v1 = [1 - x for x in cv_scores]\n",
    "\n",
    "# determining best k\n",
    "optimal_k = myList[error_tfidf_w2v1.index(min(error_tfidf_w2v1))]\n",
    "print('\\nThe optimal number of neighbors is {0} with {1} error.'.format(optimal_k,min(error_tfidf_w2v1)*100))\n",
    "\n",
    "# plot misclassification error vs k \n",
    "plt.plot(myList, error_tfidf_w2v1)\n",
    "plt.xlabel('Number of Neighbors K')\n",
    "plt.ylabel('Misclassification Error')\n",
    "plt.show()\n",
    "\n",
    "print(\"the misclassification error for each k value is : \",error_tfidf_w2v1)"
   ]
  },
  {
   "cell_type": "code",
   "execution_count": 0,
   "metadata": {
    "colab": {},
    "colab_type": "code",
    "id": "HFQBy50AkOX7",
    "outputId": "27b9801f-a117-4ab9-dd92-6452f8737c1b"
   },
   "outputs": [
    {
     "name": "stdout",
     "output_type": "stream",
     "text": [
      "\n",
      "The accuracy of the knn classifier for k = 19 is 82.266667%\n"
     ]
    }
   ],
   "source": [
    "# instantiate learning model k = optimal_k\n",
    "knn_optimal = KNeighborsClassifier(n_neighbors=optimal_k,algorithm='kd_tree')\n",
    "\n",
    "# fitting the model\n",
    "knn_optimal.fit(tfidf_w2v_train, y_train)\n",
    "\n",
    "# predict the response\n",
    "pred = knn_optimal.predict(tfidf_w2v_test)\n",
    "\n",
    "# evaluate accuracy\n",
    "acc = accuracy_score(y_test, pred) * 100\n",
    "print('\\nThe accuracy of the knn classifier for k = %d is %f%%' % (optimal_k, acc))"
   ]
  },
  {
   "cell_type": "code",
   "execution_count": 0,
   "metadata": {
    "colab": {},
    "colab_type": "code",
    "id": "FShwHAU2kOYI",
    "outputId": "2d89eef1-2386-47d0-cbc6-ce0a7dc46ebb"
   },
   "outputs": [
    {
     "name": "stdout",
     "output_type": "stream",
     "text": [
      "33 518 14 2435\n"
     ]
    }
   ],
   "source": [
    "tn,fp,fn,tp = confusion_matrix(y_test,pred).ravel()\n",
    "print (tn,fp,fn,tp)"
   ]
  },
  {
   "cell_type": "code",
   "execution_count": 0,
   "metadata": {
    "colab": {},
    "colab_type": "code",
    "id": "Xj5mYYMIkOYP"
   },
   "outputs": [],
   "source": []
  }
 ],
 "metadata": {
  "accelerator": "GPU",
  "colab": {
   "collapsed_sections": [],
   "name": "Amazon knn assignment.ipynb",
   "provenance": [],
   "toc_visible": true,
   "version": "0.3.2"
  },
  "kernelspec": {
   "display_name": "Python 3",
   "language": "python",
   "name": "python3"
  },
  "language_info": {
   "codemirror_mode": {
    "name": "ipython",
    "version": 3
   },
   "file_extension": ".py",
   "mimetype": "text/x-python",
   "name": "python",
   "nbconvert_exporter": "python",
   "pygments_lexer": "ipython3",
   "version": "3.5.5"
  }
 },
 "nbformat": 4,
 "nbformat_minor": 1
}
